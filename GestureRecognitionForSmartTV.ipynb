{
  "cells": [
    {
      "cell_type": "markdown",
      "metadata": {
        "id": "4eT2_XI6POQ7"
      },
      "source": [
        "# Gesture Recognition\n",
        "In this group project, you are going to build a 3D Conv model that will be able to predict the 5 gestures correctly. Please import the following libraries to get started."
      ]
    },
    {
      "cell_type": "code",
      "execution_count": 4,
      "metadata": {
        "colab": {
          "base_uri": "https://localhost:8080/"
        },
        "id": "Hk4338iuQRgz",
        "outputId": "25ac3627-8f60-4a76-e670-2c4b5bffd2a3"
      },
      "outputs": [
        {
          "output_type": "stream",
          "name": "stdout",
          "text": [
            "Mounted at /content/drive\n"
          ]
        }
      ],
      "source": [
        "# Mounting drive to import data\n",
        "from google.colab import drive\n",
        "drive.mount('/content/drive')"
      ]
    },
    {
      "cell_type": "code",
      "execution_count": 2,
      "metadata": {
        "colab": {
          "base_uri": "https://localhost:8080/",
          "height": 35
        },
        "id": "QrhJkyZT5b18",
        "outputId": "98181ea5-7381-467d-9af8-320b46ccac87"
      },
      "outputs": [
        {
          "output_type": "execute_result",
          "data": {
            "application/vnd.google.colaboratory.intrinsic+json": {
              "type": "string"
            },
            "text/plain": [
              "''"
            ]
          },
          "metadata": {},
          "execution_count": 2
        }
      ],
      "source": [
        "#import tensorflow as tf\n",
        "#tf.test.gpu_device_name()"
      ]
    },
    {
      "cell_type": "code",
      "execution_count": 3,
      "metadata": {
        "colab": {
          "base_uri": "https://localhost:8080/",
          "height": 393
        },
        "id": "lJ_LLObvRXZY",
        "outputId": "71ca0bef-c25c-441d-aea7-cb8318a4d967"
      },
      "outputs": [
        {
          "output_type": "stream",
          "name": "stdout",
          "text": [
            "Collecting scipy==1.1.0\n",
            "  Downloading scipy-1.1.0-cp37-cp37m-manylinux1_x86_64.whl (31.2 MB)\n",
            "\u001b[K     |████████████████████████████████| 31.2 MB 33.9 MB/s \n",
            "\u001b[?25hRequirement already satisfied: numpy>=1.8.2 in /usr/local/lib/python3.7/dist-packages (from scipy==1.1.0) (1.21.5)\n",
            "Installing collected packages: scipy\n",
            "  Attempting uninstall: scipy\n",
            "    Found existing installation: scipy 1.4.1\n",
            "    Uninstalling scipy-1.4.1:\n",
            "      Successfully uninstalled scipy-1.4.1\n",
            "\u001b[31mERROR: pip's dependency resolver does not currently take into account all the packages that are installed. This behaviour is the source of the following dependency conflicts.\n",
            "pymc3 3.11.4 requires scipy>=1.2.0, but you have scipy 1.1.0 which is incompatible.\n",
            "plotnine 0.6.0 requires scipy>=1.2.0, but you have scipy 1.1.0 which is incompatible.\n",
            "jax 0.3.1 requires scipy>=1.2.1, but you have scipy 1.1.0 which is incompatible.\n",
            "albumentations 0.1.12 requires imgaug<0.2.7,>=0.2.5, but you have imgaug 0.2.9 which is incompatible.\u001b[0m\n",
            "Successfully installed scipy-1.1.0\n"
          ]
        },
        {
          "output_type": "display_data",
          "data": {
            "application/vnd.colab-display-data+json": {
              "pip_warning": {
                "packages": [
                  "scipy"
                ]
              }
            }
          },
          "metadata": {}
        }
      ],
      "source": [
        "#pip install scipy==1.1.0"
      ]
    },
    {
      "cell_type": "code",
      "execution_count": 1,
      "metadata": {
        "id": "MjLdIvC8PORF"
      },
      "outputs": [],
      "source": [
        "#Importing required libraries\n",
        "import numpy as np\n",
        "import os\n",
        "from skimage import io\n",
        "import os\n",
        "import glob\n",
        "from scipy.misc import imread, imresize\n",
        "import matplotlib.pyplot as plt\n",
        "import tensorflow as tf\n",
        "import datetime\n",
        "import os\n"
      ]
    },
    {
      "cell_type": "markdown",
      "metadata": {
        "id": "Q6sEBOJrPORH"
      },
      "source": [
        "We set the random seed so that the results don't vary drastically."
      ]
    },
    {
      "cell_type": "code",
      "execution_count": 2,
      "metadata": {
        "id": "TnCBibryPORI"
      },
      "outputs": [],
      "source": [
        "np.random.seed(30)\n",
        "import random as rn\n",
        "rn.seed(30)\n",
        "from keras import backend as K\n",
        "import tensorflow as tf\n",
        "tf.random.set_seed(30)"
      ]
    },
    {
      "cell_type": "markdown",
      "metadata": {
        "id": "M9W51plSPORI"
      },
      "source": [
        "In this block, you read the folder names for training and validation. You also set the `batch_size` here. Note that you set the batch size in such a way that you are able to use the GPU in full capacity. You keep increasing the batch size until the machine throws an error."
      ]
    },
    {
      "cell_type": "code",
      "execution_count": 5,
      "metadata": {
        "id": "uTWB0YBfPORJ"
      },
      "outputs": [],
      "source": [
        "train_doc = np.random.permutation(open('/content/drive/MyDrive/AIML/ColabNotebooks/RNN/RNNAssignmentGestureRecognition/Project_data/train.csv').readlines())\n",
        "val_doc = np.random.permutation(open('/content/drive/MyDrive/AIML/ColabNotebooks/RNN/RNNAssignmentGestureRecognition/Project_data/val.csv').readlines())\n",
        "# Select batch size in such a way that:\n",
        "# 1. It is in powers of 2\n",
        "# 2. The batch occupies maximum memory. The idea is to train maximum data that can be fit in memory\n"
      ]
    },
    {
      "cell_type": "code",
      "execution_count": 4,
      "metadata": {
        "colab": {
          "base_uri": "https://localhost:8080/"
        },
        "id": "TNbJ0cYlK66q",
        "outputId": "f432a666-f04f-4054-f836-7ea7689b26d8"
      },
      "outputs": [
        {
          "output_type": "stream",
          "name": "stdout",
          "text": [
            "[[[0.68627451 0.70588235 0.69803922]\n",
            "  [0.69803922 0.71764706 0.71372549]\n",
            "  [0.71764706 0.7372549  0.72941176]\n",
            "  ...\n",
            "  [0.51764706 0.51764706 0.47058824]\n",
            "  [0.50980392 0.50588235 0.4627451 ]\n",
            "  [0.50588235 0.50196078 0.45882353]]\n",
            "\n",
            " [[0.68627451 0.70588235 0.69803922]\n",
            "  [0.69411765 0.71372549 0.70588235]\n",
            "  [0.71764706 0.7372549  0.72941176]\n",
            "  ...\n",
            "  [0.51764706 0.51764706 0.47058824]\n",
            "  [0.51372549 0.50980392 0.46666667]\n",
            "  [0.50980392 0.50588235 0.4627451 ]]\n",
            "\n",
            " [[0.68627451 0.70588235 0.69803922]\n",
            "  [0.69803922 0.71764706 0.71372549]\n",
            "  [0.71764706 0.7372549  0.72941176]\n",
            "  ...\n",
            "  [0.50588235 0.50196078 0.45882353]\n",
            "  [0.50588235 0.50196078 0.45098039]\n",
            "  [0.50588235 0.50196078 0.45882353]]\n",
            "\n",
            " ...\n",
            "\n",
            " [[0.         0.         0.        ]\n",
            "  [0.         0.         0.        ]\n",
            "  [0.         0.         0.        ]\n",
            "  ...\n",
            "  [0.52156863 0.49411765 0.50196078]\n",
            "  [0.49019608 0.45882353 0.47058824]\n",
            "  [0.35686275 0.32941176 0.32941176]]\n",
            "\n",
            " [[0.00784314 0.         0.        ]\n",
            "  [0.00784314 0.         0.        ]\n",
            "  [0.         0.         0.        ]\n",
            "  ...\n",
            "  [0.43921569 0.41176471 0.41960784]\n",
            "  [0.4627451  0.43137255 0.45098039]\n",
            "  [0.37647059 0.34509804 0.35686275]]\n",
            "\n",
            " [[0.00784314 0.         0.        ]\n",
            "  [0.00784314 0.         0.        ]\n",
            "  [0.         0.         0.        ]\n",
            "  ...\n",
            "  [0.49411765 0.46666667 0.4745098 ]\n",
            "  [0.45098039 0.42352941 0.44313725]\n",
            "  [0.39215686 0.36470588 0.38039216]]]\n"
          ]
        }
      ],
      "source": [
        "#Checking if cropping and resizing is working on sample image\n",
        "sample_path = os.path.join('/content/drive/MyDrive/AIML/ColabNotebooks/RNN/RNNAssignmentGestureRecognition/Project_data/train/', train_doc[180].split(';')[0], '*')\n",
        "sample = glob.glob(sample_path)\n",
        "sample = io.imread(sample[12])\n",
        "sample_cropped1 = sample[10:-10,10:-10]\n",
        "sample_cropped1 = sample_cropped1/255\n",
        "print(sample_cropped1)\n",
        "plt.show()"
      ]
    },
    {
      "cell_type": "markdown",
      "metadata": {
        "id": "vsyQiL-cPORK"
      },
      "source": [
        "## Generator\n",
        "This is one of the most important part of the code. The overall structure of the generator has been given. In the generator, you are going to preprocess the images as you have images of 2 different dimensions as well as create a batch of video frames. You have to experiment with `img_idx`, `y`,`z` and normalization such that you get high accuracy."
      ]
    },
    {
      "cell_type": "code",
      "execution_count": 6,
      "metadata": {
        "id": "I6sAGQN0kaw_"
      },
      "outputs": [],
      "source": [
        "#Experimenting on different image index and batch size. Will start with lower batch size and gradually increase according to results.\n",
        "#img_idx = [0,2,4,6,8,10,12,14,16,18,20,22,24,26,28] #create a list of image numbers you want to use for a particular video\n",
        "#batch_size = 15\n",
        "\n",
        "#img_idx = [0,2,4,6,8,10,11,12,13,14,15,16,17,18,20,22,24,25,26,27,28] #create a list of image numbers you want to use for a particular video\n",
        "#batch_size = 21\n",
        "\n",
        "# hyper params, base settings\n",
        "\n",
        "batch_size = 32 #experiment with the batch size\n",
        "\n",
        "# skip images in start and end, use all images in middle\n",
        "img_idx = [1,3,5,7,9,11,12,13,14,15,16,17,18,19,21,23,25,27,29]\n",
        "\n"
      ]
    },
    {
      "cell_type": "code",
      "execution_count": 7,
      "metadata": {
        "id": "Z5KHQDrYPORK"
      },
      "outputs": [],
      "source": [
        "#Generator function which will return each batch with cropped and resized image\n",
        "def generator(source_path, folder_list, batch_size):\n",
        "    print( 'Source path = ', source_path, '; batch size =', batch_size)\n",
        "    \n",
        "    while True:\n",
        "        t = np.random.permutation(folder_list)\n",
        "        num_batches = len(folder_list)//batch_size # calculate the number of batches\n",
        "        #astype(np.float32)\n",
        "        for batch in range(num_batches): # we iterate over the number of batches\n",
        "            #batch_data = np.zeros((batch_size,x,y,z,3)) # x is the number of images you use for each video, (y,z) is the final size of the input images and 3 is the number of channels RGB\n",
        "            batch_data = np.zeros((batch_size,len(img_idx),120,120,3))\n",
        "            batch_labels = np.zeros((batch_size,5)) # batch_labels is the one hot representation of the output\n",
        "            for folder in range(batch_size): # iterate over the batch_size\n",
        "                imgs = os.listdir(source_path+'/'+ t[folder + (batch*batch_size)].split(';')[0]) # read all the images in the folder\n",
        "                for idx,item in enumerate(img_idx): #  Iterate iver the frames/images of a folder to read them in\n",
        "                    image = imread(source_path+'/'+ t[folder + (batch*batch_size)].strip().split(';')[0]+'/'+imgs[item]).astype(np.float32)\n",
        "                    \n",
        "                    #crop the images and resize them. Note that the images are of 2 different shape \n",
        "                    image = image[20:-20,20:-20] #cropping image by chipping off 20 pixels on all sides\n",
        "\n",
        "                    #and the conv3D will throw error if the inputs in a batch have different shapes\n",
        "                    # resizing the images\n",
        "                    \n",
        "                    image_resized=imresize(image, (120,120))\n",
        "                    \n",
        "                    batch_data[folder,idx,:,:,0] = (image_resized[:,:,0])/255\n",
        "                    batch_data[folder,idx,:,:,1] = (image_resized[:,:,1])/255\n",
        "                    batch_data[folder,idx,:,:,2] = (image_resized[:,:,2])/255\n",
        "\n",
        "                batch_labels[folder, int(t[folder + (batch*batch_size)].strip().split(';')[2])] = 1\n",
        "            yield batch_data, batch_labels #you yield the batch_data and the batch_labels, remember what does yield do\n",
        "\n",
        "        \n",
        "        # write the code for the remaining data points which are left after full batches\n",
        "        #remaining_batches = len(train_doc)%batch_size\n",
        "        remaining_batches =len (folder_list) % batch_size\n",
        "        for batch in range(remaining_batches): # we iterate over the number of batches\n",
        "            #batch_data = np.zeros((batch_size,x,y,z,3)) # x is the number of images you use for each video, (y,z) is the final size of the input images and 3 is the number of channels RGB\n",
        "            batch_data = np.zeros((remaining_batches,len(img_idx),120,120,3))\n",
        "            batch_labels = np.zeros((remaining_batches,5)) # batch_labels is the one hot representation of the output\n",
        "            for folder in range(remaining_batches): # iterate over the batch_size\n",
        "                imgs = os.listdir(source_path+'/'+ t[folder + (batch*remaining_batches)].split(';')[0]) # read all the images in the folder\n",
        "                for idx,item in enumerate(img_idx): #  Iterate iver the frames/images of a folder to read them in\n",
        "                    image = imread(source_path+'/'+ t[folder + (batch*remaining_batches)].strip().split(';')[0]+'/'+imgs[item]).astype(np.float32)\n",
        "                    \n",
        "                    #crop the images and resize them. Note that the images are of 2 different shape \n",
        "                    image = image[20:-20,20:-20] #cropping image by chipping off 20 pixels on all sides\n",
        "\n",
        "                    # resizing the images\n",
        "                    image_resized=imresize(image, (120,120))\n",
        "                    \n",
        "                    batch_data[folder,idx,:,:,0] = (image_resized[:,:,0])/255\n",
        "                    batch_data[folder,idx,:,:,1] = (image_resized[:,:,1])/255\n",
        "                    batch_data[folder,idx,:,:,2] = (image_resized[:,:,2])/255\n",
        "                    \n",
        "                batch_labels[folder, int(t[folder + (batch*remaining_batches)].strip().split(';')[2])] = 1\n",
        "            yield batch_data, batch_labels #you yield the batch_data and the batch_labels, remember what does yield do"
      ]
    },
    {
      "cell_type": "markdown",
      "metadata": {
        "id": "HSY1SfQxPORM"
      },
      "source": [
        "Note here that a video is represented above in the generator as (number of images, height, width, number of channels). Take this into consideration while creating the model architecture."
      ]
    },
    {
      "cell_type": "code",
      "execution_count": 8,
      "metadata": {
        "colab": {
          "base_uri": "https://localhost:8080/"
        },
        "id": "rlr4KoUmPORN",
        "outputId": "d1b173a8-1014-41ca-e2b8-03c75eff776a"
      },
      "outputs": [
        {
          "output_type": "stream",
          "name": "stdout",
          "text": [
            "# training sequences = 663\n",
            "# validation sequences = 100\n",
            "# epochs = 50\n"
          ]
        }
      ],
      "source": [
        "#Setting the train and validation sequence path and checking counts\n",
        "curr_dt_time = datetime.datetime.now()\n",
        "train_path = '/content/drive/MyDrive/AIML/ColabNotebooks/RNN/RNNAssignmentGestureRecognition/Project_data/train'\n",
        "val_path = '/content/drive/MyDrive/AIML/ColabNotebooks/RNN/RNNAssignmentGestureRecognition/Project_data/val'\n",
        "num_train_sequences = len(train_doc)\n",
        "print('# training sequences =', num_train_sequences)\n",
        "num_val_sequences = len(val_doc)\n",
        "print('# validation sequences =', num_val_sequences)\n",
        "num_epochs = 50 # choose the number of epochs\n",
        "print ('# epochs =', num_epochs)"
      ]
    },
    {
      "cell_type": "markdown",
      "metadata": {
        "id": "JSi3357dPORO"
      },
      "source": [
        "## Model\n",
        "Here you make the model using different functionalities that Keras provides. Remember to use `Conv3D` and `MaxPooling3D` and not `Conv2D` and `Maxpooling2D` for a 3D convolution model. You would want to use `TimeDistributed` while building a Conv2D + RNN model. Also remember that the last layer is the softmax. Design the network in such a way that the model is able to give good accuracy on the least number of parameters so that it can fit in the memory of the webcam."
      ]
    },
    {
      "cell_type": "code",
      "execution_count": null,
      "metadata": {
        "id": "kUAbl3b2_gxL"
      },
      "outputs": [],
      "source": [
        "# Creating a Conv2D Model + RNN"
      ]
    },
    {
      "cell_type": "markdown",
      "source": [
        " **Creating a base model: Conv2D + RNN(LSTM)**"
      ],
      "metadata": {
        "id": "bYabRdawmD9D"
      }
    },
    {
      "cell_type": "code",
      "execution_count": 9,
      "metadata": {
        "id": "ZfIJUJWjPORO"
      },
      "outputs": [],
      "source": [
        "#Importing required libraries\n",
        "from keras.models import Sequential, Model\n",
        "from keras.layers import Dense, LSTM, GRU, Flatten, TimeDistributed, Flatten, BatchNormalization, Activation, Dropout\n",
        "from keras.layers.convolutional import Conv3D, MaxPooling3D\n",
        "from tensorflow.keras.layers import Conv3D, MaxPooling3D, Conv2D, MaxPooling2D\n",
        "from keras.callbacks import ModelCheckpoint, ReduceLROnPlateau, EarlyStopping\n",
        "from keras import optimizers\n",
        "\n",
        "\n"
      ]
    },
    {
      "cell_type": "code",
      "execution_count": null,
      "metadata": {
        "id": "fYY0foabOdYh"
      },
      "outputs": [],
      "source": [
        "#write your model here\n",
        "\n",
        "Input_shape= (15, 120, 120, 3)\n",
        "\n",
        "model = Sequential()\n",
        "model.add(TimeDistributed(Conv2D(32, (3, 3), strides=(2,2), activation='relu', padding='same'), input_shape=Input_shape))\n",
        "model.add(TimeDistributed(BatchNormalization()))\n",
        "model.add(TimeDistributed(MaxPooling2D((2,2), strides=(2,2))))\n",
        "\n",
        "model.add(TimeDistributed(Conv2D(32, (3,3), padding='same', activation='relu')))\n",
        "model.add(TimeDistributed(BatchNormalization()))\n",
        "model.add(TimeDistributed(MaxPooling2D((2,2), strides=(2,2))))\n",
        "\n",
        "model.add(TimeDistributed(Conv2D(64, (3,3), padding='same', activation='relu')))\n",
        "model.add(TimeDistributed(BatchNormalization()))\n",
        "model.add(TimeDistributed(MaxPooling2D((2,2), strides=(2,2))))\n",
        "\n",
        "model.add(TimeDistributed(Conv2D(128, (3,3), padding='same', activation='relu')))\n",
        "model.add(TimeDistributed(BatchNormalization()))\n",
        "model.add(TimeDistributed(MaxPooling2D((2,2), strides=(2,2))))\n",
        "\n",
        "model.add(TimeDistributed(Flatten()))\n",
        "\n",
        "model.add(Dense(256, activation='relu'))\n",
        "#model.add(Dropout (0.5))\n",
        "model.add(Dense(256, activation='relu'))\n",
        "#model.add(Dropout (0.5))\n",
        "\n",
        "model.add(LSTM(512, return_sequences=False, dropout=0.5))\n",
        "model.add(Dense(5, activation='softmax'))"
      ]
    },
    {
      "cell_type": "markdown",
      "metadata": {
        "id": "AdUNUCSsPORP"
      },
      "source": [
        "Now that you have written the model, the next step is to `compile` the model. When you print the `summary` of the model, you'll see the total number of parameters you have to train."
      ]
    },
    {
      "cell_type": "code",
      "execution_count": null,
      "metadata": {
        "colab": {
          "base_uri": "https://localhost:8080/"
        },
        "id": "lloz9yPlPORP",
        "outputId": "6b18a0dd-96d0-4501-a97d-011097b264a5",
        "scrolled": true
      },
      "outputs": [
        {
          "name": "stdout",
          "output_type": "stream",
          "text": [
            "Model: \"sequential\"\n",
            "_________________________________________________________________\n",
            " Layer (type)                Output Shape              Param #   \n",
            "=================================================================\n",
            " time_distributed (TimeDistr  (None, 15, 60, 60, 32)   896       \n",
            " ibuted)                                                         \n",
            "                                                                 \n",
            " time_distributed_1 (TimeDis  (None, 15, 60, 60, 32)   128       \n",
            " tributed)                                                       \n",
            "                                                                 \n",
            " time_distributed_2 (TimeDis  (None, 15, 30, 30, 32)   0         \n",
            " tributed)                                                       \n",
            "                                                                 \n",
            " time_distributed_3 (TimeDis  (None, 15, 30, 30, 32)   9248      \n",
            " tributed)                                                       \n",
            "                                                                 \n",
            " time_distributed_4 (TimeDis  (None, 15, 30, 30, 32)   128       \n",
            " tributed)                                                       \n",
            "                                                                 \n",
            " time_distributed_5 (TimeDis  (None, 15, 15, 15, 32)   0         \n",
            " tributed)                                                       \n",
            "                                                                 \n",
            " time_distributed_6 (TimeDis  (None, 15, 15, 15, 64)   18496     \n",
            " tributed)                                                       \n",
            "                                                                 \n",
            " time_distributed_7 (TimeDis  (None, 15, 15, 15, 64)   256       \n",
            " tributed)                                                       \n",
            "                                                                 \n",
            " time_distributed_8 (TimeDis  (None, 15, 7, 7, 64)     0         \n",
            " tributed)                                                       \n",
            "                                                                 \n",
            " time_distributed_9 (TimeDis  (None, 15, 7, 7, 128)    73856     \n",
            " tributed)                                                       \n",
            "                                                                 \n",
            " time_distributed_10 (TimeDi  (None, 15, 7, 7, 128)    512       \n",
            " stributed)                                                      \n",
            "                                                                 \n",
            " time_distributed_11 (TimeDi  (None, 15, 3, 3, 128)    0         \n",
            " stributed)                                                      \n",
            "                                                                 \n",
            " time_distributed_12 (TimeDi  (None, 15, 1152)         0         \n",
            " stributed)                                                      \n",
            "                                                                 \n",
            " dense (Dense)               (None, 15, 256)           295168    \n",
            "                                                                 \n",
            " dense_1 (Dense)             (None, 15, 256)           65792     \n",
            "                                                                 \n",
            " lstm (LSTM)                 (None, 512)               1574912   \n",
            "                                                                 \n",
            " dense_2 (Dense)             (None, 5)                 2565      \n",
            "                                                                 \n",
            "=================================================================\n",
            "Total params: 2,041,957\n",
            "Trainable params: 2,041,445\n",
            "Non-trainable params: 512\n",
            "_________________________________________________________________\n",
            "None\n"
          ]
        }
      ],
      "source": [
        "optimiser = 'adam'#write your optimizer\n",
        "model.compile(optimizer=optimiser, loss='categorical_crossentropy', metrics=['categorical_accuracy'])\n",
        "print (model.summary())"
      ]
    },
    {
      "cell_type": "markdown",
      "metadata": {
        "id": "VNf4ZTVWPORQ"
      },
      "source": [
        "Let us create the `train_generator` and the `val_generator` which will be used in `.fit_generator`."
      ]
    },
    {
      "cell_type": "code",
      "execution_count": null,
      "metadata": {
        "id": "98jeHPfRPORQ"
      },
      "outputs": [],
      "source": [
        "train_generator = generator(train_path, train_doc, batch_size)\n",
        "val_generator = generator(val_path, val_doc, batch_size)"
      ]
    },
    {
      "cell_type": "code",
      "execution_count": null,
      "metadata": {
        "colab": {
          "base_uri": "https://localhost:8080/"
        },
        "id": "IbhuXj4gPORQ",
        "outputId": "9b95f0d1-ba92-4706-c73b-e2481221c036"
      },
      "outputs": [
        {
          "name": "stdout",
          "output_type": "stream",
          "text": [
            "WARNING:tensorflow:`period` argument is deprecated. Please use `save_freq` to specify the frequency in number of batches seen.\n"
          ]
        }
      ],
      "source": [
        "#saving the models in h5 file\n",
        "model_name = 'model_init' + '_' + str(curr_dt_time).replace(' ','').replace(':','_') + '/'\n",
        "    \n",
        "if not os.path.exists(model_name):\n",
        "    os.mkdir(model_name)\n",
        "        \n",
        "filepath = model_name + 'model-{epoch:05d}-{loss:.5f}-{categorical_accuracy:.5f}-{val_loss:.5f}-{val_categorical_accuracy:.5f}.h5'\n",
        "\n",
        "checkpoint = ModelCheckpoint(filepath, monitor='val_loss', verbose=1, save_best_only=False, save_weights_only=False, mode='auto', period=1)\n",
        "\n",
        "LR = ReduceLROnPlateau(monitor = \"val_loss\", factor = 0.5, patience=5, verbose=1, min_lr = 0) # write the REducelronplateau code here\n",
        "callbacks_list = [checkpoint, LR]"
      ]
    },
    {
      "cell_type": "markdown",
      "metadata": {
        "id": "7bBSID4MPORR"
      },
      "source": [
        "The `steps_per_epoch` and `validation_steps` are used by `fit_generator` to decide the number of next() calls it need to make."
      ]
    },
    {
      "cell_type": "code",
      "execution_count": null,
      "metadata": {
        "id": "Btf4sHWmPORR"
      },
      "outputs": [],
      "source": [
        "if (num_train_sequences%batch_size) == 0:\n",
        "    steps_per_epoch = int(num_train_sequences/batch_size)\n",
        "else:\n",
        "    steps_per_epoch = (num_train_sequences//batch_size) + 1\n",
        "\n",
        "if (num_val_sequences%batch_size) == 0:\n",
        "    validation_steps = int(num_val_sequences/batch_size)\n",
        "else:\n",
        "    validation_steps = (num_val_sequences//batch_size) + 1"
      ]
    },
    {
      "cell_type": "markdown",
      "metadata": {
        "id": "lL6eZ0aTPORR"
      },
      "source": [
        "Let us now fit the model. This will start training the model and with the help of the checkpoints, you'll be able to save the model at the end of each epoch."
      ]
    },
    {
      "cell_type": "code",
      "execution_count": null,
      "metadata": {
        "colab": {
          "base_uri": "https://localhost:8080/"
        },
        "id": "t70efDcrPORS",
        "outputId": "2514168c-c30e-4ec6-da28-ff579b426bdf"
      },
      "outputs": [
        {
          "name": "stderr",
          "output_type": "stream",
          "text": [
            "/usr/local/lib/python3.7/dist-packages/ipykernel_launcher.py:3: UserWarning: `Model.fit_generator` is deprecated and will be removed in a future version. Please use `Model.fit`, which supports generators.\n",
            "  This is separate from the ipykernel package so we can avoid doing imports until\n"
          ]
        },
        {
          "name": "stdout",
          "output_type": "stream",
          "text": [
            "Source path =  /content/drive/MyDrive/AIML/ColabNotebooks/RNN/RNNAssignmentGestureRecognition/Project_data/train ; batch size = 15\n"
          ]
        },
        {
          "name": "stderr",
          "output_type": "stream",
          "text": [
            "/usr/local/lib/python3.7/dist-packages/ipykernel_launcher.py:15: DeprecationWarning:     `imread` is deprecated!\n",
            "    `imread` is deprecated in SciPy 1.0.0, and will be removed in 1.2.0.\n",
            "    Use ``imageio.imread`` instead.\n",
            "  from ipykernel import kernelapp as app\n",
            "/usr/local/lib/python3.7/dist-packages/ipykernel_launcher.py:24: DeprecationWarning:     `imresize` is deprecated!\n",
            "    `imresize` is deprecated in SciPy 1.0.0, and will be removed in 1.2.0.\n",
            "    Use ``skimage.transform.resize`` instead.\n"
          ]
        },
        {
          "name": "stdout",
          "output_type": "stream",
          "text": [
            "Epoch 1/10\n",
            "44/45 [============================>.] - ETA: 1:54 - loss: 1.2393 - categorical_accuracy: 0.4955"
          ]
        },
        {
          "name": "stderr",
          "output_type": "stream",
          "text": [
            "/usr/local/lib/python3.7/dist-packages/ipykernel_launcher.py:48: DeprecationWarning:     `imread` is deprecated!\n",
            "    `imread` is deprecated in SciPy 1.0.0, and will be removed in 1.2.0.\n",
            "    Use ``imageio.imread`` instead.\n",
            "/usr/local/lib/python3.7/dist-packages/ipykernel_launcher.py:54: DeprecationWarning:     `imresize` is deprecated!\n",
            "    `imresize` is deprecated in SciPy 1.0.0, and will be removed in 1.2.0.\n",
            "    Use ``skimage.transform.resize`` instead.\n"
          ]
        },
        {
          "name": "stdout",
          "output_type": "stream",
          "text": [
            "\b\b\b\b\b\b\b\b\b\b\b\b\b\b\b\b\b\b\b\b\b\b\b\b\b\b\b\b\b\b\b\b\b\b\b\b\b\b\b\b\b\b\b\b\b\b\b\b\b\b\b\b\b\b\b\b\b\b\b\b\b\b\b\b\b\b\b\b\b\b\b\b\b\b\b\b\b\b\b\b\b\b\b\b\b\b\b\b\b\b\b\b\b\b\b\b\r45/45 [==============================] - ETA: 0s - loss: 1.2273 - categorical_accuracy: 0.5007  Source path =  /content/drive/MyDrive/AIML/ColabNotebooks/RNN/RNNAssignmentGestureRecognition/Project_data/val ; batch size = 15\n",
            "\n",
            "Epoch 1: saving model to model_init_2022-02-2413_28_58.574848/model-00001-1.22728-0.50074-2.18174-0.15238.h5\n",
            "45/45 [==============================] - 5649s 128s/step - loss: 1.2273 - categorical_accuracy: 0.5007 - val_loss: 2.1817 - val_categorical_accuracy: 0.1524 - lr: 0.0010\n",
            "Epoch 2/10\n",
            "45/45 [==============================] - ETA: 0s - loss: 0.8286 - categorical_accuracy: 0.6815\n",
            "Epoch 2: saving model to model_init_2022-02-2413_28_58.574848/model-00002-0.82864-0.68148-3.19133-0.14286.h5\n",
            "45/45 [==============================] - 149s 3s/step - loss: 0.8286 - categorical_accuracy: 0.6815 - val_loss: 3.1913 - val_categorical_accuracy: 0.1429 - lr: 0.0010\n",
            "Epoch 3/10\n",
            "45/45 [==============================] - ETA: 0s - loss: 0.5700 - categorical_accuracy: 0.7941\n",
            "Epoch 3: saving model to model_init_2022-02-2413_28_58.574848/model-00003-0.56998-0.79407-3.06133-0.14286.h5\n",
            "45/45 [==============================] - 96s 2s/step - loss: 0.5700 - categorical_accuracy: 0.7941 - val_loss: 3.0613 - val_categorical_accuracy: 0.1429 - lr: 0.0010\n",
            "Epoch 4/10\n",
            "45/45 [==============================] - ETA: 0s - loss: 0.3474 - categorical_accuracy: 0.8681\n",
            "Epoch 4: saving model to model_init_2022-02-2413_28_58.574848/model-00004-0.34736-0.86815-3.34869-0.15238.h5\n",
            "45/45 [==============================] - 72s 2s/step - loss: 0.3474 - categorical_accuracy: 0.8681 - val_loss: 3.3487 - val_categorical_accuracy: 0.1524 - lr: 0.0010\n",
            "Epoch 5/10\n",
            "45/45 [==============================] - ETA: 0s - loss: 0.2462 - categorical_accuracy: 0.9111\n",
            "Epoch 5: saving model to model_init_2022-02-2413_28_58.574848/model-00005-0.24619-0.91111-2.99456-0.27619.h5\n",
            "45/45 [==============================] - 72s 2s/step - loss: 0.2462 - categorical_accuracy: 0.9111 - val_loss: 2.9946 - val_categorical_accuracy: 0.2762 - lr: 0.0010\n",
            "Epoch 6/10\n",
            "45/45 [==============================] - ETA: 0s - loss: 0.3328 - categorical_accuracy: 0.8770\n",
            "Epoch 6: saving model to model_init_2022-02-2413_28_58.574848/model-00006-0.33276-0.87704-2.84649-0.26667.h5\n",
            "\n",
            "Epoch 6: ReduceLROnPlateau reducing learning rate to 0.0005000000237487257.\n",
            "45/45 [==============================] - 70s 2s/step - loss: 0.3328 - categorical_accuracy: 0.8770 - val_loss: 2.8465 - val_categorical_accuracy: 0.2667 - lr: 0.0010\n",
            "Epoch 7/10\n",
            "45/45 [==============================] - ETA: 0s - loss: 0.1267 - categorical_accuracy: 0.9644\n",
            "Epoch 7: saving model to model_init_2022-02-2413_28_58.574848/model-00007-0.12667-0.96444-3.45403-0.33333.h5\n",
            "45/45 [==============================] - 72s 2s/step - loss: 0.1267 - categorical_accuracy: 0.9644 - val_loss: 3.4540 - val_categorical_accuracy: 0.3333 - lr: 5.0000e-04\n",
            "Epoch 8/10\n",
            "45/45 [==============================] - ETA: 0s - loss: 0.0332 - categorical_accuracy: 0.9926\n",
            "Epoch 8: saving model to model_init_2022-02-2413_28_58.574848/model-00008-0.03324-0.99259-4.07484-0.21905.h5\n",
            "45/45 [==============================] - 72s 2s/step - loss: 0.0332 - categorical_accuracy: 0.9926 - val_loss: 4.0748 - val_categorical_accuracy: 0.2190 - lr: 5.0000e-04\n",
            "Epoch 9/10\n",
            "45/45 [==============================] - ETA: 0s - loss: 0.0133 - categorical_accuracy: 0.9956\n",
            "Epoch 9: saving model to model_init_2022-02-2413_28_58.574848/model-00009-0.01331-0.99556-3.95319-0.26667.h5\n",
            "45/45 [==============================] - 70s 2s/step - loss: 0.0133 - categorical_accuracy: 0.9956 - val_loss: 3.9532 - val_categorical_accuracy: 0.2667 - lr: 5.0000e-04\n",
            "Epoch 10/10\n",
            "45/45 [==============================] - ETA: 0s - loss: 0.0142 - categorical_accuracy: 0.9970\n",
            "Epoch 10: saving model to model_init_2022-02-2413_28_58.574848/model-00010-0.01419-0.99704-3.28300-0.49524.h5\n",
            "45/45 [==============================] - 71s 2s/step - loss: 0.0142 - categorical_accuracy: 0.9970 - val_loss: 3.2830 - val_categorical_accuracy: 0.4952 - lr: 5.0000e-04\n"
          ]
        },
        {
          "data": {
            "text/plain": [
              "<keras.callbacks.History at 0x7fc63051f090>"
            ]
          },
          "execution_count": 15,
          "metadata": {},
          "output_type": "execute_result"
        }
      ],
      "source": [
        "\n",
        "history=model.fit_generator(train_generator, steps_per_epoch=steps_per_epoch, epochs=num_epochs, verbose=1, \n",
        "                    callbacks=callbacks_list, validation_data=val_generator, \n",
        "                    validation_steps=validation_steps, class_weight=None, workers=1, initial_epoch=0)"
      ]
    },
    {
      "cell_type": "markdown",
      "metadata": {
        "id": "UbUENp6QcoLM"
      },
      "source": [
        "Model is clearly overfitting. Now let us add dropouts and see if it improves validation accuracy. Also let us increase number of epochs and see if there is any change in the result"
      ]
    },
    {
      "cell_type": "markdown",
      "metadata": {
        "id": "ilctKXKxc55P"
      },
      "source": [
        "**Conv2D + RNN(LSTM) + Model with dropout + more epochs**"
      ]
    },
    {
      "cell_type": "code",
      "execution_count": null,
      "metadata": {
        "id": "s9XuEy9xcnf4"
      },
      "outputs": [],
      "source": [
        "Input_shape= (15, 120, 120, 3)\n",
        "\n",
        "model = Sequential()\n",
        "model.add(TimeDistributed(Conv2D(32, (3, 3), strides=(2,2), activation='relu', padding='same'), input_shape=Input_shape))\n",
        "model.add(TimeDistributed(BatchNormalization()))\n",
        "model.add(TimeDistributed(MaxPooling2D((2,2), strides=(2,2))))\n",
        "model.add(Dropout (0.25))\n",
        "\n",
        "model.add(TimeDistributed(Conv2D(32, (3,3), padding='same', activation='relu')))\n",
        "model.add(TimeDistributed(BatchNormalization()))\n",
        "model.add(TimeDistributed(MaxPooling2D((2,2), strides=(2,2))))\n",
        "\n",
        "\n",
        "model.add(TimeDistributed(Conv2D(64, (3,3), padding='same', activation='relu')))\n",
        "model.add(TimeDistributed(BatchNormalization()))\n",
        "model.add(TimeDistributed(MaxPooling2D((2,2), strides=(2,2))))\n",
        "model.add(Dropout (0.25))\n",
        "\n",
        "model.add(TimeDistributed(Conv2D(128, (3,3), padding='same', activation='relu')))\n",
        "model.add(TimeDistributed(BatchNormalization()))\n",
        "model.add(TimeDistributed(MaxPooling2D((2,2), strides=(2,2))))\n",
        "\n",
        "\n",
        "model.add(TimeDistributed(Flatten()))\n",
        "\n",
        "model.add(Dense(256, activation='relu'))\n",
        "model.add(Dropout (0.25))\n",
        "model.add(Dense(256, activation='relu'))\n",
        "model.add(Dropout (0.25))\n",
        "\n",
        "model.add(LSTM(512, return_sequences=False, dropout=0.5))\n",
        "model.add(Dense(5, activation='softmax'))"
      ]
    },
    {
      "cell_type": "code",
      "execution_count": null,
      "metadata": {
        "colab": {
          "base_uri": "https://localhost:8080/"
        },
        "id": "moSYTetJcnis",
        "outputId": "b567657f-852b-4999-f54f-b7b85744fe6d"
      },
      "outputs": [
        {
          "name": "stdout",
          "output_type": "stream",
          "text": [
            "Model: \"sequential_1\"\n",
            "_________________________________________________________________\n",
            " Layer (type)                Output Shape              Param #   \n",
            "=================================================================\n",
            " time_distributed_13 (TimeDi  (None, 15, 60, 60, 32)   896       \n",
            " stributed)                                                      \n",
            "                                                                 \n",
            " time_distributed_14 (TimeDi  (None, 15, 60, 60, 32)   128       \n",
            " stributed)                                                      \n",
            "                                                                 \n",
            " time_distributed_15 (TimeDi  (None, 15, 30, 30, 32)   0         \n",
            " stributed)                                                      \n",
            "                                                                 \n",
            " dropout (Dropout)           (None, 15, 30, 30, 32)    0         \n",
            "                                                                 \n",
            " time_distributed_16 (TimeDi  (None, 15, 30, 30, 32)   9248      \n",
            " stributed)                                                      \n",
            "                                                                 \n",
            " time_distributed_17 (TimeDi  (None, 15, 30, 30, 32)   128       \n",
            " stributed)                                                      \n",
            "                                                                 \n",
            " time_distributed_18 (TimeDi  (None, 15, 15, 15, 32)   0         \n",
            " stributed)                                                      \n",
            "                                                                 \n",
            " time_distributed_19 (TimeDi  (None, 15, 15, 15, 64)   18496     \n",
            " stributed)                                                      \n",
            "                                                                 \n",
            " time_distributed_20 (TimeDi  (None, 15, 15, 15, 64)   256       \n",
            " stributed)                                                      \n",
            "                                                                 \n",
            " time_distributed_21 (TimeDi  (None, 15, 7, 7, 64)     0         \n",
            " stributed)                                                      \n",
            "                                                                 \n",
            " dropout_1 (Dropout)         (None, 15, 7, 7, 64)      0         \n",
            "                                                                 \n",
            " time_distributed_22 (TimeDi  (None, 15, 7, 7, 128)    73856     \n",
            " stributed)                                                      \n",
            "                                                                 \n",
            " time_distributed_23 (TimeDi  (None, 15, 7, 7, 128)    512       \n",
            " stributed)                                                      \n",
            "                                                                 \n",
            " time_distributed_24 (TimeDi  (None, 15, 3, 3, 128)    0         \n",
            " stributed)                                                      \n",
            "                                                                 \n",
            " time_distributed_25 (TimeDi  (None, 15, 1152)         0         \n",
            " stributed)                                                      \n",
            "                                                                 \n",
            " dense_3 (Dense)             (None, 15, 256)           295168    \n",
            "                                                                 \n",
            " dropout_2 (Dropout)         (None, 15, 256)           0         \n",
            "                                                                 \n",
            " dense_4 (Dense)             (None, 15, 256)           65792     \n",
            "                                                                 \n",
            " dropout_3 (Dropout)         (None, 15, 256)           0         \n",
            "                                                                 \n",
            " lstm_1 (LSTM)               (None, 512)               1574912   \n",
            "                                                                 \n",
            " dense_5 (Dense)             (None, 5)                 2565      \n",
            "                                                                 \n",
            "=================================================================\n",
            "Total params: 2,041,957\n",
            "Trainable params: 2,041,445\n",
            "Non-trainable params: 512\n",
            "_________________________________________________________________\n",
            "None\n"
          ]
        }
      ],
      "source": [
        "optimiser = 'adam'#write your optimizer\n",
        "model.compile(optimizer=optimiser, loss='categorical_crossentropy', metrics=['categorical_accuracy'])\n",
        "print (model.summary())"
      ]
    },
    {
      "cell_type": "code",
      "execution_count": null,
      "metadata": {
        "colab": {
          "base_uri": "https://localhost:8080/"
        },
        "id": "QXa8YdADdcQK",
        "outputId": "f7711156-e8c5-4649-e4b0-df32580c3c9e"
      },
      "outputs": [
        {
          "name": "stderr",
          "output_type": "stream",
          "text": [
            "/usr/local/lib/python3.7/dist-packages/ipykernel_launcher.py:4: UserWarning: `Model.fit_generator` is deprecated and will be removed in a future version. Please use `Model.fit`, which supports generators.\n",
            "  after removing the cwd from sys.path.\n",
            "/usr/local/lib/python3.7/dist-packages/ipykernel_launcher.py:15: DeprecationWarning:     `imread` is deprecated!\n",
            "    `imread` is deprecated in SciPy 1.0.0, and will be removed in 1.2.0.\n",
            "    Use ``imageio.imread`` instead.\n",
            "  from ipykernel import kernelapp as app\n",
            "/usr/local/lib/python3.7/dist-packages/ipykernel_launcher.py:24: DeprecationWarning:     `imresize` is deprecated!\n",
            "    `imresize` is deprecated in SciPy 1.0.0, and will be removed in 1.2.0.\n",
            "    Use ``skimage.transform.resize`` instead.\n"
          ]
        },
        {
          "name": "stdout",
          "output_type": "stream",
          "text": [
            "Epoch 1/20\n",
            "16/45 [=========>....................] - ETA: 40s - loss: 1.6316 - categorical_accuracy: 0.2958"
          ]
        },
        {
          "name": "stderr",
          "output_type": "stream",
          "text": [
            "/usr/local/lib/python3.7/dist-packages/ipykernel_launcher.py:48: DeprecationWarning:     `imread` is deprecated!\n",
            "    `imread` is deprecated in SciPy 1.0.0, and will be removed in 1.2.0.\n",
            "    Use ``imageio.imread`` instead.\n",
            "/usr/local/lib/python3.7/dist-packages/ipykernel_launcher.py:54: DeprecationWarning:     `imresize` is deprecated!\n",
            "    `imresize` is deprecated in SciPy 1.0.0, and will be removed in 1.2.0.\n",
            "    Use ``skimage.transform.resize`` instead.\n"
          ]
        },
        {
          "name": "stdout",
          "output_type": "stream",
          "text": [
            "45/45 [==============================] - ETA: 0s - loss: 1.4324 - categorical_accuracy: 0.3896\n",
            "Epoch 1: saving model to model_init_2022-02-2413_28_58.574848/model-00001-1.43239-0.38963-3.03339-0.20000.h5\n",
            "45/45 [==============================] - 77s 2s/step - loss: 1.4324 - categorical_accuracy: 0.3896 - val_loss: 3.0334 - val_categorical_accuracy: 0.2000 - lr: 0.0010\n",
            "Epoch 2/20\n",
            "45/45 [==============================] - ETA: 0s - loss: 0.9269 - categorical_accuracy: 0.6548\n",
            "Epoch 2: saving model to model_init_2022-02-2413_28_58.574848/model-00002-0.92694-0.65481-2.65007-0.26667.h5\n",
            "45/45 [==============================] - 75s 2s/step - loss: 0.9269 - categorical_accuracy: 0.6548 - val_loss: 2.6501 - val_categorical_accuracy: 0.2667 - lr: 0.0010\n",
            "Epoch 3/20\n",
            "45/45 [==============================] - ETA: 0s - loss: 0.7083 - categorical_accuracy: 0.7274\n",
            "Epoch 3: saving model to model_init_2022-02-2413_28_58.574848/model-00003-0.70828-0.72741-3.08921-0.19048.h5\n",
            "45/45 [==============================] - 73s 2s/step - loss: 0.7083 - categorical_accuracy: 0.7274 - val_loss: 3.0892 - val_categorical_accuracy: 0.1905 - lr: 0.0010\n",
            "Epoch 4/20\n",
            "45/45 [==============================] - ETA: 0s - loss: 0.6032 - categorical_accuracy: 0.7674\n",
            "Epoch 4: saving model to model_init_2022-02-2413_28_58.574848/model-00004-0.60319-0.76741-3.63712-0.20000.h5\n",
            "45/45 [==============================] - 73s 2s/step - loss: 0.6032 - categorical_accuracy: 0.7674 - val_loss: 3.6371 - val_categorical_accuracy: 0.2000 - lr: 0.0010\n",
            "Epoch 5/20\n",
            "45/45 [==============================] - ETA: 0s - loss: 0.4578 - categorical_accuracy: 0.8489\n",
            "Epoch 5: saving model to model_init_2022-02-2413_28_58.574848/model-00005-0.45776-0.84889-3.39866-0.30476.h5\n",
            "45/45 [==============================] - 71s 2s/step - loss: 0.4578 - categorical_accuracy: 0.8489 - val_loss: 3.3987 - val_categorical_accuracy: 0.3048 - lr: 0.0010\n",
            "Epoch 6/20\n",
            "45/45 [==============================] - ETA: 0s - loss: 0.2969 - categorical_accuracy: 0.9007\n",
            "Epoch 6: saving model to model_init_2022-02-2413_28_58.574848/model-00006-0.29692-0.90074-4.10085-0.22857.h5\n",
            "45/45 [==============================] - 71s 2s/step - loss: 0.2969 - categorical_accuracy: 0.9007 - val_loss: 4.1008 - val_categorical_accuracy: 0.2286 - lr: 0.0010\n",
            "Epoch 7/20\n",
            "45/45 [==============================] - ETA: 0s - loss: 0.2586 - categorical_accuracy: 0.9096\n",
            "Epoch 7: saving model to model_init_2022-02-2413_28_58.574848/model-00007-0.25856-0.90963-3.83769-0.27619.h5\n",
            "\n",
            "Epoch 7: ReduceLROnPlateau reducing learning rate to 0.0005000000237487257.\n",
            "45/45 [==============================] - 72s 2s/step - loss: 0.2586 - categorical_accuracy: 0.9096 - val_loss: 3.8377 - val_categorical_accuracy: 0.2762 - lr: 0.0010\n",
            "Epoch 8/20\n",
            "45/45 [==============================] - ETA: 0s - loss: 0.1558 - categorical_accuracy: 0.9481\n",
            "Epoch 8: saving model to model_init_2022-02-2413_28_58.574848/model-00008-0.15576-0.94815-3.37997-0.36190.h5\n",
            "45/45 [==============================] - 70s 2s/step - loss: 0.1558 - categorical_accuracy: 0.9481 - val_loss: 3.3800 - val_categorical_accuracy: 0.3619 - lr: 5.0000e-04\n",
            "Epoch 9/20\n",
            "45/45 [==============================] - ETA: 0s - loss: 0.1004 - categorical_accuracy: 0.9630\n",
            "Epoch 9: saving model to model_init_2022-02-2413_28_58.574848/model-00009-0.10037-0.96296-3.43158-0.40952.h5\n",
            "45/45 [==============================] - 71s 2s/step - loss: 0.1004 - categorical_accuracy: 0.9630 - val_loss: 3.4316 - val_categorical_accuracy: 0.4095 - lr: 5.0000e-04\n",
            "Epoch 10/20\n",
            "45/45 [==============================] - ETA: 0s - loss: 0.1214 - categorical_accuracy: 0.9496\n",
            "Epoch 10: saving model to model_init_2022-02-2413_28_58.574848/model-00010-0.12137-0.94963-2.34842-0.56190.h5\n",
            "45/45 [==============================] - 72s 2s/step - loss: 0.1214 - categorical_accuracy: 0.9496 - val_loss: 2.3484 - val_categorical_accuracy: 0.5619 - lr: 5.0000e-04\n",
            "Epoch 11/20\n",
            "45/45 [==============================] - ETA: 0s - loss: 0.0775 - categorical_accuracy: 0.9704\n",
            "Epoch 11: saving model to model_init_2022-02-2413_28_58.574848/model-00011-0.07752-0.97037-1.83071-0.55238.h5\n",
            "45/45 [==============================] - 72s 2s/step - loss: 0.0775 - categorical_accuracy: 0.9704 - val_loss: 1.8307 - val_categorical_accuracy: 0.5524 - lr: 5.0000e-04\n",
            "Epoch 12/20\n",
            "45/45 [==============================] - ETA: 0s - loss: 0.0451 - categorical_accuracy: 0.9837\n",
            "Epoch 12: saving model to model_init_2022-02-2413_28_58.574848/model-00012-0.04511-0.98370-1.42980-0.67619.h5\n",
            "45/45 [==============================] - 71s 2s/step - loss: 0.0451 - categorical_accuracy: 0.9837 - val_loss: 1.4298 - val_categorical_accuracy: 0.6762 - lr: 5.0000e-04\n",
            "Epoch 13/20\n",
            "45/45 [==============================] - ETA: 0s - loss: 0.0256 - categorical_accuracy: 0.9941\n",
            "Epoch 13: saving model to model_init_2022-02-2413_28_58.574848/model-00013-0.02558-0.99407-0.89928-0.78095.h5\n",
            "45/45 [==============================] - 72s 2s/step - loss: 0.0256 - categorical_accuracy: 0.9941 - val_loss: 0.8993 - val_categorical_accuracy: 0.7810 - lr: 5.0000e-04\n",
            "Epoch 14/20\n",
            "45/45 [==============================] - ETA: 0s - loss: 0.0562 - categorical_accuracy: 0.9763\n",
            "Epoch 14: saving model to model_init_2022-02-2413_28_58.574848/model-00014-0.05621-0.97630-0.80930-0.80000.h5\n",
            "45/45 [==============================] - 71s 2s/step - loss: 0.0562 - categorical_accuracy: 0.9763 - val_loss: 0.8093 - val_categorical_accuracy: 0.8000 - lr: 5.0000e-04\n",
            "Epoch 15/20\n",
            "45/45 [==============================] - ETA: 0s - loss: 0.0805 - categorical_accuracy: 0.9748\n",
            "Epoch 15: saving model to model_init_2022-02-2413_28_58.574848/model-00015-0.08052-0.97481-0.66094-0.84762.h5\n",
            "45/45 [==============================] - 72s 2s/step - loss: 0.0805 - categorical_accuracy: 0.9748 - val_loss: 0.6609 - val_categorical_accuracy: 0.8476 - lr: 5.0000e-04\n",
            "Epoch 16/20\n",
            "45/45 [==============================] - ETA: 0s - loss: 0.0854 - categorical_accuracy: 0.9733\n",
            "Epoch 16: saving model to model_init_2022-02-2413_28_58.574848/model-00016-0.08539-0.97333-0.90812-0.82857.h5\n",
            "45/45 [==============================] - 72s 2s/step - loss: 0.0854 - categorical_accuracy: 0.9733 - val_loss: 0.9081 - val_categorical_accuracy: 0.8286 - lr: 5.0000e-04\n",
            "Epoch 17/20\n",
            "45/45 [==============================] - ETA: 0s - loss: 0.0406 - categorical_accuracy: 0.9837\n",
            "Epoch 17: saving model to model_init_2022-02-2413_28_58.574848/model-00017-0.04059-0.98370-0.82425-0.83810.h5\n",
            "45/45 [==============================] - 71s 2s/step - loss: 0.0406 - categorical_accuracy: 0.9837 - val_loss: 0.8242 - val_categorical_accuracy: 0.8381 - lr: 5.0000e-04\n",
            "Epoch 18/20\n",
            "45/45 [==============================] - ETA: 0s - loss: 0.0382 - categorical_accuracy: 0.9881\n",
            "Epoch 18: saving model to model_init_2022-02-2413_28_58.574848/model-00018-0.03824-0.98815-0.40355-0.92381.h5\n",
            "45/45 [==============================] - 72s 2s/step - loss: 0.0382 - categorical_accuracy: 0.9881 - val_loss: 0.4035 - val_categorical_accuracy: 0.9238 - lr: 5.0000e-04\n",
            "Epoch 19/20\n",
            "45/45 [==============================] - ETA: 0s - loss: 0.0460 - categorical_accuracy: 0.9837\n",
            "Epoch 19: saving model to model_init_2022-02-2413_28_58.574848/model-00019-0.04597-0.98370-1.00821-0.78095.h5\n",
            "45/45 [==============================] - 71s 2s/step - loss: 0.0460 - categorical_accuracy: 0.9837 - val_loss: 1.0082 - val_categorical_accuracy: 0.7810 - lr: 5.0000e-04\n",
            "Epoch 20/20\n",
            "45/45 [==============================] - ETA: 0s - loss: 0.0182 - categorical_accuracy: 0.9911\n",
            "Epoch 20: saving model to model_init_2022-02-2413_28_58.574848/model-00020-0.01825-0.99111-1.67440-0.73333.h5\n",
            "45/45 [==============================] - 71s 2s/step - loss: 0.0182 - categorical_accuracy: 0.9911 - val_loss: 1.6744 - val_categorical_accuracy: 0.7333 - lr: 5.0000e-04\n"
          ]
        }
      ],
      "source": [
        "num_epochs=20\n",
        "history=model.fit_generator(train_generator, steps_per_epoch=steps_per_epoch, epochs=num_epochs, verbose=1, \n",
        "                    callbacks=callbacks_list, validation_data=val_generator, \n",
        "                    validation_steps=validation_steps, class_weight=None, workers=1, initial_epoch=0)"
      ]
    },
    {
      "cell_type": "code",
      "execution_count": null,
      "metadata": {
        "colab": {
          "base_uri": "https://localhost:8080/",
          "height": 499
        },
        "id": "T4vbs9kHPORS",
        "outputId": "2debd44f-0934-4f6a-bf9d-fdeb73979075"
      },
      "outputs": [
        {
          "data": {
            "image/png": "[encoded data removed]",
            "text/plain": [
              "<Figure size 576x576 with 2 Axes>"
            ]
          },
          "metadata": {},
          "output_type": "display_data"
        }
      ],
      "source": [
        "#Plotting the stats for Training and Validation data\n",
        "acc = history.history['categorical_accuracy']\n",
        "val_acc = history.history['val_categorical_accuracy']\n",
        "\n",
        "loss = history.history['loss']\n",
        "val_loss = history.history['val_loss']\n",
        "\n",
        "epochs_range = range(num_epochs)\n",
        "\n",
        "plt.figure(figsize=(8, 8))\n",
        "plt.subplot(1, 2, 1)\n",
        "plt.plot(epochs_range, acc, label='Training Accuracy')\n",
        "plt.plot(epochs_range, val_acc, label='Validation Accuracy')\n",
        "plt.legend(loc='lower right')\n",
        "plt.title('Training and Validation Accuracy')\n",
        "\n",
        "plt.subplot(1, 2, 2)\n",
        "plt.plot(epochs_range, loss, label='Training Loss')\n",
        "plt.plot(epochs_range, val_loss, label='Validation Loss')\n",
        "plt.legend(loc='upper right')\n",
        "plt.title('Training and Validation Loss')\n",
        "plt.show()"
      ]
    },
    {
      "cell_type": "markdown",
      "source": [
        "The accuracy has increased but it is still on lower side. Let's add more images in image index and also increase batch size and epochs"
      ],
      "metadata": {
        "id": "pp9Y57TOnGp7"
      }
    },
    {
      "cell_type": "code",
      "execution_count": null,
      "metadata": {
        "id": "nsE3tfcxkP2P"
      },
      "outputs": [],
      "source": [
        "\n",
        "#img_idx = [0,2,4,6,8,10,11,12,13,14,15,16,17,18,20,22,24,25,26,27,28] #create a list of image numbers you want to use for a particular video\n",
        "#batch_size = 30"
      ]
    },
    {
      "cell_type": "code",
      "execution_count": 27,
      "metadata": {
        "id": "dJw3gP0FkQAw"
      },
      "outputs": [],
      "source": [
        "Input_shape= (len(img_idx), 120, 120, 3)\n",
        "\n",
        "model = Sequential()\n",
        "model.add(TimeDistributed(Conv2D(32, (3, 3), strides=(2,2), activation='relu', padding='same'), input_shape=Input_shape))\n",
        "model.add(TimeDistributed(BatchNormalization()))\n",
        "model.add(TimeDistributed(MaxPooling2D((2,2), strides=(2,2))))\n",
        "model.add(Dropout (0.25))\n",
        "\n",
        "model.add(TimeDistributed(Conv2D(64, (3,3), padding='same', activation='relu')))\n",
        "model.add(TimeDistributed(BatchNormalization()))\n",
        "model.add(TimeDistributed(MaxPooling2D((2,2), strides=(2,2))))\n",
        "model.add(Dropout (0.25))\n",
        "\n",
        "model.add(TimeDistributed(Conv2D(128, (3,3), padding='same', activation='relu')))\n",
        "model.add(TimeDistributed(BatchNormalization()))\n",
        "model.add(TimeDistributed(MaxPooling2D((2,2), strides=(2,2))))\n",
        "model.add(Dropout (0.25))\n",
        "\n",
        "#model.add(TimeDistributed(Conv2D(128, (3,3), padding='same', activation='relu')))\n",
        "#model.add(TimeDistributed(BatchNormalization()))\n",
        "#model.add(TimeDistributed(MaxPooling2D((2,2), strides=(2,2))))\n",
        "#model.add(Dropout (0.25))\n",
        "\n",
        "model.add(TimeDistributed(Flatten()))\n",
        "\n",
        "model.add(Dense(256, activation='relu'))\n",
        "model.add(Dropout (0.25))\n",
        "#model.add(Dense(256, activation='relu'))\n",
        "#model.add(Dropout (0.25))\n",
        "\n",
        "model.add(LSTM(512, return_sequences=False, dropout=0.5))\n",
        "model.add(Dense(5, activation='softmax'))"
      ]
    },
    {
      "cell_type": "code",
      "execution_count": 28,
      "metadata": {
        "colab": {
          "base_uri": "https://localhost:8080/"
        },
        "id": "CnrKBdM4kQEE",
        "outputId": "762a5af9-d218-49cb-9eb7-bc6f5d4fff7c"
      },
      "outputs": [
        {
          "output_type": "stream",
          "name": "stdout",
          "text": [
            "Model: \"sequential_2\"\n",
            "_________________________________________________________________\n",
            " Layer (type)                Output Shape              Param #   \n",
            "=================================================================\n",
            " time_distributed_23 (TimeDi  (None, 19, 60, 60, 32)   896       \n",
            " stributed)                                                      \n",
            "                                                                 \n",
            " time_distributed_24 (TimeDi  (None, 19, 60, 60, 32)   128       \n",
            " stributed)                                                      \n",
            "                                                                 \n",
            " time_distributed_25 (TimeDi  (None, 19, 30, 30, 32)   0         \n",
            " stributed)                                                      \n",
            "                                                                 \n",
            " dropout_10 (Dropout)        (None, 19, 30, 30, 32)    0         \n",
            "                                                                 \n",
            " time_distributed_26 (TimeDi  (None, 19, 30, 30, 64)   18496     \n",
            " stributed)                                                      \n",
            "                                                                 \n",
            " time_distributed_27 (TimeDi  (None, 19, 30, 30, 64)   256       \n",
            " stributed)                                                      \n",
            "                                                                 \n",
            " time_distributed_28 (TimeDi  (None, 19, 15, 15, 64)   0         \n",
            " stributed)                                                      \n",
            "                                                                 \n",
            " dropout_11 (Dropout)        (None, 19, 15, 15, 64)    0         \n",
            "                                                                 \n",
            " time_distributed_29 (TimeDi  (None, 19, 15, 15, 128)  73856     \n",
            " stributed)                                                      \n",
            "                                                                 \n",
            " time_distributed_30 (TimeDi  (None, 19, 15, 15, 128)  512       \n",
            " stributed)                                                      \n",
            "                                                                 \n",
            " time_distributed_31 (TimeDi  (None, 19, 7, 7, 128)    0         \n",
            " stributed)                                                      \n",
            "                                                                 \n",
            " dropout_12 (Dropout)        (None, 19, 7, 7, 128)     0         \n",
            "                                                                 \n",
            " time_distributed_32 (TimeDi  (None, 19, 6272)         0         \n",
            " stributed)                                                      \n",
            "                                                                 \n",
            " dense_5 (Dense)             (None, 19, 256)           1605888   \n",
            "                                                                 \n",
            " dropout_13 (Dropout)        (None, 19, 256)           0         \n",
            "                                                                 \n",
            " lstm (LSTM)                 (None, 512)               1574912   \n",
            "                                                                 \n",
            " dense_6 (Dense)             (None, 5)                 2565      \n",
            "                                                                 \n",
            "=================================================================\n",
            "Total params: 3,277,509\n",
            "Trainable params: 3,277,061\n",
            "Non-trainable params: 448\n",
            "_________________________________________________________________\n",
            "None\n"
          ]
        }
      ],
      "source": [
        "optimiser = 'adam'#write your optimizer\n",
        "model.compile(optimizer=optimiser, loss='categorical_crossentropy', metrics=['categorical_accuracy'])\n",
        "print (model.summary())"
      ]
    },
    {
      "cell_type": "code",
      "execution_count": 29,
      "metadata": {
        "id": "xoheoS9qlSF2"
      },
      "outputs": [],
      "source": [
        "train_generator = generator(train_path, train_doc, batch_size)\n",
        "val_generator = generator(val_path, val_doc, batch_size)"
      ]
    },
    {
      "cell_type": "code",
      "execution_count": 30,
      "metadata": {
        "colab": {
          "base_uri": "https://localhost:8080/"
        },
        "id": "c32qCyL2lSF3",
        "outputId": "b801be5a-a1d8-4f03-ae55-8f998d905b2e"
      },
      "outputs": [
        {
          "output_type": "stream",
          "name": "stdout",
          "text": [
            "WARNING:tensorflow:`period` argument is deprecated. Please use `save_freq` to specify the frequency in number of batches seen.\n"
          ]
        }
      ],
      "source": [
        "model_name = 'model_init' + '_' + str(curr_dt_time).replace(' ','').replace(':','_') + '/'\n",
        "    \n",
        "if not os.path.exists(model_name):\n",
        "    os.mkdir(model_name)\n",
        "        \n",
        "filepath = model_name + 'model-{epoch:05d}-{loss:.5f}-{categorical_accuracy:.5f}-{val_loss:.5f}-{val_categorical_accuracy:.5f}.h5'\n",
        "\n",
        "checkpoint = ModelCheckpoint(filepath, monitor='val_loss', verbose=1, save_best_only=False, save_weights_only=False, mode='auto', period=1)\n",
        "\n",
        "LR = ReduceLROnPlateau(monitor = \"val_loss\", factor = 0.5, patience=5, verbose=1, min_lr = 0) # write the REducelronplateau code here\n",
        "\n",
        "\n",
        "# if loss doesn't decrease for 10 epocs, stop training \n",
        "ES = EarlyStopping(monitor='loss', mode='min', verbose=1, patience=10)\n",
        "\n",
        "callbacks_list = [checkpoint, LR, ES]"
      ]
    },
    {
      "cell_type": "markdown",
      "metadata": {
        "id": "bbD7eBQwlSGD"
      },
      "source": [
        "The `steps_per_epoch` and `validation_steps` are used by `fit_generator` to decide the number of next() calls it need to make."
      ]
    },
    {
      "cell_type": "code",
      "execution_count": 31,
      "metadata": {
        "id": "Hsju_k8SlSGD"
      },
      "outputs": [],
      "source": [
        "if (num_train_sequences%batch_size) == 0:\n",
        "    steps_per_epoch = int(num_train_sequences/batch_size)\n",
        "else:\n",
        "    steps_per_epoch = (num_train_sequences//batch_size) + 1\n",
        "\n",
        "if (num_val_sequences%batch_size) == 0:\n",
        "    validation_steps = int(num_val_sequences/batch_size)\n",
        "else:\n",
        "    validation_steps = (num_val_sequences//batch_size) + 1"
      ]
    },
    {
      "cell_type": "code",
      "execution_count": 32,
      "metadata": {
        "colab": {
          "base_uri": "https://localhost:8080/"
        },
        "id": "2I9XaJybkQNV",
        "outputId": "0894c15c-be11-4a21-82f0-ec52030f8e9b"
      },
      "outputs": [
        {
          "output_type": "stream",
          "name": "stderr",
          "text": [
            "/usr/local/lib/python3.7/dist-packages/ipykernel_launcher.py:4: UserWarning: `Model.fit_generator` is deprecated and will be removed in a future version. Please use `Model.fit`, which supports generators.\n",
            "  after removing the cwd from sys.path.\n",
            "/usr/local/lib/python3.7/dist-packages/ipykernel_launcher.py:15: DeprecationWarning:     `imread` is deprecated!\n",
            "    `imread` is deprecated in SciPy 1.0.0, and will be removed in 1.2.0.\n",
            "    Use ``imageio.imread`` instead.\n",
            "  from ipykernel import kernelapp as app\n",
            "/usr/local/lib/python3.7/dist-packages/ipykernel_launcher.py:23: DeprecationWarning:     `imresize` is deprecated!\n",
            "    `imresize` is deprecated in SciPy 1.0.0, and will be removed in 1.2.0.\n",
            "    Use ``skimage.transform.resize`` instead.\n"
          ]
        },
        {
          "output_type": "stream",
          "name": "stdout",
          "text": [
            "Source path =  /content/drive/MyDrive/AIML/ColabNotebooks/RNN/RNNAssignmentGestureRecognition/Project_data/train ; batch size = 32\n",
            "Epoch 1/50\n",
            "19/21 [==========================>...] - ETA: 7s - loss: 1.5396 - categorical_accuracy: 0.3470 "
          ]
        },
        {
          "output_type": "stream",
          "name": "stderr",
          "text": [
            "/usr/local/lib/python3.7/dist-packages/ipykernel_launcher.py:43: DeprecationWarning:     `imread` is deprecated!\n",
            "    `imread` is deprecated in SciPy 1.0.0, and will be removed in 1.2.0.\n",
            "    Use ``imageio.imread`` instead.\n",
            "/usr/local/lib/python3.7/dist-packages/ipykernel_launcher.py:49: DeprecationWarning:     `imresize` is deprecated!\n",
            "    `imresize` is deprecated in SciPy 1.0.0, and will be removed in 1.2.0.\n",
            "    Use ``skimage.transform.resize`` instead.\n"
          ]
        },
        {
          "output_type": "stream",
          "name": "stdout",
          "text": [
            "21/21 [==============================] - ETA: 0s - loss: 1.5051 - categorical_accuracy: 0.3695Source path =  /content/drive/MyDrive/AIML/ColabNotebooks/RNN/RNNAssignmentGestureRecognition/Project_data/val ; batch size = 32\n",
            "\n",
            "Epoch 1: saving model to model_init_2022-03-0109_35_41.581190/model-00001-1.50509-0.36953-1.81242-0.32000.h5\n",
            "21/21 [==============================] - 91s 4s/step - loss: 1.5051 - categorical_accuracy: 0.3695 - val_loss: 1.8124 - val_categorical_accuracy: 0.3200 - lr: 0.0010\n",
            "Epoch 2/50\n",
            "21/21 [==============================] - ETA: 0s - loss: 1.1220 - categorical_accuracy: 0.5507\n",
            "Epoch 2: saving model to model_init_2022-03-0109_35_41.581190/model-00002-1.12202-0.55072-3.43662-0.18056.h5\n",
            "21/21 [==============================] - 66s 3s/step - loss: 1.1220 - categorical_accuracy: 0.5507 - val_loss: 3.4366 - val_categorical_accuracy: 0.1806 - lr: 0.0010\n",
            "Epoch 3/50\n",
            "21/21 [==============================] - ETA: 0s - loss: 0.8770 - categorical_accuracy: 0.6591\n",
            "Epoch 3: saving model to model_init_2022-03-0109_35_41.581190/model-00003-0.87703-0.65913-2.81665-0.18750.h5\n",
            "21/21 [==============================] - 79s 4s/step - loss: 0.8770 - categorical_accuracy: 0.6591 - val_loss: 2.8167 - val_categorical_accuracy: 0.1875 - lr: 0.0010\n",
            "Epoch 4/50\n",
            "21/21 [==============================] - ETA: 0s - loss: 0.6567 - categorical_accuracy: 0.7474\n",
            "Epoch 4: saving model to model_init_2022-03-0109_35_41.581190/model-00004-0.65669-0.74741-2.64899-0.27778.h5\n",
            "21/21 [==============================] - 59s 3s/step - loss: 0.6567 - categorical_accuracy: 0.7474 - val_loss: 2.6490 - val_categorical_accuracy: 0.2778 - lr: 0.0010\n",
            "Epoch 5/50\n",
            "21/21 [==============================] - ETA: 0s - loss: 0.6124 - categorical_accuracy: 0.7661\n",
            "Epoch 5: saving model to model_init_2022-03-0109_35_41.581190/model-00005-0.61241-0.76606-2.65512-0.21000.h5\n",
            "21/21 [==============================] - 84s 4s/step - loss: 0.6124 - categorical_accuracy: 0.7661 - val_loss: 2.6551 - val_categorical_accuracy: 0.2100 - lr: 0.0010\n",
            "Epoch 6/50\n",
            "21/21 [==============================] - ETA: 0s - loss: 0.4298 - categorical_accuracy: 0.8415\n",
            "Epoch 6: saving model to model_init_2022-03-0109_35_41.581190/model-00006-0.42982-0.84146-2.31170-0.25000.h5\n",
            "\n",
            "Epoch 6: ReduceLROnPlateau reducing learning rate to 0.0005000000237487257.\n",
            "21/21 [==============================] - 61s 3s/step - loss: 0.4298 - categorical_accuracy: 0.8415 - val_loss: 2.3117 - val_categorical_accuracy: 0.2500 - lr: 0.0010\n",
            "Epoch 7/50\n",
            "21/21 [==============================] - ETA: 0s - loss: 0.3420 - categorical_accuracy: 0.8698\n",
            "Epoch 7: saving model to model_init_2022-03-0109_35_41.581190/model-00007-0.34197-0.86977-1.75572-0.36364.h5\n",
            "21/21 [==============================] - 76s 4s/step - loss: 0.3420 - categorical_accuracy: 0.8698 - val_loss: 1.7557 - val_categorical_accuracy: 0.3636 - lr: 5.0000e-04\n",
            "Epoch 8/50\n",
            "21/21 [==============================] - ETA: 0s - loss: 0.2653 - categorical_accuracy: 0.8942\n",
            "Epoch 8: saving model to model_init_2022-03-0109_35_41.581190/model-00008-0.26534-0.89421-1.95669-0.28000.h5\n",
            "21/21 [==============================] - 65s 3s/step - loss: 0.2653 - categorical_accuracy: 0.8942 - val_loss: 1.9567 - val_categorical_accuracy: 0.2800 - lr: 5.0000e-04\n",
            "Epoch 9/50\n",
            "21/21 [==============================] - ETA: 0s - loss: 0.2022 - categorical_accuracy: 0.9387\n",
            "Epoch 9: saving model to model_init_2022-03-0109_35_41.581190/model-00009-0.20224-0.93868-2.57406-0.15278.h5\n",
            "21/21 [==============================] - 80s 4s/step - loss: 0.2022 - categorical_accuracy: 0.9387 - val_loss: 2.5741 - val_categorical_accuracy: 0.1528 - lr: 5.0000e-04\n",
            "Epoch 10/50\n",
            "21/21 [==============================] - ETA: 0s - loss: 0.1747 - categorical_accuracy: 0.9412\n",
            "Epoch 10: saving model to model_init_2022-03-0109_35_41.581190/model-00010-0.17465-0.94118-3.09639-0.25000.h5\n",
            "21/21 [==============================] - 59s 3s/step - loss: 0.1747 - categorical_accuracy: 0.9412 - val_loss: 3.0964 - val_categorical_accuracy: 0.2500 - lr: 5.0000e-04\n",
            "Epoch 11/50\n",
            "21/21 [==============================] - ETA: 0s - loss: 0.1363 - categorical_accuracy: 0.9601\n",
            "Epoch 11: saving model to model_init_2022-03-0109_35_41.581190/model-00011-0.13628-0.96013-3.57852-0.16667.h5\n",
            "21/21 [==============================] - 76s 4s/step - loss: 0.1363 - categorical_accuracy: 0.9601 - val_loss: 3.5785 - val_categorical_accuracy: 0.1667 - lr: 5.0000e-04\n",
            "Epoch 12/50\n",
            "21/21 [==============================] - ETA: 0s - loss: 0.1066 - categorical_accuracy: 0.9672\n",
            "Epoch 12: saving model to model_init_2022-03-0109_35_41.581190/model-00012-0.10662-0.96724-3.04305-0.23000.h5\n",
            "\n",
            "Epoch 12: ReduceLROnPlateau reducing learning rate to 0.0002500000118743628.\n",
            "21/21 [==============================] - 74s 4s/step - loss: 0.1066 - categorical_accuracy: 0.9672 - val_loss: 3.0431 - val_categorical_accuracy: 0.2300 - lr: 5.0000e-04\n",
            "Epoch 13/50\n",
            "21/21 [==============================] - ETA: 0s - loss: 0.0668 - categorical_accuracy: 0.9790\n",
            "Epoch 13: saving model to model_init_2022-03-0109_35_41.581190/model-00013-0.06677-0.97896-2.74041-0.34091.h5\n",
            "21/21 [==============================] - 75s 4s/step - loss: 0.0668 - categorical_accuracy: 0.9790 - val_loss: 2.7404 - val_categorical_accuracy: 0.3409 - lr: 2.5000e-04\n",
            "Epoch 14/50\n",
            "21/21 [==============================] - ETA: 0s - loss: 0.0442 - categorical_accuracy: 0.9943\n",
            "Epoch 14: saving model to model_init_2022-03-0109_35_41.581190/model-00014-0.04419-0.99432-3.44632-0.18182.h5\n",
            "21/21 [==============================] - 62s 3s/step - loss: 0.0442 - categorical_accuracy: 0.9943 - val_loss: 3.4463 - val_categorical_accuracy: 0.1818 - lr: 2.5000e-04\n",
            "Epoch 15/50\n",
            "21/21 [==============================] - ETA: 0s - loss: 0.0382 - categorical_accuracy: 0.9951\n",
            "Epoch 15: saving model to model_init_2022-03-0109_35_41.581190/model-00015-0.03823-0.99507-3.07629-0.26000.h5\n",
            "21/21 [==============================] - 77s 4s/step - loss: 0.0382 - categorical_accuracy: 0.9951 - val_loss: 3.0763 - val_categorical_accuracy: 0.2600 - lr: 2.5000e-04\n",
            "Epoch 16/50\n",
            "21/21 [==============================] - ETA: 0s - loss: 0.0300 - categorical_accuracy: 0.9944\n",
            "Epoch 16: saving model to model_init_2022-03-0109_35_41.581190/model-00016-0.02997-0.99441-3.50529-0.26389.h5\n",
            "21/21 [==============================] - 68s 3s/step - loss: 0.0300 - categorical_accuracy: 0.9944 - val_loss: 3.5053 - val_categorical_accuracy: 0.2639 - lr: 2.5000e-04\n",
            "Epoch 17/50\n",
            "21/21 [==============================] - ETA: 0s - loss: 0.0197 - categorical_accuracy: 1.0000\n",
            "Epoch 17: saving model to model_init_2022-03-0109_35_41.581190/model-00017-0.01965-1.00000-3.71401-0.18750.h5\n",
            "\n",
            "Epoch 17: ReduceLROnPlateau reducing learning rate to 0.0001250000059371814.\n",
            "21/21 [==============================] - 71s 4s/step - loss: 0.0197 - categorical_accuracy: 1.0000 - val_loss: 3.7140 - val_categorical_accuracy: 0.1875 - lr: 2.5000e-04\n",
            "Epoch 18/50\n",
            "21/21 [==============================] - ETA: 0s - loss: 0.0320 - categorical_accuracy: 0.9945\n",
            "Epoch 18: saving model to model_init_2022-03-0109_35_41.581190/model-00018-0.03202-0.99451-3.13041-0.31944.h5\n",
            "21/21 [==============================] - 66s 3s/step - loss: 0.0320 - categorical_accuracy: 0.9945 - val_loss: 3.1304 - val_categorical_accuracy: 0.3194 - lr: 1.2500e-04\n",
            "Epoch 19/50\n",
            "21/21 [==============================] - ETA: 0s - loss: 0.0248 - categorical_accuracy: 0.9966\n",
            "Epoch 19: saving model to model_init_2022-03-0109_35_41.581190/model-00019-0.02482-0.99662-3.07864-0.36000.h5\n",
            "21/21 [==============================] - 82s 4s/step - loss: 0.0248 - categorical_accuracy: 0.9966 - val_loss: 3.0786 - val_categorical_accuracy: 0.3600 - lr: 1.2500e-04\n",
            "Epoch 20/50\n",
            "21/21 [==============================] - ETA: 0s - loss: 0.0312 - categorical_accuracy: 0.9964\n",
            "Epoch 20: saving model to model_init_2022-03-0109_35_41.581190/model-00020-0.03115-0.99640-2.68872-0.43182.h5\n",
            "21/21 [==============================] - 66s 3s/step - loss: 0.0312 - categorical_accuracy: 0.9964 - val_loss: 2.6887 - val_categorical_accuracy: 0.4318 - lr: 1.2500e-04\n",
            "Epoch 21/50\n",
            "21/21 [==============================] - ETA: 0s - loss: 0.0144 - categorical_accuracy: 1.0000\n",
            "Epoch 21: saving model to model_init_2022-03-0109_35_41.581190/model-00021-0.01436-1.00000-2.78108-0.40909.h5\n",
            "21/21 [==============================] - 68s 3s/step - loss: 0.0144 - categorical_accuracy: 1.0000 - val_loss: 2.7811 - val_categorical_accuracy: 0.4091 - lr: 1.2500e-04\n",
            "Epoch 22/50\n",
            "21/21 [==============================] - ETA: 0s - loss: 0.0211 - categorical_accuracy: 0.9929\n",
            "Epoch 22: saving model to model_init_2022-03-0109_35_41.581190/model-00022-0.02107-0.99291-2.93867-0.48000.h5\n",
            "\n",
            "Epoch 22: ReduceLROnPlateau reducing learning rate to 6.25000029685907e-05.\n",
            "21/21 [==============================] - 71s 4s/step - loss: 0.0211 - categorical_accuracy: 0.9929 - val_loss: 2.9387 - val_categorical_accuracy: 0.4800 - lr: 1.2500e-04\n",
            "Epoch 23/50\n",
            "21/21 [==============================] - ETA: 0s - loss: 0.0113 - categorical_accuracy: 0.9983\n",
            "Epoch 23: saving model to model_init_2022-03-0109_35_41.581190/model-00023-0.01127-0.99825-3.05863-0.45833.h5\n",
            "21/21 [==============================] - 75s 4s/step - loss: 0.0113 - categorical_accuracy: 0.9983 - val_loss: 3.0586 - val_categorical_accuracy: 0.4583 - lr: 6.2500e-05\n",
            "Epoch 24/50\n",
            "21/21 [==============================] - ETA: 0s - loss: 0.0137 - categorical_accuracy: 0.9983\n",
            "Epoch 24: saving model to model_init_2022-03-0109_35_41.581190/model-00024-0.01371-0.99825-1.96765-0.50000.h5\n",
            "21/21 [==============================] - 65s 3s/step - loss: 0.0137 - categorical_accuracy: 0.9983 - val_loss: 1.9677 - val_categorical_accuracy: 0.5000 - lr: 6.2500e-05\n",
            "Epoch 25/50\n",
            "21/21 [==============================] - ETA: 0s - loss: 0.0140 - categorical_accuracy: 0.9982\n",
            "Epoch 25: saving model to model_init_2022-03-0109_35_41.581190/model-00025-0.01403-0.99823-2.78806-0.50000.h5\n",
            "21/21 [==============================] - 69s 3s/step - loss: 0.0140 - categorical_accuracy: 0.9982 - val_loss: 2.7881 - val_categorical_accuracy: 0.5000 - lr: 6.2500e-05\n",
            "Epoch 26/50\n",
            "21/21 [==============================] - ETA: 0s - loss: 0.0146 - categorical_accuracy: 0.9966\n",
            "Epoch 26: saving model to model_init_2022-03-0109_35_41.581190/model-00026-0.01456-0.99656-2.59185-0.51000.h5\n",
            "21/21 [==============================] - 72s 4s/step - loss: 0.0146 - categorical_accuracy: 0.9966 - val_loss: 2.5919 - val_categorical_accuracy: 0.5100 - lr: 6.2500e-05\n",
            "Epoch 27/50\n",
            "21/21 [==============================] - ETA: 0s - loss: 0.0107 - categorical_accuracy: 1.0000\n",
            "Epoch 27: saving model to model_init_2022-03-0109_35_41.581190/model-00027-0.01065-1.00000-2.29588-0.54545.h5\n",
            "\n",
            "Epoch 27: ReduceLROnPlateau reducing learning rate to 3.125000148429535e-05.\n",
            "21/21 [==============================] - 69s 3s/step - loss: 0.0107 - categorical_accuracy: 1.0000 - val_loss: 2.2959 - val_categorical_accuracy: 0.5455 - lr: 6.2500e-05\n",
            "Epoch 28/50\n",
            "21/21 [==============================] - ETA: 0s - loss: 0.0107 - categorical_accuracy: 0.9983\n",
            "Epoch 28: saving model to model_init_2022-03-0109_35_41.581190/model-00028-0.01071-0.99831-2.13452-0.56818.h5\n",
            "21/21 [==============================] - 68s 3s/step - loss: 0.0107 - categorical_accuracy: 0.9983 - val_loss: 2.1345 - val_categorical_accuracy: 0.5682 - lr: 3.1250e-05\n",
            "Epoch 29/50\n",
            "21/21 [==============================] - ETA: 0s - loss: 0.0117 - categorical_accuracy: 1.0000\n",
            "Epoch 29: saving model to model_init_2022-03-0109_35_41.581190/model-00029-0.01167-1.00000-1.92897-0.65000.h5\n",
            "21/21 [==============================] - 70s 3s/step - loss: 0.0117 - categorical_accuracy: 1.0000 - val_loss: 1.9290 - val_categorical_accuracy: 0.6500 - lr: 3.1250e-05\n",
            "Epoch 30/50\n",
            "21/21 [==============================] - ETA: 0s - loss: 0.0085 - categorical_accuracy: 1.0000\n",
            "Epoch 30: saving model to model_init_2022-03-0109_35_41.581190/model-00030-0.00853-1.00000-1.99296-0.63889.h5\n",
            "21/21 [==============================] - 73s 4s/step - loss: 0.0085 - categorical_accuracy: 1.0000 - val_loss: 1.9930 - val_categorical_accuracy: 0.6389 - lr: 3.1250e-05\n",
            "Epoch 31/50\n",
            "21/21 [==============================] - ETA: 0s - loss: 0.0099 - categorical_accuracy: 1.0000\n",
            "Epoch 31: saving model to model_init_2022-03-0109_35_41.581190/model-00031-0.00992-1.00000-2.86104-0.56250.h5\n",
            "21/21 [==============================] - 63s 3s/step - loss: 0.0099 - categorical_accuracy: 1.0000 - val_loss: 2.8610 - val_categorical_accuracy: 0.5625 - lr: 3.1250e-05\n",
            "Epoch 32/50\n",
            "21/21 [==============================] - ETA: 0s - loss: 0.0118 - categorical_accuracy: 0.9984\n",
            "Epoch 32: saving model to model_init_2022-03-0109_35_41.581190/model-00032-0.01178-0.99836-1.48109-0.70833.h5\n",
            "21/21 [==============================] - 73s 4s/step - loss: 0.0118 - categorical_accuracy: 0.9984 - val_loss: 1.4811 - val_categorical_accuracy: 0.7083 - lr: 3.1250e-05\n",
            "Epoch 33/50\n",
            "21/21 [==============================] - ETA: 0s - loss: 0.0086 - categorical_accuracy: 1.0000\n",
            "Epoch 33: saving model to model_init_2022-03-0109_35_41.581190/model-00033-0.00861-1.00000-1.35373-0.73000.h5\n",
            "21/21 [==============================] - 69s 3s/step - loss: 0.0086 - categorical_accuracy: 1.0000 - val_loss: 1.3537 - val_categorical_accuracy: 0.7300 - lr: 3.1250e-05\n",
            "Epoch 34/50\n",
            "21/21 [==============================] - ETA: 0s - loss: 0.0130 - categorical_accuracy: 0.9968\n",
            "Epoch 34: saving model to model_init_2022-03-0109_35_41.581190/model-00034-0.01301-0.99676-0.70057-0.79545.h5\n",
            "21/21 [==============================] - 72s 4s/step - loss: 0.0130 - categorical_accuracy: 0.9968 - val_loss: 0.7006 - val_categorical_accuracy: 0.7955 - lr: 3.1250e-05\n",
            "Epoch 35/50\n",
            "21/21 [==============================] - ETA: 0s - loss: 0.0066 - categorical_accuracy: 1.0000\n",
            "Epoch 35: saving model to model_init_2022-03-0109_35_41.581190/model-00035-0.00659-1.00000-0.75806-0.81818.h5\n",
            "21/21 [==============================] - 60s 3s/step - loss: 0.0066 - categorical_accuracy: 1.0000 - val_loss: 0.7581 - val_categorical_accuracy: 0.8182 - lr: 3.1250e-05\n",
            "Epoch 36/50\n",
            "21/21 [==============================] - ETA: 0s - loss: 0.0111 - categorical_accuracy: 0.9984\n",
            "Epoch 36: saving model to model_init_2022-03-0109_35_41.581190/model-00036-0.01107-0.99841-1.39171-0.72000.h5\n",
            "21/21 [==============================] - 78s 4s/step - loss: 0.0111 - categorical_accuracy: 0.9984 - val_loss: 1.3917 - val_categorical_accuracy: 0.7200 - lr: 3.1250e-05\n",
            "Epoch 37/50\n",
            "21/21 [==============================] - ETA: 0s - loss: 0.0073 - categorical_accuracy: 1.0000\n",
            "Epoch 37: saving model to model_init_2022-03-0109_35_41.581190/model-00037-0.00733-1.00000-1.24650-0.76389.h5\n",
            "21/21 [==============================] - 68s 3s/step - loss: 0.0073 - categorical_accuracy: 1.0000 - val_loss: 1.2465 - val_categorical_accuracy: 0.7639 - lr: 3.1250e-05\n",
            "Epoch 38/50\n",
            "21/21 [==============================] - ETA: 0s - loss: 0.0068 - categorical_accuracy: 1.0000\n",
            "Epoch 38: saving model to model_init_2022-03-0109_35_41.581190/model-00038-0.00681-1.00000-1.50541-0.75000.h5\n",
            "21/21 [==============================] - 72s 4s/step - loss: 0.0068 - categorical_accuracy: 1.0000 - val_loss: 1.5054 - val_categorical_accuracy: 0.7500 - lr: 3.1250e-05\n",
            "Epoch 39/50\n",
            "21/21 [==============================] - ETA: 0s - loss: 0.0105 - categorical_accuracy: 0.9980\n",
            "Epoch 39: saving model to model_init_2022-03-0109_35_41.581190/model-00039-0.01048-0.99800-1.14371-0.77778.h5\n",
            "\n",
            "Epoch 39: ReduceLROnPlateau reducing learning rate to 1.5625000742147677e-05.\n",
            "21/21 [==============================] - 62s 3s/step - loss: 0.0105 - categorical_accuracy: 0.9980 - val_loss: 1.1437 - val_categorical_accuracy: 0.7778 - lr: 3.1250e-05\n",
            "Epoch 40/50\n",
            "21/21 [==============================] - ETA: 0s - loss: 0.0084 - categorical_accuracy: 1.0000\n",
            "Epoch 40: saving model to model_init_2022-03-0109_35_41.581190/model-00040-0.00835-1.00000-1.27821-0.74000.h5\n",
            "21/21 [==============================] - 86s 4s/step - loss: 0.0084 - categorical_accuracy: 1.0000 - val_loss: 1.2782 - val_categorical_accuracy: 0.7400 - lr: 1.5625e-05\n",
            "Epoch 41/50\n",
            "21/21 [==============================] - ETA: 0s - loss: 0.0084 - categorical_accuracy: 1.0000\n",
            "Epoch 41: saving model to model_init_2022-03-0109_35_41.581190/model-00041-0.00838-1.00000-1.37579-0.72727.h5\n",
            "21/21 [==============================] - 61s 3s/step - loss: 0.0084 - categorical_accuracy: 1.0000 - val_loss: 1.3758 - val_categorical_accuracy: 0.7273 - lr: 1.5625e-05\n",
            "Epoch 42/50\n",
            "21/21 [==============================] - ETA: 0s - loss: 0.0103 - categorical_accuracy: 0.9985\n",
            "Epoch 42: saving model to model_init_2022-03-0109_35_41.581190/model-00042-0.01034-0.99847-0.96482-0.81818.h5\n",
            "21/21 [==============================] - 75s 4s/step - loss: 0.0103 - categorical_accuracy: 0.9985 - val_loss: 0.9648 - val_categorical_accuracy: 0.8182 - lr: 1.5625e-05\n",
            "Epoch 43/50\n",
            "21/21 [==============================] - ETA: 0s - loss: 0.0084 - categorical_accuracy: 0.9979\n",
            "Epoch 43: saving model to model_init_2022-03-0109_35_41.581190/model-00043-0.00835-0.99793-1.10592-0.76000.h5\n",
            "21/21 [==============================] - 64s 3s/step - loss: 0.0084 - categorical_accuracy: 0.9979 - val_loss: 1.1059 - val_categorical_accuracy: 0.7600 - lr: 1.5625e-05\n",
            "Epoch 44/50\n",
            "21/21 [==============================] - ETA: 0s - loss: 0.0070 - categorical_accuracy: 1.0000\n",
            "Epoch 44: saving model to model_init_2022-03-0109_35_41.581190/model-00044-0.00705-1.00000-0.91775-0.79167.h5\n",
            "\n",
            "Epoch 44: ReduceLROnPlateau reducing learning rate to 7.812500371073838e-06.\n",
            "21/21 [==============================] - 81s 4s/step - loss: 0.0070 - categorical_accuracy: 1.0000 - val_loss: 0.9178 - val_categorical_accuracy: 0.7917 - lr: 1.5625e-05\n",
            "Epoch 45/50\n",
            "21/21 [==============================] - ETA: 0s - loss: 0.0084 - categorical_accuracy: 0.9979\n",
            "Epoch 45: saving model to model_init_2022-03-0109_35_41.581190/model-00045-0.00844-0.99793-0.36798-0.81250.h5\n",
            "21/21 [==============================] - 56s 3s/step - loss: 0.0084 - categorical_accuracy: 0.9979 - val_loss: 0.3680 - val_categorical_accuracy: 0.8125 - lr: 7.8125e-06\n",
            "Epoch 45: early stopping\n"
          ]
        }
      ],
      "source": [
        "num_epochs=50\n",
        "history1 = model.fit_generator(train_generator, steps_per_epoch=steps_per_epoch, epochs=num_epochs, verbose=1, \n",
        "                    callbacks=callbacks_list, validation_data=val_generator, \n",
        "                    validation_steps=validation_steps, class_weight=None, workers=1, initial_epoch=0)"
      ]
    },
    {
      "cell_type": "code",
      "execution_count": 33,
      "metadata": {
        "colab": {
          "base_uri": "https://localhost:8080/",
          "height": 499
        },
        "id": "onu2PJhXnpHk",
        "outputId": "a11a2f1e-6595-4dce-ba54-0cf0caaa664e"
      },
      "outputs": [
        {
          "output_type": "display_data",
          "data": {
            "image/png": "[encoded data removed]",
            "text/plain": [
              "<Figure size 576x576 with 2 Axes>"
            ]
          },
          "metadata": {
            "needs_background": "light"
          }
        }
      ],
      "source": [
        "#Plotting stats for Training and Validation\n",
        "acc = history1.history['categorical_accuracy']\n",
        "val_acc = history1.history['val_categorical_accuracy']\n",
        "\n",
        "loss = history1.history['loss']\n",
        "val_loss = history1.history['val_loss']\n",
        "\n",
        "epochs_range = range(45)\n",
        "\n",
        "plt.figure(figsize=(8, 8))\n",
        "plt.subplot(1, 2, 1)\n",
        "plt.plot(epochs_range, acc, label='Training Accuracy')\n",
        "plt.plot(epochs_range, val_acc, label='Validation Accuracy')\n",
        "plt.legend(loc='lower right')\n",
        "plt.title('Training and Validation Accuracy')\n",
        "\n",
        "plt.subplot(1, 2, 2)\n",
        "plt.plot(epochs_range, loss, label='Training Loss')\n",
        "plt.plot(epochs_range, val_loss, label='Validation Loss')\n",
        "plt.legend(loc='upper right')\n",
        "plt.title('Training and Validation Loss')\n",
        "plt.show()"
      ]
    },
    {
      "cell_type": "markdown",
      "source": [
        "There is significant improvement in accuracy. The best model has accuracy of around 87%"
      ],
      "metadata": {
        "id": "5QT1id6Nnf6_"
      }
    },
    {
      "cell_type": "markdown",
      "source": [
        "Let's see how GRU model is performing for the same parameters"
      ],
      "metadata": {
        "id": "q9z3jAgknn5W"
      }
    },
    {
      "cell_type": "markdown",
      "source": [
        "**Conv2D + RNN (GRU)**"
      ],
      "metadata": {
        "id": "CFaOTH1untgk"
      }
    },
    {
      "cell_type": "code",
      "execution_count": 10,
      "metadata": {
        "id": "gpanut6LAD5Q"
      },
      "outputs": [],
      "source": [
        "Input_shape= (len(img_idx), 120, 120, 3)\n",
        "\n",
        "model = Sequential()\n",
        "model.add(TimeDistributed(Conv2D(16, (3, 3), strides=(2,2), activation='relu', padding='same'), input_shape=Input_shape))\n",
        "model.add(TimeDistributed(BatchNormalization()))\n",
        "model.add(TimeDistributed(MaxPooling2D((2,2), strides=(2,2))))\n",
        "model.add(Dropout (0.25))\n",
        "\n",
        "model.add(TimeDistributed(Conv2D(32, (3,3), padding='same', activation='relu')))\n",
        "model.add(TimeDistributed(BatchNormalization()))\n",
        "model.add(TimeDistributed(MaxPooling2D((2,2), strides=(2,2))))\n",
        "model.add(Dropout (0.25))\n",
        "\n",
        "model.add(TimeDistributed(Conv2D(64, (3,3), padding='same', activation='relu')))\n",
        "model.add(TimeDistributed(BatchNormalization()))\n",
        "model.add(TimeDistributed(MaxPooling2D((2,2), strides=(2,2))))\n",
        "model.add(Dropout (0.25))\n",
        "\n",
        "model.add(TimeDistributed(Conv2D(128, (3,3), padding='same', activation='relu')))\n",
        "model.add(TimeDistributed(BatchNormalization()))\n",
        "model.add(TimeDistributed(MaxPooling2D((2,2), strides=(2,2))))\n",
        "model.add(Dropout (0.25))\n",
        "\n",
        "model.add(TimeDistributed(Flatten()))\n",
        "\n",
        "model.add(Dense(256, activation='relu'))\n",
        "model.add(Dropout (0.25))\n",
        "model.add(Dense(256, activation='relu'))\n",
        "model.add(Dropout (0.25))\n",
        "\n",
        "model.add(GRU(512, return_sequences=False, dropout=0.50)) # Trying out GRU model\n",
        "model.add(Dense(5, activation='softmax'))"
      ]
    },
    {
      "cell_type": "code",
      "execution_count": 11,
      "metadata": {
        "colab": {
          "base_uri": "https://localhost:8080/"
        },
        "id": "P5F9J88MAD5R",
        "outputId": "98100617-bc93-4732-d5f3-c8ce767d872d"
      },
      "outputs": [
        {
          "output_type": "stream",
          "name": "stdout",
          "text": [
            "Model: \"sequential\"\n",
            "_________________________________________________________________\n",
            " Layer (type)                Output Shape              Param #   \n",
            "=================================================================\n",
            " time_distributed (TimeDistr  (None, 19, 60, 60, 16)   448       \n",
            " ibuted)                                                         \n",
            "                                                                 \n",
            " time_distributed_1 (TimeDis  (None, 19, 60, 60, 16)   64        \n",
            " tributed)                                                       \n",
            "                                                                 \n",
            " time_distributed_2 (TimeDis  (None, 19, 30, 30, 16)   0         \n",
            " tributed)                                                       \n",
            "                                                                 \n",
            " dropout (Dropout)           (None, 19, 30, 30, 16)    0         \n",
            "                                                                 \n",
            " time_distributed_3 (TimeDis  (None, 19, 30, 30, 32)   4640      \n",
            " tributed)                                                       \n",
            "                                                                 \n",
            " time_distributed_4 (TimeDis  (None, 19, 30, 30, 32)   128       \n",
            " tributed)                                                       \n",
            "                                                                 \n",
            " time_distributed_5 (TimeDis  (None, 19, 15, 15, 32)   0         \n",
            " tributed)                                                       \n",
            "                                                                 \n",
            " dropout_1 (Dropout)         (None, 19, 15, 15, 32)    0         \n",
            "                                                                 \n",
            " time_distributed_6 (TimeDis  (None, 19, 15, 15, 64)   18496     \n",
            " tributed)                                                       \n",
            "                                                                 \n",
            " time_distributed_7 (TimeDis  (None, 19, 15, 15, 64)   256       \n",
            " tributed)                                                       \n",
            "                                                                 \n",
            " time_distributed_8 (TimeDis  (None, 19, 7, 7, 64)     0         \n",
            " tributed)                                                       \n",
            "                                                                 \n",
            " dropout_2 (Dropout)         (None, 19, 7, 7, 64)      0         \n",
            "                                                                 \n",
            " time_distributed_9 (TimeDis  (None, 19, 7, 7, 128)    73856     \n",
            " tributed)                                                       \n",
            "                                                                 \n",
            " time_distributed_10 (TimeDi  (None, 19, 7, 7, 128)    512       \n",
            " stributed)                                                      \n",
            "                                                                 \n",
            " time_distributed_11 (TimeDi  (None, 19, 3, 3, 128)    0         \n",
            " stributed)                                                      \n",
            "                                                                 \n",
            " dropout_3 (Dropout)         (None, 19, 3, 3, 128)     0         \n",
            "                                                                 \n",
            " time_distributed_12 (TimeDi  (None, 19, 1152)         0         \n",
            " stributed)                                                      \n",
            "                                                                 \n",
            " dense (Dense)               (None, 19, 256)           295168    \n",
            "                                                                 \n",
            " dropout_4 (Dropout)         (None, 19, 256)           0         \n",
            "                                                                 \n",
            " dense_1 (Dense)             (None, 19, 256)           65792     \n",
            "                                                                 \n",
            " dropout_5 (Dropout)         (None, 19, 256)           0         \n",
            "                                                                 \n",
            " gru (GRU)                   (None, 512)               1182720   \n",
            "                                                                 \n",
            " dense_2 (Dense)             (None, 5)                 2565      \n",
            "                                                                 \n",
            "=================================================================\n",
            "Total params: 1,644,645\n",
            "Trainable params: 1,644,165\n",
            "Non-trainable params: 480\n",
            "_________________________________________________________________\n",
            "None\n"
          ]
        }
      ],
      "source": [
        "optimiser = 'adam'#write your optimizer\n",
        "model.compile(optimizer=optimiser, loss='categorical_crossentropy', metrics=['categorical_accuracy'])\n",
        "print (model.summary())"
      ]
    },
    {
      "cell_type": "code",
      "execution_count": 12,
      "metadata": {
        "id": "pCd2I1EzAD5R"
      },
      "outputs": [],
      "source": [
        "train_generator = generator(train_path, train_doc, batch_size)\n",
        "val_generator = generator(val_path, val_doc, batch_size)"
      ]
    },
    {
      "cell_type": "code",
      "execution_count": 13,
      "metadata": {
        "colab": {
          "base_uri": "https://localhost:8080/"
        },
        "id": "JzeeNepAAD5R",
        "outputId": "1ffc8b46-75a0-4945-e0dc-3016eb095429"
      },
      "outputs": [
        {
          "output_type": "stream",
          "name": "stdout",
          "text": [
            "WARNING:tensorflow:`period` argument is deprecated. Please use `save_freq` to specify the frequency in number of batches seen.\n"
          ]
        }
      ],
      "source": [
        "model_name = 'model_init' + '_' + str(curr_dt_time).replace(' ','').replace(':','_') + '/'\n",
        "    \n",
        "if not os.path.exists(model_name):\n",
        "    os.mkdir(model_name)\n",
        "        \n",
        "filepath = model_name + 'model-{epoch:05d}-{loss:.5f}-{categorical_accuracy:.5f}-{val_loss:.5f}-{val_categorical_accuracy:.5f}.h5'\n",
        "\n",
        "checkpoint = ModelCheckpoint(filepath, monitor='val_loss', verbose=1, save_best_only=False, save_weights_only=False, mode='auto', period=1)\n",
        "\n",
        "LR = ReduceLROnPlateau(monitor = \"val_loss\", factor = 0.5, patience=5, verbose=1, min_lr = 0) # write the REducelronplateau code here\n",
        "\n",
        "\n",
        "# if loss doesn't decrease for 10 epocs, stop training \n",
        "ES = EarlyStopping(monitor='loss', mode='min', verbose=1, patience=10)\n",
        "\n",
        "callbacks_list = [checkpoint, LR, ES]"
      ]
    },
    {
      "cell_type": "markdown",
      "metadata": {
        "id": "lzTEJgs_AD5R"
      },
      "source": [
        "The `steps_per_epoch` and `validation_steps` are used by `fit_generator` to decide the number of next() calls it need to make."
      ]
    },
    {
      "cell_type": "code",
      "execution_count": 14,
      "metadata": {
        "id": "yOJ0BwHzAD5S"
      },
      "outputs": [],
      "source": [
        "if (num_train_sequences%batch_size) == 0:\n",
        "    steps_per_epoch = int(num_train_sequences/batch_size)\n",
        "else:\n",
        "    steps_per_epoch = (num_train_sequences//batch_size) + 1\n",
        "\n",
        "if (num_val_sequences%batch_size) == 0:\n",
        "    validation_steps = int(num_val_sequences/batch_size)\n",
        "else:\n",
        "    validation_steps = (num_val_sequences//batch_size) + 1"
      ]
    },
    {
      "cell_type": "code",
      "execution_count": 15,
      "metadata": {
        "colab": {
          "base_uri": "https://localhost:8080/"
        },
        "id": "T3d0iWIlAD5S",
        "outputId": "fe8511e7-aff2-4514-8187-f4c8cc99c49f"
      },
      "outputs": [
        {
          "output_type": "stream",
          "name": "stdout",
          "text": [
            "Source path =  /content/drive/MyDrive/AIML/ColabNotebooks/RNN/RNNAssignmentGestureRecognition/Project_data/train ; batch size = 32\n"
          ]
        },
        {
          "output_type": "stream",
          "name": "stderr",
          "text": [
            "/usr/local/lib/python3.7/dist-packages/ipykernel_launcher.py:15: DeprecationWarning:     `imread` is deprecated!\n",
            "    `imread` is deprecated in SciPy 1.0.0, and will be removed in 1.2.0.\n",
            "    Use ``imageio.imread`` instead.\n",
            "  from ipykernel import kernelapp as app\n",
            "/usr/local/lib/python3.7/dist-packages/ipykernel_launcher.py:23: DeprecationWarning:     `imresize` is deprecated!\n",
            "    `imresize` is deprecated in SciPy 1.0.0, and will be removed in 1.2.0.\n",
            "    Use ``skimage.transform.resize`` instead.\n"
          ]
        },
        {
          "output_type": "stream",
          "name": "stdout",
          "text": [
            "Epoch 1/50\n",
            "19/21 [==========================>...] - ETA: 8:18 - loss: 1.6920 - categorical_accuracy: 0.3109 "
          ]
        },
        {
          "output_type": "stream",
          "name": "stderr",
          "text": [
            "/usr/local/lib/python3.7/dist-packages/ipykernel_launcher.py:43: DeprecationWarning:     `imread` is deprecated!\n",
            "    `imread` is deprecated in SciPy 1.0.0, and will be removed in 1.2.0.\n",
            "    Use ``imageio.imread`` instead.\n",
            "/usr/local/lib/python3.7/dist-packages/ipykernel_launcher.py:49: DeprecationWarning:     `imresize` is deprecated!\n",
            "    `imresize` is deprecated in SciPy 1.0.0, and will be removed in 1.2.0.\n",
            "    Use ``skimage.transform.resize`` instead.\n"
          ]
        },
        {
          "output_type": "stream",
          "name": "stdout",
          "text": [
            "21/21 [==============================] - ETA: 0s - loss: 1.6498 - categorical_accuracy: 0.3258  Source path =  /content/drive/MyDrive/AIML/ColabNotebooks/RNN/RNNAssignmentGestureRecognition/Project_data/val ; batch size = 32\n",
            "\n",
            "Epoch 1: saving model to model_init_2022-03-0109_35_41.581190/model-00001-1.64977-0.32579-1.68990-0.19000.h5\n",
            "21/21 [==============================] - 5533s 276s/step - loss: 1.6498 - categorical_accuracy: 0.3258 - val_loss: 1.6899 - val_categorical_accuracy: 0.1900 - lr: 0.0010\n",
            "Epoch 2/50\n",
            "21/21 [==============================] - ETA: 0s - loss: 1.1936 - categorical_accuracy: 0.5342\n",
            "Epoch 2: saving model to model_init_2022-03-0109_35_41.581190/model-00002-1.19365-0.53416-2.53177-0.22222.h5\n",
            "21/21 [==============================] - 98s 5s/step - loss: 1.1936 - categorical_accuracy: 0.5342 - val_loss: 2.5318 - val_categorical_accuracy: 0.2222 - lr: 0.0010\n",
            "Epoch 3/50\n",
            "21/21 [==============================] - ETA: 0s - loss: 1.0018 - categorical_accuracy: 0.6244 \n",
            "Epoch 3: saving model to model_init_2022-03-0109_35_41.581190/model-00003-1.00179-0.62443-3.03306-0.25000.h5\n",
            "21/21 [==============================] - 246s 12s/step - loss: 1.0018 - categorical_accuracy: 0.6244 - val_loss: 3.0331 - val_categorical_accuracy: 0.2500 - lr: 0.0010\n",
            "Epoch 4/50\n",
            "21/21 [==============================] - ETA: 0s - loss: 0.8071 - categorical_accuracy: 0.7039\n",
            "Epoch 4: saving model to model_init_2022-03-0109_35_41.581190/model-00004-0.80706-0.70393-3.36264-0.20833.h5\n",
            "21/21 [==============================] - 61s 3s/step - loss: 0.8071 - categorical_accuracy: 0.7039 - val_loss: 3.3626 - val_categorical_accuracy: 0.2083 - lr: 0.0010\n",
            "Epoch 5/50\n",
            "21/21 [==============================] - ETA: 0s - loss: 0.6625 - categorical_accuracy: 0.7584\n",
            "Epoch 5: saving model to model_init_2022-03-0109_35_41.581190/model-00005-0.66253-0.75841-3.96201-0.22000.h5\n",
            "21/21 [==============================] - 90s 5s/step - loss: 0.6625 - categorical_accuracy: 0.7584 - val_loss: 3.9620 - val_categorical_accuracy: 0.2200 - lr: 0.0010\n",
            "Epoch 6/50\n",
            "21/21 [==============================] - ETA: 0s - loss: 0.6048 - categorical_accuracy: 0.7805\n",
            "Epoch 6: saving model to model_init_2022-03-0109_35_41.581190/model-00006-0.60481-0.78049-3.28085-0.27273.h5\n",
            "\n",
            "Epoch 6: ReduceLROnPlateau reducing learning rate to 0.0005000000237487257.\n",
            "21/21 [==============================] - 61s 3s/step - loss: 0.6048 - categorical_accuracy: 0.7805 - val_loss: 3.2808 - val_categorical_accuracy: 0.2727 - lr: 0.0010\n",
            "Epoch 7/50\n",
            "21/21 [==============================] - ETA: 0s - loss: 0.4171 - categorical_accuracy: 0.8605\n",
            "Epoch 7: saving model to model_init_2022-03-0109_35_41.581190/model-00007-0.41706-0.86047-5.56745-0.20455.h5\n",
            "21/21 [==============================] - 76s 4s/step - loss: 0.4171 - categorical_accuracy: 0.8605 - val_loss: 5.5674 - val_categorical_accuracy: 0.2045 - lr: 5.0000e-04\n",
            "Epoch 8/50\n",
            "21/21 [==============================] - ETA: 0s - loss: 0.2891 - categorical_accuracy: 0.9082\n",
            "Epoch 8: saving model to model_init_2022-03-0109_35_41.581190/model-00008-0.28914-0.90818-5.45415-0.23000.h5\n",
            "21/21 [==============================] - 66s 3s/step - loss: 0.2891 - categorical_accuracy: 0.9082 - val_loss: 5.4541 - val_categorical_accuracy: 0.2300 - lr: 5.0000e-04\n",
            "Epoch 9/50\n",
            "21/21 [==============================] - ETA: 0s - loss: 0.2781 - categorical_accuracy: 0.9009\n",
            "Epoch 9: saving model to model_init_2022-03-0109_35_41.581190/model-00009-0.27810-0.90094-5.80247-0.22222.h5\n",
            "21/21 [==============================] - 82s 4s/step - loss: 0.2781 - categorical_accuracy: 0.9009 - val_loss: 5.8025 - val_categorical_accuracy: 0.2222 - lr: 5.0000e-04\n",
            "Epoch 10/50\n",
            "21/21 [==============================] - ETA: 0s - loss: 0.2124 - categorical_accuracy: 0.9294\n",
            "Epoch 10: saving model to model_init_2022-03-0109_35_41.581190/model-00010-0.21237-0.92941-4.15828-0.25000.h5\n",
            "21/21 [==============================] - 60s 3s/step - loss: 0.2124 - categorical_accuracy: 0.9294 - val_loss: 4.1583 - val_categorical_accuracy: 0.2500 - lr: 5.0000e-04\n",
            "Epoch 11/50\n",
            "21/21 [==============================] - ETA: 0s - loss: 0.1955 - categorical_accuracy: 0.9330\n",
            "Epoch 11: saving model to model_init_2022-03-0109_35_41.581190/model-00011-0.19550-0.93301-6.86005-0.22222.h5\n",
            "\n",
            "Epoch 11: ReduceLROnPlateau reducing learning rate to 0.0002500000118743628.\n",
            "21/21 [==============================] - 76s 4s/step - loss: 0.1955 - categorical_accuracy: 0.9330 - val_loss: 6.8601 - val_categorical_accuracy: 0.2222 - lr: 5.0000e-04\n",
            "Epoch 12/50\n",
            "21/21 [==============================] - ETA: 0s - loss: 0.1414 - categorical_accuracy: 0.9538\n",
            "Epoch 12: saving model to model_init_2022-03-0109_35_41.581190/model-00012-0.14143-0.95376-6.37994-0.23000.h5\n",
            "21/21 [==============================] - 68s 3s/step - loss: 0.1414 - categorical_accuracy: 0.9538 - val_loss: 6.3799 - val_categorical_accuracy: 0.2300 - lr: 2.5000e-04\n",
            "Epoch 13/50\n",
            "21/21 [==============================] - ETA: 0s - loss: 0.1002 - categorical_accuracy: 0.9709\n",
            "Epoch 13: saving model to model_init_2022-03-0109_35_41.581190/model-00013-0.10025-0.97087-6.44997-0.18182.h5\n",
            "21/21 [==============================] - 76s 4s/step - loss: 0.1002 - categorical_accuracy: 0.9709 - val_loss: 6.4500 - val_categorical_accuracy: 0.1818 - lr: 2.5000e-04\n",
            "Epoch 14/50\n",
            "21/21 [==============================] - ETA: 0s - loss: 0.0955 - categorical_accuracy: 0.9716\n",
            "Epoch 14: saving model to model_init_2022-03-0109_35_41.581190/model-00014-0.09551-0.97159-5.82123-0.25000.h5\n",
            "21/21 [==============================] - 63s 3s/step - loss: 0.0955 - categorical_accuracy: 0.9716 - val_loss: 5.8212 - val_categorical_accuracy: 0.2500 - lr: 2.5000e-04\n",
            "Epoch 15/50\n",
            "21/21 [==============================] - ETA: 0s - loss: 0.0720 - categorical_accuracy: 0.9737\n",
            "Epoch 15: saving model to model_init_2022-03-0109_35_41.581190/model-00015-0.07201-0.97373-5.80466-0.27000.h5\n",
            "21/21 [==============================] - 80s 4s/step - loss: 0.0720 - categorical_accuracy: 0.9737 - val_loss: 5.8047 - val_categorical_accuracy: 0.2700 - lr: 2.5000e-04\n",
            "Epoch 16/50\n",
            "21/21 [==============================] - ETA: 0s - loss: 0.0522 - categorical_accuracy: 0.9907\n",
            "Epoch 16: saving model to model_init_2022-03-0109_35_41.581190/model-00016-0.05223-0.99069-5.22136-0.33333.h5\n",
            "\n",
            "Epoch 16: ReduceLROnPlateau reducing learning rate to 0.0001250000059371814.\n",
            "21/21 [==============================] - 70s 3s/step - loss: 0.0522 - categorical_accuracy: 0.9907 - val_loss: 5.2214 - val_categorical_accuracy: 0.3333 - lr: 2.5000e-04\n",
            "Epoch 17/50\n",
            "21/21 [==============================] - ETA: 0s - loss: 0.0585 - categorical_accuracy: 0.9850\n",
            "Epoch 17: saving model to model_init_2022-03-0109_35_41.581190/model-00017-0.05854-0.98500-5.12518-0.25000.h5\n",
            "21/21 [==============================] - 71s 4s/step - loss: 0.0585 - categorical_accuracy: 0.9850 - val_loss: 5.1252 - val_categorical_accuracy: 0.2500 - lr: 1.2500e-04\n",
            "Epoch 18/50\n",
            "21/21 [==============================] - ETA: 0s - loss: 0.0366 - categorical_accuracy: 0.9945\n",
            "Epoch 18: saving model to model_init_2022-03-0109_35_41.581190/model-00018-0.03662-0.99451-5.82677-0.30556.h5\n",
            "21/21 [==============================] - 69s 3s/step - loss: 0.0366 - categorical_accuracy: 0.9945 - val_loss: 5.8268 - val_categorical_accuracy: 0.3056 - lr: 1.2500e-04\n",
            "Epoch 19/50\n",
            "21/21 [==============================] - ETA: 0s - loss: 0.0386 - categorical_accuracy: 0.9932\n",
            "Epoch 19: saving model to model_init_2022-03-0109_35_41.581190/model-00019-0.03862-0.99323-5.28936-0.36000.h5\n",
            "21/21 [==============================] - 82s 4s/step - loss: 0.0386 - categorical_accuracy: 0.9932 - val_loss: 5.2894 - val_categorical_accuracy: 0.3600 - lr: 1.2500e-04\n",
            "Epoch 20/50\n",
            "21/21 [==============================] - ETA: 0s - loss: 0.0279 - categorical_accuracy: 0.9928\n",
            "Epoch 20: saving model to model_init_2022-03-0109_35_41.581190/model-00020-0.02791-0.99279-5.56423-0.29545.h5\n",
            "21/21 [==============================] - 69s 3s/step - loss: 0.0279 - categorical_accuracy: 0.9928 - val_loss: 5.5642 - val_categorical_accuracy: 0.2955 - lr: 1.2500e-04\n",
            "Epoch 21/50\n",
            "21/21 [==============================] - ETA: 0s - loss: 0.0389 - categorical_accuracy: 0.9948\n",
            "Epoch 21: saving model to model_init_2022-03-0109_35_41.581190/model-00021-0.03893-0.99485-4.95868-0.36364.h5\n",
            "\n",
            "Epoch 21: ReduceLROnPlateau reducing learning rate to 6.25000029685907e-05.\n",
            "21/21 [==============================] - 72s 4s/step - loss: 0.0389 - categorical_accuracy: 0.9948 - val_loss: 4.9587 - val_categorical_accuracy: 0.3636 - lr: 1.2500e-04\n",
            "Epoch 22/50\n",
            "21/21 [==============================] - ETA: 0s - loss: 0.0249 - categorical_accuracy: 0.9982\n",
            "Epoch 22: saving model to model_init_2022-03-0109_35_41.581190/model-00022-0.02489-0.99823-4.75073-0.43000.h5\n",
            "21/21 [==============================] - 73s 4s/step - loss: 0.0249 - categorical_accuracy: 0.9982 - val_loss: 4.7507 - val_categorical_accuracy: 0.4300 - lr: 6.2500e-05\n",
            "Epoch 23/50\n",
            "21/21 [==============================] - ETA: 0s - loss: 0.0216 - categorical_accuracy: 0.9983\n",
            "Epoch 23: saving model to model_init_2022-03-0109_35_41.581190/model-00023-0.02157-0.99825-4.40066-0.45833.h5\n",
            "21/21 [==============================] - 74s 4s/step - loss: 0.0216 - categorical_accuracy: 0.9983 - val_loss: 4.4007 - val_categorical_accuracy: 0.4583 - lr: 6.2500e-05\n",
            "Epoch 24/50\n",
            "21/21 [==============================] - ETA: 0s - loss: 0.0295 - categorical_accuracy: 0.9930\n",
            "Epoch 24: saving model to model_init_2022-03-0109_35_41.581190/model-00024-0.02953-0.99302-5.71630-0.31250.h5\n",
            "21/21 [==============================] - 68s 3s/step - loss: 0.0295 - categorical_accuracy: 0.9930 - val_loss: 5.7163 - val_categorical_accuracy: 0.3125 - lr: 6.2500e-05\n",
            "Epoch 25/50\n",
            "21/21 [==============================] - ETA: 0s - loss: 0.0275 - categorical_accuracy: 0.9965\n",
            "Epoch 25: saving model to model_init_2022-03-0109_35_41.581190/model-00025-0.02749-0.99645-4.03206-0.47222.h5\n",
            "21/21 [==============================] - 72s 4s/step - loss: 0.0275 - categorical_accuracy: 0.9965 - val_loss: 4.0321 - val_categorical_accuracy: 0.4722 - lr: 6.2500e-05\n",
            "Epoch 26/50\n",
            "21/21 [==============================] - ETA: 0s - loss: 0.0250 - categorical_accuracy: 0.9948\n",
            "Epoch 26: saving model to model_init_2022-03-0109_35_41.581190/model-00026-0.02496-0.99485-4.15376-0.46000.h5\n",
            "\n",
            "Epoch 26: ReduceLROnPlateau reducing learning rate to 3.125000148429535e-05.\n",
            "21/21 [==============================] - 82s 4s/step - loss: 0.0250 - categorical_accuracy: 0.9948 - val_loss: 4.1538 - val_categorical_accuracy: 0.4600 - lr: 6.2500e-05\n",
            "Epoch 27/50\n",
            "21/21 [==============================] - ETA: 0s - loss: 0.0276 - categorical_accuracy: 0.9928\n",
            "Epoch 27: saving model to model_init_2022-03-0109_35_41.581190/model-00027-0.02762-0.99279-3.09777-0.52273.h5\n",
            "21/21 [==============================] - 71s 4s/step - loss: 0.0276 - categorical_accuracy: 0.9928 - val_loss: 3.0978 - val_categorical_accuracy: 0.5227 - lr: 3.1250e-05\n",
            "Epoch 28/50\n",
            "21/21 [==============================] - ETA: 0s - loss: 0.0283 - categorical_accuracy: 0.9932\n",
            "Epoch 28: saving model to model_init_2022-03-0109_35_41.581190/model-00028-0.02835-0.99323-3.53308-0.56818.h5\n",
            "21/21 [==============================] - 69s 3s/step - loss: 0.0283 - categorical_accuracy: 0.9932 - val_loss: 3.5331 - val_categorical_accuracy: 0.5682 - lr: 3.1250e-05\n",
            "Epoch 29/50\n",
            "21/21 [==============================] - ETA: 0s - loss: 0.0272 - categorical_accuracy: 0.9945\n",
            "Epoch 29: saving model to model_init_2022-03-0109_35_41.581190/model-00029-0.02722-0.99451-3.37612-0.51000.h5\n",
            "21/21 [==============================] - 72s 4s/step - loss: 0.0272 - categorical_accuracy: 0.9945 - val_loss: 3.3761 - val_categorical_accuracy: 0.5100 - lr: 3.1250e-05\n",
            "Epoch 30/50\n",
            "21/21 [==============================] - ETA: 0s - loss: 0.0232 - categorical_accuracy: 0.9917\n",
            "Epoch 30: saving model to model_init_2022-03-0109_35_41.581190/model-00030-0.02320-0.99167-2.90065-0.51389.h5\n",
            "21/21 [==============================] - 77s 4s/step - loss: 0.0232 - categorical_accuracy: 0.9917 - val_loss: 2.9006 - val_categorical_accuracy: 0.5139 - lr: 3.1250e-05\n",
            "Epoch 31/50\n",
            "21/21 [==============================] - ETA: 0s - loss: 0.0318 - categorical_accuracy: 0.9926\n",
            "Epoch 31: saving model to model_init_2022-03-0109_35_41.581190/model-00031-0.03177-0.99255-1.75410-0.62500.h5\n",
            "\n",
            "Epoch 31: ReduceLROnPlateau reducing learning rate to 1.5625000742147677e-05.\n",
            "21/21 [==============================] - 66s 3s/step - loss: 0.0318 - categorical_accuracy: 0.9926 - val_loss: 1.7541 - val_categorical_accuracy: 0.6250 - lr: 3.1250e-05\n",
            "Epoch 32/50\n",
            "21/21 [==============================] - ETA: 0s - loss: 0.0240 - categorical_accuracy: 0.9934\n",
            "Epoch 32: saving model to model_init_2022-03-0109_35_41.581190/model-00032-0.02403-0.99343-2.67688-0.54167.h5\n",
            "21/21 [==============================] - 75s 4s/step - loss: 0.0240 - categorical_accuracy: 0.9934 - val_loss: 2.6769 - val_categorical_accuracy: 0.5417 - lr: 1.5625e-05\n",
            "Epoch 33/50\n",
            "21/21 [==============================] - ETA: 0s - loss: 0.0285 - categorical_accuracy: 0.9905\n",
            "Epoch 33: saving model to model_init_2022-03-0109_35_41.581190/model-00033-0.02853-0.99053-2.38980-0.59000.h5\n",
            "21/21 [==============================] - 70s 3s/step - loss: 0.0285 - categorical_accuracy: 0.9905 - val_loss: 2.3898 - val_categorical_accuracy: 0.5900 - lr: 1.5625e-05\n",
            "Epoch 33: early stopping\n"
          ]
        }
      ],
      "source": [
        "#num_epochs=50\n",
        "history12 = model.fit(train_generator, steps_per_epoch=steps_per_epoch, epochs=num_epochs, verbose=1, \n",
        "                    callbacks=callbacks_list, validation_data=val_generator, \n",
        "                    validation_steps=validation_steps, class_weight=None, workers=1, initial_epoch=0)"
      ]
    },
    {
      "cell_type": "code",
      "execution_count": 17,
      "metadata": {
        "id": "9JvQL2jcAD5S"
      },
      "outputs": [],
      "source": [
        "#Plotting stats for Training and Validation\n",
        "acc = history12.history['categorical_accuracy']\n",
        "val_acc = history12.history['val_categorical_accuracy']\n",
        "\n",
        "loss = history12.history['loss']\n",
        "val_loss = history12.history['val_loss']"
      ]
    },
    {
      "cell_type": "code",
      "source": [
        "epochs_range =  range(33)\n",
        "\n",
        "plt.figure(figsize=(8, 8))\n",
        "plt.subplot(1, 2, 1)\n",
        "plt.plot(epochs_range, acc, label='Training Accuracy')\n",
        "plt.plot(epochs_range, val_acc, label='Validation Accuracy')\n",
        "plt.legend(loc='lower right')\n",
        "plt.title('Training and Validation Accuracy')\n",
        "\n",
        "plt.subplot(1, 2, 2)\n",
        "plt.plot(epochs_range, loss, label='Training Loss')\n",
        "plt.plot(epochs_range, val_loss, label='Validation Loss')\n",
        "plt.legend(loc='upper right')\n",
        "plt.title('Training and Validation Loss')\n",
        "plt.show()"
      ],
      "metadata": {
        "colab": {
          "base_uri": "https://localhost:8080/",
          "height": 499
        },
        "id": "9IkAbynzLC_U",
        "outputId": "01fb9c5c-1cd5-4ea8-f4b4-ccad7846e741"
      },
      "execution_count": 18,
      "outputs": [
        {
          "output_type": "display_data",
          "data": {
            "image/png": "[encoded data removed]",
            "text/plain": [
              "<Figure size 576x576 with 2 Axes>"
            ]
          },
          "metadata": {
            "needs_background": "light"
          }
        }
      ]
    },
    {
      "cell_type": "markdown",
      "source": [
        "The model stopped early because of no significant drop in validation loss. Also the model is overfitting. The trainable parameters are very high in this model. Let's decrease the trainable parameters and see if it improves the GRU model performance"
      ],
      "metadata": {
        "id": "kDnHkIdOn8Q5"
      }
    },
    {
      "cell_type": "code",
      "source": [
        "Input_shape= (len(img_idx), 120, 120, 3)\n",
        "\n",
        "model = Sequential()\n",
        "model.add(TimeDistributed(Conv2D(32, (3, 3), strides=(2,2), activation='relu', padding='same'), input_shape=Input_shape))\n",
        "model.add(TimeDistributed(BatchNormalization()))\n",
        "model.add(TimeDistributed(MaxPooling2D((2,2), strides=(2,2))))\n",
        "model.add(Dropout (0.25))\n",
        "\n",
        "model.add(TimeDistributed(Conv2D(64, (3,3), padding='same', activation='relu')))\n",
        "model.add(TimeDistributed(BatchNormalization()))\n",
        "model.add(TimeDistributed(MaxPooling2D((2,2), strides=(2,2))))\n",
        "model.add(Dropout (0.25))\n",
        "\n",
        "model.add(TimeDistributed(Conv2D(128, (3,3), padding='same', activation='relu')))\n",
        "model.add(TimeDistributed(BatchNormalization()))\n",
        "model.add(TimeDistributed(MaxPooling2D((2,2), strides=(2,2))))\n",
        "model.add(Dropout (0.25))\n",
        "\n",
        "#model.add(TimeDistributed(Conv2D(128, (3,3), padding='same', activation='relu')))\n",
        "#model.add(TimeDistributed(BatchNormalization()))\n",
        "#model.add(TimeDistributed(MaxPooling2D((2,2), strides=(2,2))))\n",
        "#model.add(Dropout (0.25))\n",
        "\n",
        "model.add(TimeDistributed(Flatten()))\n",
        "\n",
        "model.add(Dense(256, activation='relu'))\n",
        "model.add(Dropout (0.25))\n",
        "#model.add(Dense(256, activation='relu'))\n",
        "#model.add(Dropout (0.25))\n",
        "\n",
        "model.add(GRU(256, return_sequences=False, dropout=0.25)) # Trying out GRU model\n",
        "model.add(Dense(5, activation='softmax'))\n"
      ],
      "metadata": {
        "id": "isAvHvgZWVIG"
      },
      "execution_count": 19,
      "outputs": []
    },
    {
      "cell_type": "code",
      "execution_count": 20,
      "metadata": {
        "colab": {
          "base_uri": "https://localhost:8080/"
        },
        "outputId": "7192f39a-7076-42d7-b2b1-c7a274739748",
        "id": "pJIaOKAGW7ZT"
      },
      "outputs": [
        {
          "output_type": "stream",
          "name": "stdout",
          "text": [
            "Model: \"sequential_1\"\n",
            "_________________________________________________________________\n",
            " Layer (type)                Output Shape              Param #   \n",
            "=================================================================\n",
            " time_distributed_13 (TimeDi  (None, 19, 60, 60, 32)   896       \n",
            " stributed)                                                      \n",
            "                                                                 \n",
            " time_distributed_14 (TimeDi  (None, 19, 60, 60, 32)   128       \n",
            " stributed)                                                      \n",
            "                                                                 \n",
            " time_distributed_15 (TimeDi  (None, 19, 30, 30, 32)   0         \n",
            " stributed)                                                      \n",
            "                                                                 \n",
            " dropout_6 (Dropout)         (None, 19, 30, 30, 32)    0         \n",
            "                                                                 \n",
            " time_distributed_16 (TimeDi  (None, 19, 30, 30, 64)   18496     \n",
            " stributed)                                                      \n",
            "                                                                 \n",
            " time_distributed_17 (TimeDi  (None, 19, 30, 30, 64)   256       \n",
            " stributed)                                                      \n",
            "                                                                 \n",
            " time_distributed_18 (TimeDi  (None, 19, 15, 15, 64)   0         \n",
            " stributed)                                                      \n",
            "                                                                 \n",
            " dropout_7 (Dropout)         (None, 19, 15, 15, 64)    0         \n",
            "                                                                 \n",
            " time_distributed_19 (TimeDi  (None, 19, 15, 15, 128)  73856     \n",
            " stributed)                                                      \n",
            "                                                                 \n",
            " time_distributed_20 (TimeDi  (None, 19, 15, 15, 128)  512       \n",
            " stributed)                                                      \n",
            "                                                                 \n",
            " time_distributed_21 (TimeDi  (None, 19, 7, 7, 128)    0         \n",
            " stributed)                                                      \n",
            "                                                                 \n",
            " dropout_8 (Dropout)         (None, 19, 7, 7, 128)     0         \n",
            "                                                                 \n",
            " time_distributed_22 (TimeDi  (None, 19, 6272)         0         \n",
            " stributed)                                                      \n",
            "                                                                 \n",
            " dense_3 (Dense)             (None, 19, 256)           1605888   \n",
            "                                                                 \n",
            " dropout_9 (Dropout)         (None, 19, 256)           0         \n",
            "                                                                 \n",
            " gru_1 (GRU)                 (None, 256)               394752    \n",
            "                                                                 \n",
            " dense_4 (Dense)             (None, 5)                 1285      \n",
            "                                                                 \n",
            "=================================================================\n",
            "Total params: 2,096,069\n",
            "Trainable params: 2,095,621\n",
            "Non-trainable params: 448\n",
            "_________________________________________________________________\n",
            "None\n"
          ]
        }
      ],
      "source": [
        "optimiser = 'adam'#write your optimizer\n",
        "model.compile(optimizer=optimiser, loss='categorical_crossentropy', metrics=['categorical_accuracy'])\n",
        "print (model.summary())"
      ]
    },
    {
      "cell_type": "code",
      "execution_count": 21,
      "metadata": {
        "id": "B7MJ24AGW7ZU"
      },
      "outputs": [],
      "source": [
        "train_generator = generator(train_path, train_doc, batch_size)\n",
        "val_generator = generator(val_path, val_doc, batch_size)"
      ]
    },
    {
      "cell_type": "code",
      "execution_count": 22,
      "metadata": {
        "colab": {
          "base_uri": "https://localhost:8080/"
        },
        "outputId": "c3655baf-dc8b-4ae8-86bf-42aeae66381a",
        "id": "VVvv04YlW7ZU"
      },
      "outputs": [
        {
          "output_type": "stream",
          "name": "stdout",
          "text": [
            "WARNING:tensorflow:`period` argument is deprecated. Please use `save_freq` to specify the frequency in number of batches seen.\n"
          ]
        }
      ],
      "source": [
        "model_name = 'model_init' + '_' + str(curr_dt_time).replace(' ','').replace(':','_') + '/'\n",
        "    \n",
        "if not os.path.exists(model_name):\n",
        "    os.mkdir(model_name)\n",
        "        \n",
        "filepath = model_name + 'model-{epoch:05d}-{loss:.5f}-{categorical_accuracy:.5f}-{val_loss:.5f}-{val_categorical_accuracy:.5f}.h5'\n",
        "\n",
        "checkpoint = ModelCheckpoint(filepath, monitor='val_loss', verbose=1, save_best_only=False, save_weights_only=False, mode='auto', period=1)\n",
        "\n",
        "LR = ReduceLROnPlateau(monitor = \"val_loss\", factor = 0.5, patience=5, verbose=1, min_lr = 0) # write the REducelronplateau code here\n",
        "\n",
        "\n",
        "# if loss doesn't decrease for 10 epocs, stop training \n",
        "ES = EarlyStopping(monitor='loss', mode='min', verbose=1, patience=10)\n",
        "\n",
        "callbacks_list = [checkpoint, LR, ES]"
      ]
    },
    {
      "cell_type": "markdown",
      "metadata": {
        "id": "O2csR8gGW7ZV"
      },
      "source": [
        "The `steps_per_epoch` and `validation_steps` are used by `fit_generator` to decide the number of next() calls it need to make."
      ]
    },
    {
      "cell_type": "code",
      "execution_count": 23,
      "metadata": {
        "id": "4WDFXIdwW7ZV"
      },
      "outputs": [],
      "source": [
        "if (num_train_sequences%batch_size) == 0:\n",
        "    steps_per_epoch = int(num_train_sequences/batch_size)\n",
        "else:\n",
        "    steps_per_epoch = (num_train_sequences//batch_size) + 1\n",
        "\n",
        "if (num_val_sequences%batch_size) == 0:\n",
        "    validation_steps = int(num_val_sequences/batch_size)\n",
        "else:\n",
        "    validation_steps = (num_val_sequences//batch_size) + 1"
      ]
    },
    {
      "cell_type": "code",
      "execution_count": 24,
      "metadata": {
        "colab": {
          "base_uri": "https://localhost:8080/"
        },
        "outputId": "0d44112a-a126-4087-b01a-895f3540e3d9",
        "id": "mYxn85ryW7ZV"
      },
      "outputs": [
        {
          "output_type": "stream",
          "name": "stdout",
          "text": [
            "Source path =  /content/drive/MyDrive/AIML/ColabNotebooks/RNN/RNNAssignmentGestureRecognition/Project_data/train ; batch size = 32\n"
          ]
        },
        {
          "output_type": "stream",
          "name": "stderr",
          "text": [
            "/usr/local/lib/python3.7/dist-packages/ipykernel_launcher.py:15: DeprecationWarning:     `imread` is deprecated!\n",
            "    `imread` is deprecated in SciPy 1.0.0, and will be removed in 1.2.0.\n",
            "    Use ``imageio.imread`` instead.\n",
            "  from ipykernel import kernelapp as app\n",
            "/usr/local/lib/python3.7/dist-packages/ipykernel_launcher.py:23: DeprecationWarning:     `imresize` is deprecated!\n",
            "    `imresize` is deprecated in SciPy 1.0.0, and will be removed in 1.2.0.\n",
            "    Use ``skimage.transform.resize`` instead.\n"
          ]
        },
        {
          "output_type": "stream",
          "name": "stdout",
          "text": [
            "Epoch 1/50\n",
            "19/21 [==========================>...] - ETA: 6s - loss: 1.8535 - categorical_accuracy: 0.2977 "
          ]
        },
        {
          "output_type": "stream",
          "name": "stderr",
          "text": [
            "/usr/local/lib/python3.7/dist-packages/ipykernel_launcher.py:43: DeprecationWarning:     `imread` is deprecated!\n",
            "    `imread` is deprecated in SciPy 1.0.0, and will be removed in 1.2.0.\n",
            "    Use ``imageio.imread`` instead.\n",
            "/usr/local/lib/python3.7/dist-packages/ipykernel_launcher.py:49: DeprecationWarning:     `imresize` is deprecated!\n",
            "    `imresize` is deprecated in SciPy 1.0.0, and will be removed in 1.2.0.\n",
            "    Use ``skimage.transform.resize`` instead.\n"
          ]
        },
        {
          "output_type": "stream",
          "name": "stdout",
          "text": [
            "21/21 [==============================] - ETA: 0s - loss: 1.7950 - categorical_accuracy: 0.3213Source path =  /content/drive/MyDrive/AIML/ColabNotebooks/RNN/RNNAssignmentGestureRecognition/Project_data/val ; batch size = 32\n",
            "\n",
            "Epoch 1: saving model to model_init_2022-03-0109_35_41.581190/model-00001-1.79503-0.32127-1.99167-0.28000.h5\n",
            "21/21 [==============================] - 89s 4s/step - loss: 1.7950 - categorical_accuracy: 0.3213 - val_loss: 1.9917 - val_categorical_accuracy: 0.2800 - lr: 0.0010\n",
            "Epoch 2/50\n",
            "21/21 [==============================] - ETA: 0s - loss: 1.2080 - categorical_accuracy: 0.5010\n",
            "Epoch 2: saving model to model_init_2022-03-0109_35_41.581190/model-00002-1.20804-0.50104-2.49399-0.23611.h5\n",
            "21/21 [==============================] - 65s 3s/step - loss: 1.2080 - categorical_accuracy: 0.5010 - val_loss: 2.4940 - val_categorical_accuracy: 0.2361 - lr: 0.0010\n",
            "Epoch 3/50\n",
            "21/21 [==============================] - ETA: 0s - loss: 0.9642 - categorical_accuracy: 0.6380\n",
            "Epoch 3: saving model to model_init_2022-03-0109_35_41.581190/model-00003-0.96416-0.63801-2.56488-0.25000.h5\n",
            "21/21 [==============================] - 80s 4s/step - loss: 0.9642 - categorical_accuracy: 0.6380 - val_loss: 2.5649 - val_categorical_accuracy: 0.2500 - lr: 0.0010\n",
            "Epoch 4/50\n",
            "21/21 [==============================] - ETA: 0s - loss: 0.8652 - categorical_accuracy: 0.6832\n",
            "Epoch 4: saving model to model_init_2022-03-0109_35_41.581190/model-00004-0.86516-0.68323-2.34822-0.22222.h5\n",
            "21/21 [==============================] - 63s 3s/step - loss: 0.8652 - categorical_accuracy: 0.6832 - val_loss: 2.3482 - val_categorical_accuracy: 0.2222 - lr: 0.0010\n",
            "Epoch 5/50\n",
            "21/21 [==============================] - ETA: 0s - loss: 0.6621 - categorical_accuracy: 0.7523\n",
            "Epoch 5: saving model to model_init_2022-03-0109_35_41.581190/model-00005-0.66206-0.75229-3.12756-0.16000.h5\n",
            "21/21 [==============================] - 86s 4s/step - loss: 0.6621 - categorical_accuracy: 0.7523 - val_loss: 3.1276 - val_categorical_accuracy: 0.1600 - lr: 0.0010\n",
            "Epoch 6/50\n",
            "21/21 [==============================] - ETA: 0s - loss: 0.6308 - categorical_accuracy: 0.7622\n",
            "Epoch 6: saving model to model_init_2022-03-0109_35_41.581190/model-00006-0.63078-0.76220-3.12411-0.15909.h5\n",
            "\n",
            "Epoch 6: ReduceLROnPlateau reducing learning rate to 0.0005000000237487257.\n",
            "21/21 [==============================] - 66s 3s/step - loss: 0.6308 - categorical_accuracy: 0.7622 - val_loss: 3.1241 - val_categorical_accuracy: 0.1591 - lr: 0.0010\n",
            "Epoch 7/50\n",
            "21/21 [==============================] - ETA: 0s - loss: 0.4820 - categorical_accuracy: 0.8078\n",
            "Epoch 7: saving model to model_init_2022-03-0109_35_41.581190/model-00007-0.48199-0.80775-3.05540-0.22727.h5\n",
            "21/21 [==============================] - 80s 4s/step - loss: 0.4820 - categorical_accuracy: 0.8078 - val_loss: 3.0554 - val_categorical_accuracy: 0.2273 - lr: 5.0000e-04\n",
            "Epoch 8/50\n",
            "21/21 [==============================] - ETA: 0s - loss: 0.4274 - categorical_accuracy: 0.8124\n",
            "Epoch 8: saving model to model_init_2022-03-0109_35_41.581190/model-00008-0.42739-0.81238-2.60075-0.25000.h5\n",
            "21/21 [==============================] - 70s 3s/step - loss: 0.4274 - categorical_accuracy: 0.8124 - val_loss: 2.6008 - val_categorical_accuracy: 0.2500 - lr: 5.0000e-04\n",
            "Epoch 9/50\n",
            "21/21 [==============================] - ETA: 0s - loss: 0.3206 - categorical_accuracy: 0.8962\n",
            "Epoch 9: saving model to model_init_2022-03-0109_35_41.581190/model-00009-0.32062-0.89623-2.60420-0.23611.h5\n",
            "21/21 [==============================] - 89s 4s/step - loss: 0.3206 - categorical_accuracy: 0.8962 - val_loss: 2.6042 - val_categorical_accuracy: 0.2361 - lr: 5.0000e-04\n",
            "Epoch 10/50\n",
            "21/21 [==============================] - ETA: 0s - loss: 0.2740 - categorical_accuracy: 0.9118\n",
            "Epoch 10: saving model to model_init_2022-03-0109_35_41.581190/model-00010-0.27395-0.91176-2.93658-0.18750.h5\n",
            "21/21 [==============================] - 61s 3s/step - loss: 0.2740 - categorical_accuracy: 0.9118 - val_loss: 2.9366 - val_categorical_accuracy: 0.1875 - lr: 5.0000e-04\n",
            "Epoch 11/50\n",
            "21/21 [==============================] - ETA: 0s - loss: 0.1872 - categorical_accuracy: 0.9506\n",
            "Epoch 11: saving model to model_init_2022-03-0109_35_41.581190/model-00011-0.18725-0.95056-2.69612-0.18056.h5\n",
            "\n",
            "Epoch 11: ReduceLROnPlateau reducing learning rate to 0.0002500000118743628.\n",
            "21/21 [==============================] - 79s 4s/step - loss: 0.1872 - categorical_accuracy: 0.9506 - val_loss: 2.6961 - val_categorical_accuracy: 0.1806 - lr: 5.0000e-04\n",
            "Epoch 12/50\n",
            "21/21 [==============================] - ETA: 0s - loss: 0.1872 - categorical_accuracy: 0.9538\n",
            "Epoch 12: saving model to model_init_2022-03-0109_35_41.581190/model-00012-0.18722-0.95376-2.64171-0.22000.h5\n",
            "21/21 [==============================] - 69s 3s/step - loss: 0.1872 - categorical_accuracy: 0.9538 - val_loss: 2.6417 - val_categorical_accuracy: 0.2200 - lr: 2.5000e-04\n",
            "Epoch 13/50\n",
            "21/21 [==============================] - ETA: 0s - loss: 0.1431 - categorical_accuracy: 0.9628\n",
            "Epoch 13: saving model to model_init_2022-03-0109_35_41.581190/model-00013-0.14310-0.96278-2.48492-0.31818.h5\n",
            "21/21 [==============================] - 78s 4s/step - loss: 0.1431 - categorical_accuracy: 0.9628 - val_loss: 2.4849 - val_categorical_accuracy: 0.3182 - lr: 2.5000e-04\n",
            "Epoch 14/50\n",
            "21/21 [==============================] - ETA: 0s - loss: 0.1482 - categorical_accuracy: 0.9640\n",
            "Epoch 14: saving model to model_init_2022-03-0109_35_41.581190/model-00014-0.14821-0.96402-3.24754-0.11364.h5\n",
            "21/21 [==============================] - 66s 3s/step - loss: 0.1482 - categorical_accuracy: 0.9640 - val_loss: 3.2475 - val_categorical_accuracy: 0.1136 - lr: 2.5000e-04\n",
            "Epoch 15/50\n",
            "21/21 [==============================] - ETA: 0s - loss: 0.1151 - categorical_accuracy: 0.9770\n",
            "Epoch 15: saving model to model_init_2022-03-0109_35_41.581190/model-00015-0.11506-0.97701-2.86151-0.19000.h5\n",
            "21/21 [==============================] - 80s 4s/step - loss: 0.1151 - categorical_accuracy: 0.9770 - val_loss: 2.8615 - val_categorical_accuracy: 0.1900 - lr: 2.5000e-04\n",
            "Epoch 16/50\n",
            "21/21 [==============================] - ETA: 0s - loss: 0.1119 - categorical_accuracy: 0.9721\n",
            "Epoch 16: saving model to model_init_2022-03-0109_35_41.581190/model-00016-0.11192-0.97207-2.66785-0.25000.h5\n",
            "\n",
            "Epoch 16: ReduceLROnPlateau reducing learning rate to 0.0001250000059371814.\n",
            "21/21 [==============================] - 71s 4s/step - loss: 0.1119 - categorical_accuracy: 0.9721 - val_loss: 2.6679 - val_categorical_accuracy: 0.2500 - lr: 2.5000e-04\n",
            "Epoch 17/50\n",
            "21/21 [==============================] - ETA: 0s - loss: 0.0982 - categorical_accuracy: 0.9783\n",
            "Epoch 17: saving model to model_init_2022-03-0109_35_41.581190/model-00017-0.09819-0.97833-2.76291-0.31250.h5\n",
            "21/21 [==============================] - 72s 4s/step - loss: 0.0982 - categorical_accuracy: 0.9783 - val_loss: 2.7629 - val_categorical_accuracy: 0.3125 - lr: 1.2500e-04\n",
            "Epoch 18/50\n",
            "21/21 [==============================] - ETA: 0s - loss: 0.0999 - categorical_accuracy: 0.9725\n",
            "Epoch 18: saving model to model_init_2022-03-0109_35_41.581190/model-00018-0.09989-0.97253-2.83640-0.22222.h5\n",
            "21/21 [==============================] - 70s 3s/step - loss: 0.0999 - categorical_accuracy: 0.9725 - val_loss: 2.8364 - val_categorical_accuracy: 0.2222 - lr: 1.2500e-04\n",
            "Epoch 19/50\n",
            "21/21 [==============================] - ETA: 0s - loss: 0.0871 - categorical_accuracy: 0.9882\n",
            "Epoch 19: saving model to model_init_2022-03-0109_35_41.581190/model-00019-0.08709-0.98816-2.89714-0.18000.h5\n",
            "21/21 [==============================] - 80s 4s/step - loss: 0.0871 - categorical_accuracy: 0.9882 - val_loss: 2.8971 - val_categorical_accuracy: 0.1800 - lr: 1.2500e-04\n",
            "Epoch 20/50\n",
            "21/21 [==============================] - ETA: 0s - loss: 0.0841 - categorical_accuracy: 0.9820\n",
            "Epoch 20: saving model to model_init_2022-03-0109_35_41.581190/model-00020-0.08406-0.98198-3.05033-0.20455.h5\n",
            "21/21 [==============================] - 69s 3s/step - loss: 0.0841 - categorical_accuracy: 0.9820 - val_loss: 3.0503 - val_categorical_accuracy: 0.2045 - lr: 1.2500e-04\n",
            "Epoch 21/50\n",
            "21/21 [==============================] - ETA: 0s - loss: 0.0805 - categorical_accuracy: 0.9880\n",
            "Epoch 21: saving model to model_init_2022-03-0109_35_41.581190/model-00021-0.08053-0.98797-2.71682-0.18182.h5\n",
            "\n",
            "Epoch 21: ReduceLROnPlateau reducing learning rate to 6.25000029685907e-05.\n",
            "21/21 [==============================] - 72s 4s/step - loss: 0.0805 - categorical_accuracy: 0.9880 - val_loss: 2.7168 - val_categorical_accuracy: 0.1818 - lr: 1.2500e-04\n",
            "Epoch 22/50\n",
            "21/21 [==============================] - ETA: 0s - loss: 0.0686 - categorical_accuracy: 0.9911\n",
            "Epoch 22: saving model to model_init_2022-03-0109_35_41.581190/model-00022-0.06861-0.99113-2.80302-0.23000.h5\n",
            "21/21 [==============================] - 75s 4s/step - loss: 0.0686 - categorical_accuracy: 0.9911 - val_loss: 2.8030 - val_categorical_accuracy: 0.2300 - lr: 6.2500e-05\n",
            "Epoch 23/50\n",
            "21/21 [==============================] - ETA: 0s - loss: 0.0665 - categorical_accuracy: 0.9878\n",
            "Epoch 23: saving model to model_init_2022-03-0109_35_41.581190/model-00023-0.06650-0.98778-3.05513-0.26389.h5\n",
            "21/21 [==============================] - 84s 4s/step - loss: 0.0665 - categorical_accuracy: 0.9878 - val_loss: 3.0551 - val_categorical_accuracy: 0.2639 - lr: 6.2500e-05\n",
            "Epoch 24/50\n",
            "21/21 [==============================] - ETA: 0s - loss: 0.0760 - categorical_accuracy: 0.9860\n",
            "Epoch 24: saving model to model_init_2022-03-0109_35_41.581190/model-00024-0.07598-0.98604-3.59477-0.25000.h5\n",
            "21/21 [==============================] - 67s 3s/step - loss: 0.0760 - categorical_accuracy: 0.9860 - val_loss: 3.5948 - val_categorical_accuracy: 0.2500 - lr: 6.2500e-05\n",
            "Epoch 25/50\n",
            "21/21 [==============================] - ETA: 0s - loss: 0.0583 - categorical_accuracy: 0.9965\n",
            "Epoch 25: saving model to model_init_2022-03-0109_35_41.581190/model-00025-0.05830-0.99645-2.71329-0.33333.h5\n",
            "21/21 [==============================] - 72s 4s/step - loss: 0.0583 - categorical_accuracy: 0.9965 - val_loss: 2.7133 - val_categorical_accuracy: 0.3333 - lr: 6.2500e-05\n",
            "Epoch 26/50\n",
            "21/21 [==============================] - ETA: 0s - loss: 0.0764 - categorical_accuracy: 0.9828\n",
            "Epoch 26: saving model to model_init_2022-03-0109_35_41.581190/model-00026-0.07639-0.98282-2.43494-0.39000.h5\n",
            "\n",
            "Epoch 26: ReduceLROnPlateau reducing learning rate to 3.125000148429535e-05.\n",
            "21/21 [==============================] - 74s 4s/step - loss: 0.0764 - categorical_accuracy: 0.9828 - val_loss: 2.4349 - val_categorical_accuracy: 0.3900 - lr: 6.2500e-05\n",
            "Epoch 27/50\n",
            "21/21 [==============================] - ETA: 0s - loss: 0.0625 - categorical_accuracy: 0.9910\n",
            "Epoch 27: saving model to model_init_2022-03-0109_35_41.581190/model-00027-0.06248-0.99099-2.46175-0.38636.h5\n",
            "21/21 [==============================] - 68s 3s/step - loss: 0.0625 - categorical_accuracy: 0.9910 - val_loss: 2.4618 - val_categorical_accuracy: 0.3864 - lr: 3.1250e-05\n",
            "Epoch 28/50\n",
            "21/21 [==============================] - ETA: 0s - loss: 0.0558 - categorical_accuracy: 0.9932\n",
            "Epoch 28: saving model to model_init_2022-03-0109_35_41.581190/model-00028-0.05585-0.99323-1.75609-0.52273.h5\n",
            "21/21 [==============================] - 70s 3s/step - loss: 0.0558 - categorical_accuracy: 0.9932 - val_loss: 1.7561 - val_categorical_accuracy: 0.5227 - lr: 3.1250e-05\n",
            "Epoch 29/50\n",
            "21/21 [==============================] - ETA: 0s - loss: 0.0529 - categorical_accuracy: 0.9945\n",
            "Epoch 29: saving model to model_init_2022-03-0109_35_41.581190/model-00029-0.05292-0.99451-1.73480-0.53000.h5\n",
            "21/21 [==============================] - 72s 4s/step - loss: 0.0529 - categorical_accuracy: 0.9945 - val_loss: 1.7348 - val_categorical_accuracy: 0.5300 - lr: 3.1250e-05\n",
            "Epoch 30/50\n",
            "21/21 [==============================] - ETA: 0s - loss: 0.0546 - categorical_accuracy: 0.9917\n",
            "Epoch 30: saving model to model_init_2022-03-0109_35_41.581190/model-00030-0.05460-0.99167-1.73759-0.51389.h5\n",
            "21/21 [==============================] - 78s 4s/step - loss: 0.0546 - categorical_accuracy: 0.9917 - val_loss: 1.7376 - val_categorical_accuracy: 0.5139 - lr: 3.1250e-05\n",
            "Epoch 31/50\n",
            "21/21 [==============================] - ETA: 0s - loss: 0.0494 - categorical_accuracy: 0.9981\n",
            "Epoch 31: saving model to model_init_2022-03-0109_35_41.581190/model-00031-0.04936-0.99814-1.89958-0.50000.h5\n",
            "21/21 [==============================] - 63s 3s/step - loss: 0.0494 - categorical_accuracy: 0.9981 - val_loss: 1.8996 - val_categorical_accuracy: 0.5000 - lr: 3.1250e-05\n",
            "Epoch 32/50\n",
            "21/21 [==============================] - ETA: 0s - loss: 0.0529 - categorical_accuracy: 0.9934\n",
            "Epoch 32: saving model to model_init_2022-03-0109_35_41.581190/model-00032-0.05285-0.99343-1.40810-0.55556.h5\n",
            "21/21 [==============================] - 75s 4s/step - loss: 0.0529 - categorical_accuracy: 0.9934 - val_loss: 1.4081 - val_categorical_accuracy: 0.5556 - lr: 3.1250e-05\n",
            "Epoch 33/50\n",
            "21/21 [==============================] - ETA: 0s - loss: 0.0580 - categorical_accuracy: 0.9867\n",
            "Epoch 33: saving model to model_init_2022-03-0109_35_41.581190/model-00033-0.05804-0.98674-1.12592-0.66000.h5\n",
            "21/21 [==============================] - 70s 3s/step - loss: 0.0580 - categorical_accuracy: 0.9867 - val_loss: 1.1259 - val_categorical_accuracy: 0.6600 - lr: 3.1250e-05\n",
            "Epoch 34/50\n",
            "21/21 [==============================] - ETA: 0s - loss: 0.0612 - categorical_accuracy: 0.9919\n",
            "Epoch 34: saving model to model_init_2022-03-0109_35_41.581190/model-00034-0.06123-0.99191-0.94033-0.68182.h5\n",
            "21/21 [==============================] - 75s 4s/step - loss: 0.0612 - categorical_accuracy: 0.9919 - val_loss: 0.9403 - val_categorical_accuracy: 0.6818 - lr: 3.1250e-05\n",
            "Epoch 35/50\n",
            "21/21 [==============================] - ETA: 0s - loss: 0.0526 - categorical_accuracy: 0.9981\n",
            "Epoch 35: saving model to model_init_2022-03-0109_35_41.581190/model-00035-0.05262-0.99807-0.76129-0.72727.h5\n",
            "21/21 [==============================] - 62s 3s/step - loss: 0.0526 - categorical_accuracy: 0.9981 - val_loss: 0.7613 - val_categorical_accuracy: 0.7273 - lr: 3.1250e-05\n",
            "Epoch 36/50\n",
            "21/21 [==============================] - ETA: 0s - loss: 0.0462 - categorical_accuracy: 0.9936\n",
            "Epoch 36: saving model to model_init_2022-03-0109_35_41.581190/model-00036-0.04621-0.99362-0.85854-0.74000.h5\n",
            "21/21 [==============================] - 78s 4s/step - loss: 0.0462 - categorical_accuracy: 0.9936 - val_loss: 0.8585 - val_categorical_accuracy: 0.7400 - lr: 3.1250e-05\n",
            "Epoch 37/50\n",
            "21/21 [==============================] - ETA: 0s - loss: 0.0476 - categorical_accuracy: 0.9941\n",
            "Epoch 37: saving model to model_init_2022-03-0109_35_41.581190/model-00037-0.04764-0.99412-0.78455-0.73611.h5\n",
            "21/21 [==============================] - 67s 3s/step - loss: 0.0476 - categorical_accuracy: 0.9941 - val_loss: 0.7846 - val_categorical_accuracy: 0.7361 - lr: 3.1250e-05\n",
            "Epoch 38/50\n",
            "21/21 [==============================] - ETA: 0s - loss: 0.0457 - categorical_accuracy: 0.9953\n",
            "Epoch 38: saving model to model_init_2022-03-0109_35_41.581190/model-00038-0.04574-0.99528-0.74148-0.81250.h5\n",
            "21/21 [==============================] - 73s 4s/step - loss: 0.0457 - categorical_accuracy: 0.9953 - val_loss: 0.7415 - val_categorical_accuracy: 0.8125 - lr: 3.1250e-05\n",
            "Epoch 39/50\n",
            "21/21 [==============================] - ETA: 0s - loss: 0.0404 - categorical_accuracy: 0.9980\n",
            "Epoch 39: saving model to model_init_2022-03-0109_35_41.581190/model-00039-0.04038-0.99800-0.77529-0.75000.h5\n",
            "21/21 [==============================] - 62s 3s/step - loss: 0.0404 - categorical_accuracy: 0.9980 - val_loss: 0.7753 - val_categorical_accuracy: 0.7500 - lr: 3.1250e-05\n",
            "Epoch 40/50\n",
            "21/21 [==============================] - ETA: 0s - loss: 0.0508 - categorical_accuracy: 0.9953\n",
            "Epoch 40: saving model to model_init_2022-03-0109_35_41.581190/model-00040-0.05076-0.99535-0.72550-0.77000.h5\n",
            "21/21 [==============================] - 80s 4s/step - loss: 0.0508 - categorical_accuracy: 0.9953 - val_loss: 0.7255 - val_categorical_accuracy: 0.7700 - lr: 3.1250e-05\n",
            "Epoch 41/50\n",
            "21/21 [==============================] - ETA: 0s - loss: 0.0484 - categorical_accuracy: 0.9959\n",
            "Epoch 41: saving model to model_init_2022-03-0109_35_41.581190/model-00041-0.04844-0.99593-0.78824-0.81818.h5\n",
            "21/21 [==============================] - 61s 3s/step - loss: 0.0484 - categorical_accuracy: 0.9959 - val_loss: 0.7882 - val_categorical_accuracy: 0.8182 - lr: 3.1250e-05\n",
            "Epoch 42/50\n",
            "21/21 [==============================] - ETA: 0s - loss: 0.0448 - categorical_accuracy: 0.9985\n",
            "Epoch 42: saving model to model_init_2022-03-0109_35_41.581190/model-00042-0.04481-0.99847-0.62195-0.86364.h5\n",
            "21/21 [==============================] - 75s 4s/step - loss: 0.0448 - categorical_accuracy: 0.9985 - val_loss: 0.6220 - val_categorical_accuracy: 0.8636 - lr: 3.1250e-05\n",
            "Epoch 43/50\n",
            "21/21 [==============================] - ETA: 0s - loss: 0.0459 - categorical_accuracy: 0.9979\n",
            "Epoch 43: saving model to model_init_2022-03-0109_35_41.581190/model-00043-0.04594-0.99793-0.73371-0.77000.h5\n",
            "21/21 [==============================] - 65s 3s/step - loss: 0.0459 - categorical_accuracy: 0.9979 - val_loss: 0.7337 - val_categorical_accuracy: 0.7700 - lr: 3.1250e-05\n",
            "Epoch 44/50\n",
            "21/21 [==============================] - ETA: 0s - loss: 0.0374 - categorical_accuracy: 0.9970\n",
            "Epoch 44: saving model to model_init_2022-03-0109_35_41.581190/model-00044-0.03741-0.99698-0.75140-0.75000.h5\n",
            "21/21 [==============================] - 92s 5s/step - loss: 0.0374 - categorical_accuracy: 0.9970 - val_loss: 0.7514 - val_categorical_accuracy: 0.7500 - lr: 3.1250e-05\n",
            "Epoch 45/50\n",
            "21/21 [==============================] - ETA: 0s - loss: 0.0519 - categorical_accuracy: 0.9938\n",
            "Epoch 45: saving model to model_init_2022-03-0109_35_41.581190/model-00045-0.05192-0.99379-0.61121-0.81250.h5\n",
            "21/21 [==============================] - 60s 3s/step - loss: 0.0519 - categorical_accuracy: 0.9938 - val_loss: 0.6112 - val_categorical_accuracy: 0.8125 - lr: 3.1250e-05\n",
            "Epoch 46/50\n",
            "21/21 [==============================] - ETA: 0s - loss: 0.0407 - categorical_accuracy: 0.9955\n",
            "Epoch 46: saving model to model_init_2022-03-0109_35_41.581190/model-00046-0.04065-0.99548-0.62282-0.80556.h5\n",
            "21/21 [==============================] - 83s 4s/step - loss: 0.0407 - categorical_accuracy: 0.9955 - val_loss: 0.6228 - val_categorical_accuracy: 0.8056 - lr: 3.1250e-05\n",
            "Epoch 47/50\n",
            "21/21 [==============================] - ETA: 0s - loss: 0.0461 - categorical_accuracy: 0.9959\n",
            "Epoch 47: saving model to model_init_2022-03-0109_35_41.581190/model-00047-0.04613-0.99586-0.66700-0.79000.h5\n",
            "21/21 [==============================] - 64s 3s/step - loss: 0.0461 - categorical_accuracy: 0.9959 - val_loss: 0.6670 - val_categorical_accuracy: 0.7900 - lr: 3.1250e-05\n",
            "Epoch 48/50\n",
            "21/21 [==============================] - ETA: 0s - loss: 0.0401 - categorical_accuracy: 0.9985\n",
            "Epoch 48: saving model to model_init_2022-03-0109_35_41.581190/model-00048-0.04012-0.99847-0.53841-0.77273.h5\n",
            "21/21 [==============================] - 80s 4s/step - loss: 0.0401 - categorical_accuracy: 0.9985 - val_loss: 0.5384 - val_categorical_accuracy: 0.7727 - lr: 3.1250e-05\n",
            "Epoch 49/50\n",
            "21/21 [==============================] - ETA: 0s - loss: 0.0476 - categorical_accuracy: 0.9939\n",
            "Epoch 49: saving model to model_init_2022-03-0109_35_41.581190/model-00049-0.04761-0.99390-0.67952-0.79545.h5\n",
            "21/21 [==============================] - 58s 3s/step - loss: 0.0476 - categorical_accuracy: 0.9939 - val_loss: 0.6795 - val_categorical_accuracy: 0.7955 - lr: 3.1250e-05\n",
            "Epoch 50/50\n",
            "21/21 [==============================] - ETA: 0s - loss: 0.0425 - categorical_accuracy: 0.9922\n",
            "Epoch 50: saving model to model_init_2022-03-0109_35_41.581190/model-00050-0.04248-0.99225-0.59215-0.81000.h5\n",
            "21/21 [==============================] - 82s 4s/step - loss: 0.0425 - categorical_accuracy: 0.9922 - val_loss: 0.5922 - val_categorical_accuracy: 0.8100 - lr: 3.1250e-05\n"
          ]
        }
      ],
      "source": [
        "#num_epochs=50\n",
        "history13 = model.fit(train_generator, steps_per_epoch=steps_per_epoch, epochs=num_epochs, verbose=1, \n",
        "                    callbacks=callbacks_list, validation_data=val_generator, \n",
        "                    validation_steps=validation_steps, class_weight=None, workers=1, initial_epoch=0)"
      ]
    },
    {
      "cell_type": "code",
      "execution_count": 25,
      "metadata": {
        "id": "OTWMETKGW7ZW"
      },
      "outputs": [],
      "source": [
        "#Plotting stats for Training and Validation\n",
        "acc = history13.history['categorical_accuracy']\n",
        "val_acc = history13.history['val_categorical_accuracy']\n",
        "\n",
        "loss = history13.history['loss']\n",
        "val_loss = history13.history['val_loss']"
      ]
    },
    {
      "cell_type": "code",
      "source": [
        "epochs_range =  range(50)\n",
        "\n",
        "plt.figure(figsize=(8, 8))\n",
        "plt.subplot(1, 2, 1)\n",
        "plt.plot(epochs_range, acc, label='Training Accuracy')\n",
        "plt.plot(epochs_range, val_acc, label='Validation Accuracy')\n",
        "plt.legend(loc='lower right')\n",
        "plt.title('Training and Validation Accuracy')\n",
        "\n",
        "plt.subplot(1, 2, 2)\n",
        "plt.plot(epochs_range, loss, label='Training Loss')\n",
        "plt.plot(epochs_range, val_loss, label='Validation Loss')\n",
        "plt.legend(loc='upper right')\n",
        "plt.title('Training and Validation Loss')\n",
        "plt.show()"
      ],
      "metadata": {
        "colab": {
          "base_uri": "https://localhost:8080/",
          "height": 499
        },
        "outputId": "db5ad8d7-b15a-447a-9f81-50c1c4194a7d",
        "id": "8eBvnqJAW7ZW"
      },
      "execution_count": 26,
      "outputs": [
        {
          "output_type": "display_data",
          "data": {
            "image/png": "[encoded data removed]",
            "text/plain": [
              "<Figure size 576x576 with 2 Axes>"
            ]
          },
          "metadata": {
            "needs_background": "light"
          }
        }
      ]
    },
    {
      "cell_type": "markdown",
      "source": [
        "There is significant improvement after we simplified the model. The best model has accuracy of around 87%"
      ],
      "metadata": {
        "id": "zZBdWywgoOo6"
      }
    },
    {
      "cell_type": "markdown",
      "source": [
        ""
      ],
      "metadata": {
        "id": "xRyqyApToaSo"
      }
    },
    {
      "cell_type": "code",
      "source": [
        "# Creaitng a Conv3D Model"
      ],
      "metadata": {
        "id": "prBEIyy4FwVv"
      },
      "execution_count": null,
      "outputs": []
    },
    {
      "cell_type": "markdown",
      "source": [
        "**Conv3D model**"
      ],
      "metadata": {
        "id": "UvGGi3x1oXkq"
      }
    },
    {
      "cell_type": "code",
      "source": [
        "img_height = 120\n",
        "img_width = 120\n",
        "number_of_images = len(img_idx)\n",
        "num_classes = 5\n",
        "batch_size=30\n",
        "\n",
        "Input_shape= (len(img_idx), 120, 120, 3)\n",
        "\n",
        "model_conv3D = Sequential()\n",
        "\n",
        "model_conv3D.add(Conv3D(32, kernel_size=(2,2,2), activation='relu', kernel_initializer='he_uniform', input_shape=Input_shape))\n",
        "model_conv3D.add(BatchNormalization())\n",
        "model_conv3D.add(MaxPooling3D(pool_size=(2,2,2), strides=(2,2,2)))\n",
        "\n",
        "model_conv3D.add(Conv3D(64, kernel_size=(2,2,2), activation='relu', kernel_initializer='he_uniform'))\n",
        "model_conv3D.add(BatchNormalization())\n",
        "model_conv3D.add(MaxPooling3D(pool_size=(2,2,2), strides=(2,2,2)))\n",
        "\n",
        "model_conv3D.add(Flatten())\n",
        "model_conv3D.add(Dense(128, activation='relu', kernel_initializer='he_uniform'))\n",
        "model_conv3D.add(Dense(num_classes, activation='softmax'))"
      ],
      "metadata": {
        "id": "E-bmYPkkoGxi"
      },
      "execution_count": null,
      "outputs": []
    },
    {
      "cell_type": "code",
      "source": [
        "optimiser = 'adam'#write your optimizer\n",
        "model_conv3D.compile(optimizer=optimiser, loss='categorical_crossentropy', metrics=['categorical_accuracy'])\n",
        "print (model_conv3D.summary())"
      ],
      "metadata": {
        "colab": {
          "base_uri": "https://localhost:8080/"
        },
        "outputId": "04bb5837-ee31-4a18-fa51-869da3fcdb26",
        "id": "y9_n008eoGxj"
      },
      "execution_count": null,
      "outputs": [
        {
          "output_type": "stream",
          "name": "stdout",
          "text": [
            "Model: \"sequential_1\"\n",
            "_________________________________________________________________\n",
            " Layer (type)                Output Shape              Param #   \n",
            "=================================================================\n",
            " conv3d (Conv3D)             (None, 18, 119, 119, 32)  800       \n",
            "                                                                 \n",
            " batch_normalization_4 (Batc  (None, 18, 119, 119, 32)  128      \n",
            " hNormalization)                                                 \n",
            "                                                                 \n",
            " max_pooling3d (MaxPooling3D  (None, 9, 59, 59, 32)    0         \n",
            " )                                                               \n",
            "                                                                 \n",
            " conv3d_1 (Conv3D)           (None, 8, 58, 58, 64)     16448     \n",
            "                                                                 \n",
            " batch_normalization_5 (Batc  (None, 8, 58, 58, 64)    256       \n",
            " hNormalization)                                                 \n",
            "                                                                 \n",
            " max_pooling3d_1 (MaxPooling  (None, 4, 29, 29, 64)    0         \n",
            " 3D)                                                             \n",
            "                                                                 \n",
            " flatten_1 (Flatten)         (None, 215296)            0         \n",
            "                                                                 \n",
            " dense_3 (Dense)             (None, 128)               27558016  \n",
            "                                                                 \n",
            " dense_4 (Dense)             (None, 5)                 645       \n",
            "                                                                 \n",
            "=================================================================\n",
            "Total params: 27,576,293\n",
            "Trainable params: 27,576,101\n",
            "Non-trainable params: 192\n",
            "_________________________________________________________________\n",
            "None\n"
          ]
        }
      ]
    },
    {
      "cell_type": "code",
      "source": [
        "model_name = 'model_init' + '_' + str(curr_dt_time).replace(' ','').replace(':','_') + '/'\n",
        "    \n",
        "if not os.path.exists(model_name):\n",
        "    os.mkdir(model_name)\n",
        "        \n",
        "filepath = model_name + 'model-{epoch:05d}-{loss:.5f}-{categorical_accuracy:.5f}-{val_loss:.5f}-{val_categorical_accuracy:.5f}.h5'\n",
        "\n",
        "checkpoint = ModelCheckpoint(filepath, monitor='val_loss', verbose=1, save_best_only=False, save_weights_only=False, mode='auto', period=1)\n",
        "\n",
        "LR = ReduceLROnPlateau(monitor = \"val_loss\", factor = 0.5, patience=5, verbose=1, min_lr = 0) # write the REducelronplateau code here\n",
        "\n",
        "# if loss doesn't decrease for 10 epocs, stop training \n",
        "ES = EarlyStopping(monitor='loss', mode='min', verbose=1, patience=10)\n",
        "\n",
        "callbacks_list = [checkpoint, LR, ES]"
      ],
      "metadata": {
        "colab": {
          "base_uri": "https://localhost:8080/"
        },
        "outputId": "a0e81b00-71f8-4433-ba2e-50f8ff7b5661",
        "id": "NxIJCTJioGxj"
      },
      "execution_count": null,
      "outputs": [
        {
          "output_type": "stream",
          "name": "stdout",
          "text": [
            "WARNING:tensorflow:`period` argument is deprecated. Please use `save_freq` to specify the frequency in number of batches seen.\n"
          ]
        }
      ]
    },
    {
      "cell_type": "code",
      "source": [
        "train_generator = generator(train_path, train_doc, batch_size)\n",
        "val_generator = generator(val_path, val_doc, batch_size)"
      ],
      "metadata": {
        "id": "3v7OnUGcoGxk"
      },
      "execution_count": null,
      "outputs": []
    },
    {
      "cell_type": "code",
      "source": [
        "if (num_train_sequences%batch_size) == 0:\n",
        "    steps_per_epoch = int(num_train_sequences/batch_size)\n",
        "else:\n",
        "    steps_per_epoch = (num_train_sequences//batch_size) + 1\n",
        "\n",
        "if (num_val_sequences%batch_size) == 0:\n",
        "    validation_steps = int(num_val_sequences/batch_size)\n",
        "else:\n",
        "    validation_steps = (num_val_sequences//batch_size) + 1\n"
      ],
      "metadata": {
        "id": "Fz9vrojLoGxk"
      },
      "execution_count": null,
      "outputs": []
    },
    {
      "cell_type": "code",
      "source": [
        "num_epochs=50\n",
        "history5 = model_conv3D.fit_generator(train_generator, steps_per_epoch=steps_per_epoch, epochs=num_epochs, verbose=1, \n",
        "                    callbacks=callbacks_list, validation_data=val_generator, \n",
        "                    validation_steps=validation_steps, class_weight=None, workers=1, initial_epoch=0)"
      ],
      "metadata": {
        "colab": {
          "base_uri": "https://localhost:8080/"
        },
        "outputId": "8978abfd-8356-4179-f78b-bb5d866cdce8",
        "id": "pcc8a5DXoGxk"
      },
      "execution_count": null,
      "outputs": [
        {
          "metadata": {
            "tags": null
          },
          "name": "stderr",
          "output_type": "stream",
          "text": [
            "/usr/local/lib/python3.7/dist-packages/ipykernel_launcher.py:4: UserWarning: `Model.fit_generator` is deprecated and will be removed in a future version. Please use `Model.fit`, which supports generators.\n",
            "  after removing the cwd from sys.path.\n",
            "/usr/local/lib/python3.7/dist-packages/ipykernel_launcher.py:15: DeprecationWarning:     `imread` is deprecated!\n",
            "    `imread` is deprecated in SciPy 1.0.0, and will be removed in 1.2.0.\n",
            "    Use ``imageio.imread`` instead.\n",
            "  from ipykernel import kernelapp as app\n"
          ]
        },
        {
          "metadata": {
            "tags": null
          },
          "name": "stdout",
          "output_type": "stream",
          "text": [
            "Source path =  /content/drive/MyDrive/AIML/ColabNotebooks/RNN/RNNAssignmentGestureRecognition/Project_data/train ; batch size = 30\n"
          ]
        },
        {
          "metadata": {
            "tags": null
          },
          "name": "stderr",
          "output_type": "stream",
          "text": [
            "/usr/local/lib/python3.7/dist-packages/ipykernel_launcher.py:24: DeprecationWarning:     `imresize` is deprecated!\n",
            "    `imresize` is deprecated in SciPy 1.0.0, and will be removed in 1.2.0.\n",
            "    Use ``skimage.transform.resize`` instead.\n"
          ]
        },
        {
          "output_type": "stream",
          "name": "stdout",
          "text": [
            "Epoch 1/50\n",
            "21/23 [==========================>...] - ETA: 4:41 - loss: 42.1515 - categorical_accuracy: 0.4667"
          ]
        },
        {
          "output_type": "stream",
          "name": "stderr",
          "text": [
            "/usr/local/lib/python3.7/dist-packages/ipykernel_launcher.py:49: DeprecationWarning:     `imread` is deprecated!\n",
            "    `imread` is deprecated in SciPy 1.0.0, and will be removed in 1.2.0.\n",
            "    Use ``imageio.imread`` instead.\n",
            "/usr/local/lib/python3.7/dist-packages/ipykernel_launcher.py:55: DeprecationWarning:     `imresize` is deprecated!\n",
            "    `imresize` is deprecated in SciPy 1.0.0, and will be removed in 1.2.0.\n",
            "    Use ``skimage.transform.resize`` instead.\n"
          ]
        },
        {
          "output_type": "stream",
          "name": "stdout",
          "text": [
            "23/23 [==============================] - ETA: 0s - loss: 40.5974 - categorical_accuracy: 0.4766  Source path =  /content/drive/MyDrive/AIML/ColabNotebooks/RNN/RNNAssignmentGestureRecognition/Project_data/val ; batch size = 30\n",
            "\n",
            "Epoch 1: saving model to model_init_2022-02-2818_32_24.589103/model-00001-40.59737-0.47662-26.83780-0.31000.h5\n",
            "23/23 [==============================] - 3398s 154s/step - loss: 40.5974 - categorical_accuracy: 0.4766 - val_loss: 26.8378 - val_categorical_accuracy: 0.3100 - lr: 0.0010\n",
            "Epoch 2/50\n",
            "23/23 [==============================] - ETA: 0s - loss: 2.7408 - categorical_accuracy: 0.7673\n",
            "Epoch 2: saving model to model_init_2022-02-2818_32_24.589103/model-00002-2.74082-0.76730-20.38695-0.35000.h5\n",
            "23/23 [==============================] - 91s 4s/step - loss: 2.7408 - categorical_accuracy: 0.7673 - val_loss: 20.3870 - val_categorical_accuracy: 0.3500 - lr: 0.0010\n",
            "Epoch 3/50\n",
            "23/23 [==============================] - ETA: 0s - loss: 1.0336 - categorical_accuracy: 0.7915\n",
            "Epoch 3: saving model to model_init_2022-02-2818_32_24.589103/model-00003-1.03362-0.79146-14.04937-0.36667.h5\n",
            "23/23 [==============================] - 127s 6s/step - loss: 1.0336 - categorical_accuracy: 0.7915 - val_loss: 14.0494 - val_categorical_accuracy: 0.3667 - lr: 0.0010\n",
            "Epoch 4/50\n",
            "23/23 [==============================] - ETA: 0s - loss: 0.5383 - categorical_accuracy: 0.8030\n",
            "Epoch 4: saving model to model_init_2022-02-2818_32_24.589103/model-00004-0.53833-0.80296-31.09265-0.45000.h5\n",
            "23/23 [==============================] - 82s 4s/step - loss: 0.5383 - categorical_accuracy: 0.8030 - val_loss: 31.0926 - val_categorical_accuracy: 0.4500 - lr: 0.0010\n",
            "Epoch 5/50\n",
            "23/23 [==============================] - ETA: 0s - loss: 0.4653 - categorical_accuracy: 0.8522\n",
            "Epoch 5: saving model to model_init_2022-02-2818_32_24.589103/model-00005-0.46531-0.85222-59.18655-0.60000.h5\n",
            "23/23 [==============================] - 78s 3s/step - loss: 0.4653 - categorical_accuracy: 0.8522 - val_loss: 59.1866 - val_categorical_accuracy: 0.6000 - lr: 0.0010\n",
            "Epoch 6/50\n",
            "23/23 [==============================] - ETA: 0s - loss: 0.3734 - categorical_accuracy: 0.8736\n",
            "Epoch 6: saving model to model_init_2022-02-2818_32_24.589103/model-00006-0.37342-0.87356-79.52841-0.43000.h5\n",
            "23/23 [==============================] - 83s 4s/step - loss: 0.3734 - categorical_accuracy: 0.8736 - val_loss: 79.5284 - val_categorical_accuracy: 0.4300 - lr: 0.0010\n",
            "Epoch 7/50\n",
            "23/23 [==============================] - ETA: 0s - loss: 0.2323 - categorical_accuracy: 0.8867\n",
            "Epoch 7: saving model to model_init_2022-02-2818_32_24.589103/model-00007-0.23226-0.88670-82.76094-0.42500.h5\n",
            "23/23 [==============================] - 76s 3s/step - loss: 0.2323 - categorical_accuracy: 0.8867 - val_loss: 82.7609 - val_categorical_accuracy: 0.4250 - lr: 0.0010\n",
            "Epoch 8/50\n",
            "23/23 [==============================] - ETA: 0s - loss: 0.2038 - categorical_accuracy: 0.8998\n",
            "Epoch 8: saving model to model_init_2022-02-2818_32_24.589103/model-00008-0.20385-0.89984-65.47796-0.47500.h5\n",
            "\n",
            "Epoch 8: ReduceLROnPlateau reducing learning rate to 0.0005000000237487257.\n",
            "23/23 [==============================] - 79s 4s/step - loss: 0.2038 - categorical_accuracy: 0.8998 - val_loss: 65.4780 - val_categorical_accuracy: 0.4750 - lr: 0.0010\n",
            "Epoch 9/50\n",
            "23/23 [==============================] - ETA: 0s - loss: 0.2529 - categorical_accuracy: 0.9031\n",
            "Epoch 9: saving model to model_init_2022-02-2818_32_24.589103/model-00009-0.25290-0.90312-77.86269-0.45000.h5\n",
            "23/23 [==============================] - 90s 4s/step - loss: 0.2529 - categorical_accuracy: 0.9031 - val_loss: 77.8627 - val_categorical_accuracy: 0.4500 - lr: 5.0000e-04\n",
            "Epoch 10/50\n",
            "23/23 [==============================] - ETA: 0s - loss: 0.1801 - categorical_accuracy: 0.9327\n",
            "Epoch 10: saving model to model_init_2022-02-2818_32_24.589103/model-00010-0.18011-0.93268-49.96134-0.57500.h5\n",
            "23/23 [==============================] - 77s 3s/step - loss: 0.1801 - categorical_accuracy: 0.9327 - val_loss: 49.9613 - val_categorical_accuracy: 0.5750 - lr: 5.0000e-04\n",
            "Epoch 11/50\n",
            "23/23 [==============================] - ETA: 0s - loss: 0.1493 - categorical_accuracy: 0.9376\n",
            "Epoch 11: saving model to model_init_2022-02-2818_32_24.589103/model-00011-0.14929-0.93760-56.08813-0.46250.h5\n",
            "23/23 [==============================] - 89s 4s/step - loss: 0.1493 - categorical_accuracy: 0.9376 - val_loss: 56.0881 - val_categorical_accuracy: 0.4625 - lr: 5.0000e-04\n",
            "Epoch 12/50\n",
            "23/23 [==============================] - ETA: 0s - loss: 0.1341 - categorical_accuracy: 0.9491\n",
            "Epoch 12: saving model to model_init_2022-02-2818_32_24.589103/model-00012-0.13412-0.94910-33.04379-0.42500.h5\n",
            "23/23 [==============================] - 76s 3s/step - loss: 0.1341 - categorical_accuracy: 0.9491 - val_loss: 33.0438 - val_categorical_accuracy: 0.4250 - lr: 5.0000e-04\n",
            "Epoch 13/50\n",
            "23/23 [==============================] - ETA: 0s - loss: 0.1116 - categorical_accuracy: 0.9513\n",
            "Epoch 13: saving model to model_init_2022-02-2818_32_24.589103/model-00013-0.11158-0.95126-39.83222-0.57500.h5\n",
            "\n",
            "Epoch 13: ReduceLROnPlateau reducing learning rate to 0.0002500000118743628.\n",
            "23/23 [==============================] - 79s 4s/step - loss: 0.1116 - categorical_accuracy: 0.9513 - val_loss: 39.8322 - val_categorical_accuracy: 0.5750 - lr: 5.0000e-04\n",
            "Epoch 14/50\n",
            "23/23 [==============================] - ETA: 0s - loss: 0.0934 - categorical_accuracy: 0.9608\n",
            "Epoch 14: saving model to model_init_2022-02-2818_32_24.589103/model-00014-0.09336-0.96078-22.70293-0.56000.h5\n",
            "23/23 [==============================] - 90s 4s/step - loss: 0.0934 - categorical_accuracy: 0.9608 - val_loss: 22.7029 - val_categorical_accuracy: 0.5600 - lr: 2.5000e-04\n",
            "Epoch 15/50\n",
            "23/23 [==============================] - ETA: 0s - loss: 0.0877 - categorical_accuracy: 0.9606\n",
            "Epoch 15: saving model to model_init_2022-02-2818_32_24.589103/model-00015-0.08773-0.96059-28.92457-0.57500.h5\n",
            "23/23 [==============================] - 78s 4s/step - loss: 0.0877 - categorical_accuracy: 0.9606 - val_loss: 28.9246 - val_categorical_accuracy: 0.5750 - lr: 2.5000e-04\n",
            "Epoch 16/50\n",
            "23/23 [==============================] - ETA: 0s - loss: 0.0936 - categorical_accuracy: 0.9606\n",
            "Epoch 16: saving model to model_init_2022-02-2818_32_24.589103/model-00016-0.09365-0.96059-15.04910-0.56667.h5\n",
            "23/23 [==============================] - 82s 4s/step - loss: 0.0936 - categorical_accuracy: 0.9606 - val_loss: 15.0491 - val_categorical_accuracy: 0.5667 - lr: 2.5000e-04\n",
            "Epoch 17/50\n",
            "23/23 [==============================] - ETA: 0s - loss: 0.0860 - categorical_accuracy: 0.9507\n",
            "Epoch 17: saving model to model_init_2022-02-2818_32_24.589103/model-00017-0.08604-0.95074-15.75904-0.61667.h5\n",
            "23/23 [==============================] - 80s 4s/step - loss: 0.0860 - categorical_accuracy: 0.9507 - val_loss: 15.7590 - val_categorical_accuracy: 0.6167 - lr: 2.5000e-04\n",
            "Epoch 18/50\n",
            "23/23 [==============================] - ETA: 0s - loss: 0.0864 - categorical_accuracy: 0.9639\n",
            "Epoch 18: saving model to model_init_2022-02-2818_32_24.589103/model-00018-0.08640-0.96388-9.92261-0.70000.h5\n",
            "23/23 [==============================] - 76s 3s/step - loss: 0.0864 - categorical_accuracy: 0.9639 - val_loss: 9.9226 - val_categorical_accuracy: 0.7000 - lr: 2.5000e-04\n",
            "Epoch 19/50\n",
            "23/23 [==============================] - ETA: 0s - loss: 0.0790 - categorical_accuracy: 0.9622\n",
            "Epoch 19: saving model to model_init_2022-02-2818_32_24.589103/model-00019-0.07904-0.96223-8.08336-0.65000.h5\n",
            "23/23 [==============================] - 90s 4s/step - loss: 0.0790 - categorical_accuracy: 0.9622 - val_loss: 8.0834 - val_categorical_accuracy: 0.6500 - lr: 2.5000e-04\n",
            "Epoch 20/50\n",
            "23/23 [==============================] - ETA: 0s - loss: 0.0774 - categorical_accuracy: 0.9704\n",
            "Epoch 20: saving model to model_init_2022-02-2818_32_24.589103/model-00020-0.07736-0.97044-6.13871-0.62500.h5\n",
            "23/23 [==============================] - 78s 3s/step - loss: 0.0774 - categorical_accuracy: 0.9704 - val_loss: 6.1387 - val_categorical_accuracy: 0.6250 - lr: 2.5000e-04\n",
            "Epoch 21/50\n",
            "23/23 [==============================] - ETA: 0s - loss: 0.0873 - categorical_accuracy: 0.9589\n",
            "Epoch 21: saving model to model_init_2022-02-2818_32_24.589103/model-00021-0.08733-0.95895-5.46311-0.65000.h5\n",
            "23/23 [==============================] - 79s 4s/step - loss: 0.0873 - categorical_accuracy: 0.9589 - val_loss: 5.4631 - val_categorical_accuracy: 0.6500 - lr: 2.5000e-04\n",
            "Epoch 22/50\n",
            "23/23 [==============================] - ETA: 0s - loss: 0.0907 - categorical_accuracy: 0.9606\n",
            "Epoch 22: saving model to model_init_2022-02-2818_32_24.589103/model-00022-0.09071-0.96059-5.38292-0.66250.h5\n",
            "23/23 [==============================] - 81s 4s/step - loss: 0.0907 - categorical_accuracy: 0.9606 - val_loss: 5.3829 - val_categorical_accuracy: 0.6625 - lr: 2.5000e-04\n",
            "Epoch 23/50\n",
            "23/23 [==============================] - ETA: 0s - loss: 0.0710 - categorical_accuracy: 0.9688\n",
            "Epoch 23: saving model to model_init_2022-02-2818_32_24.589103/model-00023-0.07101-0.96880-5.34029-0.70000.h5\n",
            "23/23 [==============================] - 79s 4s/step - loss: 0.0710 - categorical_accuracy: 0.9688 - val_loss: 5.3403 - val_categorical_accuracy: 0.7000 - lr: 2.5000e-04\n",
            "Epoch 24/50\n",
            "23/23 [==============================] - ETA: 0s - loss: 0.0946 - categorical_accuracy: 0.9589\n",
            "Epoch 24: saving model to model_init_2022-02-2818_32_24.589103/model-00024-0.09460-0.95895-4.22525-0.63750.h5\n",
            "23/23 [==============================] - 84s 4s/step - loss: 0.0946 - categorical_accuracy: 0.9589 - val_loss: 4.2252 - val_categorical_accuracy: 0.6375 - lr: 2.5000e-04\n",
            "Epoch 25/50\n",
            "23/23 [==============================] - ETA: 0s - loss: 0.4144 - categorical_accuracy: 0.9179\n",
            "Epoch 25: saving model to model_init_2022-02-2818_32_24.589103/model-00025-0.41443-0.91790-4.06423-0.55000.h5\n",
            "23/23 [==============================] - 78s 4s/step - loss: 0.4144 - categorical_accuracy: 0.9179 - val_loss: 4.0642 - val_categorical_accuracy: 0.5500 - lr: 2.5000e-04\n",
            "Epoch 26/50\n",
            "23/23 [==============================] - ETA: 0s - loss: 0.1209 - categorical_accuracy: 0.9472\n",
            "Epoch 26: saving model to model_init_2022-02-2818_32_24.589103/model-00026-0.12092-0.94721-4.40734-0.80000.h5\n",
            "23/23 [==============================] - 81s 4s/step - loss: 0.1209 - categorical_accuracy: 0.9472 - val_loss: 4.4073 - val_categorical_accuracy: 0.8000 - lr: 2.5000e-04\n",
            "Epoch 27/50\n",
            "23/23 [==============================] - ETA: 0s - loss: 0.1472 - categorical_accuracy: 0.9544\n",
            "Epoch 27: saving model to model_init_2022-02-2818_32_24.589103/model-00027-0.14721-0.95440-4.05697-0.73000.h5\n",
            "23/23 [==============================] - 91s 4s/step - loss: 0.1472 - categorical_accuracy: 0.9544 - val_loss: 4.0570 - val_categorical_accuracy: 0.7300 - lr: 2.5000e-04\n",
            "Epoch 28/50\n",
            "23/23 [==============================] - ETA: 0s - loss: 0.0724 - categorical_accuracy: 0.9672\n",
            "Epoch 28: saving model to model_init_2022-02-2818_32_24.589103/model-00028-0.07236-0.96716-6.45500-0.65000.h5\n",
            "23/23 [==============================] - 77s 3s/step - loss: 0.0724 - categorical_accuracy: 0.9672 - val_loss: 6.4550 - val_categorical_accuracy: 0.6500 - lr: 2.5000e-04\n",
            "Epoch 29/50\n",
            "23/23 [==============================] - ETA: 0s - loss: 0.0814 - categorical_accuracy: 0.9655\n",
            "Epoch 29: saving model to model_init_2022-02-2818_32_24.589103/model-00029-0.08141-0.96552-3.25311-0.78333.h5\n",
            "23/23 [==============================] - 82s 4s/step - loss: 0.0814 - categorical_accuracy: 0.9655 - val_loss: 3.2531 - val_categorical_accuracy: 0.7833 - lr: 2.5000e-04\n",
            "Epoch 30/50\n",
            "23/23 [==============================] - ETA: 0s - loss: 0.0478 - categorical_accuracy: 0.9819\n",
            "Epoch 30: saving model to model_init_2022-02-2818_32_24.589103/model-00030-0.04785-0.98194-3.59425-0.71667.h5\n",
            "23/23 [==============================] - 79s 4s/step - loss: 0.0478 - categorical_accuracy: 0.9819 - val_loss: 3.5942 - val_categorical_accuracy: 0.7167 - lr: 2.5000e-04\n",
            "Epoch 31/50\n",
            "23/23 [==============================] - ETA: 0s - loss: 0.0558 - categorical_accuracy: 0.9770\n",
            "Epoch 31: saving model to model_init_2022-02-2818_32_24.589103/model-00031-0.05582-0.97701-4.50470-0.65000.h5\n",
            "23/23 [==============================] - 77s 3s/step - loss: 0.0558 - categorical_accuracy: 0.9770 - val_loss: 4.5047 - val_categorical_accuracy: 0.6500 - lr: 2.5000e-04\n",
            "Epoch 32/50\n",
            "23/23 [==============================] - ETA: 0s - loss: 0.0617 - categorical_accuracy: 0.9721\n",
            "Epoch 32: saving model to model_init_2022-02-2818_32_24.589103/model-00032-0.06167-0.97209-4.73082-0.71000.h5\n",
            "23/23 [==============================] - 85s 4s/step - loss: 0.0617 - categorical_accuracy: 0.9721 - val_loss: 4.7308 - val_categorical_accuracy: 0.7100 - lr: 2.5000e-04\n",
            "Epoch 33/50\n",
            "23/23 [==============================] - ETA: 0s - loss: 0.0446 - categorical_accuracy: 0.9737\n",
            "Epoch 33: saving model to model_init_2022-02-2818_32_24.589103/model-00033-0.04463-0.97373-4.99117-0.70000.h5\n",
            "23/23 [==============================] - 75s 3s/step - loss: 0.0446 - categorical_accuracy: 0.9737 - val_loss: 4.9912 - val_categorical_accuracy: 0.7000 - lr: 2.5000e-04\n",
            "Epoch 34/50\n",
            "23/23 [==============================] - ETA: 0s - loss: 0.0422 - categorical_accuracy: 0.9803\n",
            "Epoch 34: saving model to model_init_2022-02-2818_32_24.589103/model-00034-0.04222-0.98030-1.55733-0.77500.h5\n",
            "23/23 [==============================] - 80s 4s/step - loss: 0.0422 - categorical_accuracy: 0.9803 - val_loss: 1.5573 - val_categorical_accuracy: 0.7750 - lr: 2.5000e-04\n",
            "Epoch 35/50\n",
            "23/23 [==============================] - ETA: 0s - loss: 0.0330 - categorical_accuracy: 0.9754\n",
            "Epoch 35: saving model to model_init_2022-02-2818_32_24.589103/model-00035-0.03302-0.97537-2.20109-0.73750.h5\n",
            "23/23 [==============================] - 85s 4s/step - loss: 0.0330 - categorical_accuracy: 0.9754 - val_loss: 2.2011 - val_categorical_accuracy: 0.7375 - lr: 2.5000e-04\n",
            "Epoch 36/50\n",
            "23/23 [==============================] - ETA: 0s - loss: 0.0402 - categorical_accuracy: 0.9721\n",
            "Epoch 36: saving model to model_init_2022-02-2818_32_24.589103/model-00036-0.04022-0.97209-2.64777-0.75000.h5\n",
            "23/23 [==============================] - 78s 4s/step - loss: 0.0402 - categorical_accuracy: 0.9721 - val_loss: 2.6478 - val_categorical_accuracy: 0.7500 - lr: 2.5000e-04\n",
            "Epoch 37/50\n",
            "23/23 [==============================] - ETA: 0s - loss: 0.0494 - categorical_accuracy: 0.9721\n",
            "Epoch 37: saving model to model_init_2022-02-2818_32_24.589103/model-00037-0.04942-0.97209-4.81345-0.68750.h5\n",
            "23/23 [==============================] - 84s 4s/step - loss: 0.0494 - categorical_accuracy: 0.9721 - val_loss: 4.8134 - val_categorical_accuracy: 0.6875 - lr: 2.5000e-04\n",
            "Epoch 38/50\n",
            "23/23 [==============================] - ETA: 0s - loss: 0.0433 - categorical_accuracy: 0.9764\n",
            "Epoch 38: saving model to model_init_2022-02-2818_32_24.589103/model-00038-0.04328-0.97642-5.74553-0.62500.h5\n",
            "23/23 [==============================] - 78s 4s/step - loss: 0.0433 - categorical_accuracy: 0.9764 - val_loss: 5.7455 - val_categorical_accuracy: 0.6250 - lr: 2.5000e-04\n",
            "Epoch 39/50\n",
            "23/23 [==============================] - ETA: 0s - loss: 0.0854 - categorical_accuracy: 0.9804\n",
            "Epoch 39: saving model to model_init_2022-02-2818_32_24.589103/model-00039-0.08544-0.98039-1.32215-0.75000.h5\n",
            "23/23 [==============================] - 86s 4s/step - loss: 0.0854 - categorical_accuracy: 0.9804 - val_loss: 1.3221 - val_categorical_accuracy: 0.7500 - lr: 2.5000e-04\n",
            "Epoch 40/50\n",
            "23/23 [==============================] - ETA: 0s - loss: 0.1883 - categorical_accuracy: 0.9606\n",
            "Epoch 40: saving model to model_init_2022-02-2818_32_24.589103/model-00040-0.18835-0.96059-3.45465-0.71000.h5\n",
            "23/23 [==============================] - 88s 4s/step - loss: 0.1883 - categorical_accuracy: 0.9606 - val_loss: 3.4546 - val_categorical_accuracy: 0.7100 - lr: 2.5000e-04\n",
            "Epoch 41/50\n",
            "23/23 [==============================] - ETA: 0s - loss: 0.0410 - categorical_accuracy: 0.9836\n",
            "Epoch 41: saving model to model_init_2022-02-2818_32_24.589103/model-00041-0.04103-0.98358-0.50010-0.85000.h5\n",
            "23/23 [==============================] - 77s 3s/step - loss: 0.0410 - categorical_accuracy: 0.9836 - val_loss: 0.5001 - val_categorical_accuracy: 0.8500 - lr: 2.5000e-04\n",
            "Epoch 42/50\n",
            "23/23 [==============================] - ETA: 0s - loss: 0.0425 - categorical_accuracy: 0.9836\n",
            "Epoch 42: saving model to model_init_2022-02-2818_32_24.589103/model-00042-0.04248-0.98358-7.58467-0.58333.h5\n",
            "23/23 [==============================] - 82s 4s/step - loss: 0.0425 - categorical_accuracy: 0.9836 - val_loss: 7.5847 - val_categorical_accuracy: 0.5833 - lr: 2.5000e-04\n",
            "Epoch 43/50\n",
            "23/23 [==============================] - ETA: 0s - loss: 0.0391 - categorical_accuracy: 0.9836\n",
            "Epoch 43: saving model to model_init_2022-02-2818_32_24.589103/model-00043-0.03913-0.98358-3.94228-0.66667.h5\n",
            "23/23 [==============================] - 77s 3s/step - loss: 0.0391 - categorical_accuracy: 0.9836 - val_loss: 3.9423 - val_categorical_accuracy: 0.6667 - lr: 2.5000e-04\n",
            "Epoch 44/50\n",
            "23/23 [==============================] - ETA: 0s - loss: 0.0439 - categorical_accuracy: 0.9819\n",
            "Epoch 44: saving model to model_init_2022-02-2818_32_24.589103/model-00044-0.04392-0.98194-3.21120-0.70000.h5\n",
            "23/23 [==============================] - 79s 4s/step - loss: 0.0439 - categorical_accuracy: 0.9819 - val_loss: 3.2112 - val_categorical_accuracy: 0.7000 - lr: 2.5000e-04\n",
            "Epoch 45/50\n",
            "23/23 [==============================] - ETA: 0s - loss: 0.0207 - categorical_accuracy: 0.9901\n",
            "Epoch 45: saving model to model_init_2022-02-2818_32_24.589103/model-00045-0.02068-0.99015-3.07936-0.76000.h5\n",
            "23/23 [==============================] - 86s 4s/step - loss: 0.0207 - categorical_accuracy: 0.9901 - val_loss: 3.0794 - val_categorical_accuracy: 0.7600 - lr: 2.5000e-04\n",
            "Epoch 46/50\n",
            "23/23 [==============================] - ETA: 0s - loss: 0.0401 - categorical_accuracy: 0.9819\n",
            "Epoch 46: saving model to model_init_2022-02-2818_32_24.589103/model-00046-0.04014-0.98194-3.78764-0.77500.h5\n",
            "\n",
            "Epoch 46: ReduceLROnPlateau reducing learning rate to 0.0001250000059371814.\n",
            "23/23 [==============================] - 76s 3s/step - loss: 0.0401 - categorical_accuracy: 0.9819 - val_loss: 3.7876 - val_categorical_accuracy: 0.7750 - lr: 2.5000e-04\n",
            "Epoch 47/50\n",
            "23/23 [==============================] - ETA: 0s - loss: 0.1868 - categorical_accuracy: 0.9787\n",
            "Epoch 47: saving model to model_init_2022-02-2818_32_24.589103/model-00047-0.18677-0.97865-3.91923-0.72500.h5\n",
            "23/23 [==============================] - 82s 4s/step - loss: 0.1868 - categorical_accuracy: 0.9787 - val_loss: 3.9192 - val_categorical_accuracy: 0.7250 - lr: 1.2500e-04\n",
            "Epoch 48/50\n",
            "23/23 [==============================] - ETA: 0s - loss: 0.0334 - categorical_accuracy: 0.9885\n",
            "Epoch 48: saving model to model_init_2022-02-2818_32_24.589103/model-00048-0.03339-0.98851-3.88009-0.72500.h5\n",
            "23/23 [==============================] - 83s 4s/step - loss: 0.0334 - categorical_accuracy: 0.9885 - val_loss: 3.8801 - val_categorical_accuracy: 0.7250 - lr: 1.2500e-04\n",
            "Epoch 49/50\n",
            "23/23 [==============================] - ETA: 0s - loss: 0.0342 - categorical_accuracy: 0.9901\n",
            "Epoch 49: saving model to model_init_2022-02-2818_32_24.589103/model-00049-0.03420-0.99015-2.78980-0.72500.h5\n",
            "23/23 [==============================] - 78s 4s/step - loss: 0.0342 - categorical_accuracy: 0.9901 - val_loss: 2.7898 - val_categorical_accuracy: 0.7250 - lr: 1.2500e-04\n",
            "Epoch 50/50\n",
            "23/23 [==============================] - ETA: 0s - loss: 0.0263 - categorical_accuracy: 0.9901\n",
            "Epoch 50: saving model to model_init_2022-02-2818_32_24.589103/model-00050-0.02626-0.99015-2.23106-0.75000.h5\n",
            "23/23 [==============================] - 85s 4s/step - loss: 0.0263 - categorical_accuracy: 0.9901 - val_loss: 2.2311 - val_categorical_accuracy: 0.7500 - lr: 1.2500e-04\n"
          ]
        }
      ]
    },
    {
      "cell_type": "code",
      "source": [
        "acc = history5.history['categorical_accuracy']\n",
        "val_acc = history5.history['val_categorical_accuracy']\n",
        "\n",
        "loss = history5.history['loss']\n",
        "val_loss = history5.history['val_loss']"
      ],
      "metadata": {
        "id": "UqOGBYk4WGZy"
      },
      "execution_count": null,
      "outputs": []
    },
    {
      "cell_type": "code",
      "source": [
        "epochs_range =  range(50)\n",
        "\n",
        "plt.figure(figsize=(8, 8))\n",
        "plt.subplot(1, 2, 1)\n",
        "plt.plot(epochs_range, acc, label='Training Accuracy')\n",
        "plt.plot(epochs_range, val_acc, label='Validation Accuracy')\n",
        "plt.legend(loc='lower right')\n",
        "plt.title('Training and Validation Accuracy')\n",
        "\n",
        "plt.subplot(1, 2, 2)\n",
        "plt.plot(epochs_range, loss, label='Training Loss')\n",
        "plt.plot(epochs_range, val_loss, label='Validation Loss')\n",
        "plt.legend(loc='upper right')\n",
        "plt.title('Training and Validation Loss')\n",
        "plt.show()"
      ],
      "metadata": {
        "colab": {
          "base_uri": "https://localhost:8080/",
          "height": 705
        },
        "id": "0A6OG9IJostn",
        "outputId": "d9ed77b9-e023-4a29-fe15-f68112695439"
      },
      "execution_count": null,
      "outputs": [
        {
          "output_type": "error",
          "ename": "NameError",
          "evalue": "ignored",
          "traceback": [
            "\u001b[0;31m---------------------------------------------------------------------------\u001b[0m",
            "\u001b[0;31mNameError\u001b[0m                                 Traceback (most recent call last)",
            "\u001b[0;32m<ipython-input-24-7c05b87301fa>\u001b[0m in \u001b[0;36m<module>\u001b[0;34m()\u001b[0m\n\u001b[1;32m      3\u001b[0m \u001b[0mplt\u001b[0m\u001b[0;34m.\u001b[0m\u001b[0mfigure\u001b[0m\u001b[0;34m(\u001b[0m\u001b[0mfigsize\u001b[0m\u001b[0;34m=\u001b[0m\u001b[0;34m(\u001b[0m\u001b[0;36m8\u001b[0m\u001b[0;34m,\u001b[0m \u001b[0;36m8\u001b[0m\u001b[0;34m)\u001b[0m\u001b[0;34m)\u001b[0m\u001b[0;34m\u001b[0m\u001b[0;34m\u001b[0m\u001b[0m\n\u001b[1;32m      4\u001b[0m \u001b[0mplt\u001b[0m\u001b[0;34m.\u001b[0m\u001b[0msubplot\u001b[0m\u001b[0;34m(\u001b[0m\u001b[0;36m1\u001b[0m\u001b[0;34m,\u001b[0m \u001b[0;36m2\u001b[0m\u001b[0;34m,\u001b[0m \u001b[0;36m1\u001b[0m\u001b[0;34m)\u001b[0m\u001b[0;34m\u001b[0m\u001b[0;34m\u001b[0m\u001b[0m\n\u001b[0;32m----> 5\u001b[0;31m \u001b[0mplt\u001b[0m\u001b[0;34m.\u001b[0m\u001b[0mplot\u001b[0m\u001b[0;34m(\u001b[0m\u001b[0mepochs_range\u001b[0m\u001b[0;34m,\u001b[0m \u001b[0macc\u001b[0m\u001b[0;34m,\u001b[0m \u001b[0mlabel\u001b[0m\u001b[0;34m=\u001b[0m\u001b[0;34m'Training Accuracy'\u001b[0m\u001b[0;34m)\u001b[0m\u001b[0;34m\u001b[0m\u001b[0;34m\u001b[0m\u001b[0m\n\u001b[0m\u001b[1;32m      6\u001b[0m \u001b[0mplt\u001b[0m\u001b[0;34m.\u001b[0m\u001b[0mplot\u001b[0m\u001b[0;34m(\u001b[0m\u001b[0mepochs_range\u001b[0m\u001b[0;34m,\u001b[0m \u001b[0mval_acc\u001b[0m\u001b[0;34m,\u001b[0m \u001b[0mlabel\u001b[0m\u001b[0;34m=\u001b[0m\u001b[0;34m'Validation Accuracy'\u001b[0m\u001b[0;34m)\u001b[0m\u001b[0;34m\u001b[0m\u001b[0;34m\u001b[0m\u001b[0m\n\u001b[1;32m      7\u001b[0m \u001b[0mplt\u001b[0m\u001b[0;34m.\u001b[0m\u001b[0mlegend\u001b[0m\u001b[0;34m(\u001b[0m\u001b[0mloc\u001b[0m\u001b[0;34m=\u001b[0m\u001b[0;34m'lower right'\u001b[0m\u001b[0;34m)\u001b[0m\u001b[0;34m\u001b[0m\u001b[0;34m\u001b[0m\u001b[0m\n",
            "\u001b[0;31mNameError\u001b[0m: name 'acc' is not defined"
          ]
        },
        {
          "output_type": "display_data",
          "data": {
            "image/png": "[encoded data removed]",
            "text/plain": [
              "<Figure size 576x576 with 1 Axes>"
            ]
          },
          "metadata": {
            "needs_background": "light"
          }
        }
      ]
    },
    {
      "cell_type": "code",
      "source": [
        "# Now including drpouts in Conv3D Model"
      ],
      "metadata": {
        "id": "ndD1Xj9voIwJ"
      },
      "execution_count": null,
      "outputs": []
    },
    {
      "cell_type": "code",
      "source": [
        "img_height = 120\n",
        "img_width = 120\n",
        "number_of_images = len(img_idx)\n",
        "num_classes = 5\n",
        "batch_size=30\n",
        "\n",
        "Input_shape= (len(img_idx), 120, 120, 3)\n",
        "\n",
        "model_conv3D_dropouts = Sequential()\n",
        "\n",
        "model_conv3D_dropouts.add(Conv3D(32, kernel_size=(2,2,2), activation='relu', kernel_initializer='he_uniform', input_shape=Input_shape))\n",
        "model_conv3D_dropouts.add(BatchNormalization())\n",
        "model_conv3D_dropouts.add(MaxPooling3D(pool_size=(2,2,2), strides=(2,2,2)))\n",
        "model_conv3D_dropouts.add(Dropout(0.25))\n",
        "\n",
        "model_conv3D_dropouts.add(Conv3D(64, kernel_size=(2,2,2), activation='relu', kernel_initializer='he_uniform'))\n",
        "model_conv3D_dropouts.add(BatchNormalization())\n",
        "model_conv3D_dropouts.add(MaxPooling3D(pool_size=(2,2,2), strides=(2,2,2)))\n",
        "model_conv3D_dropouts.add(Dropout(0.25))\n",
        "\n",
        "model_conv3D_dropouts.add(Flatten())\n",
        "model_conv3D_dropouts.add(Dense(128, activation='relu', kernel_initializer='he_uniform'))\n",
        "model_conv3D_dropouts.add(Dense(num_classes, activation='softmax'))"
      ],
      "metadata": {
        "id": "16ULiUaXLOpy"
      },
      "execution_count": null,
      "outputs": []
    },
    {
      "cell_type": "code",
      "source": [
        "optimiser = 'adam'#write your optimizer\n",
        "model_conv3D_dropouts.compile(optimizer=optimiser, loss='categorical_crossentropy', metrics=['categorical_accuracy'])\n",
        "print (model_conv3D_dropouts.summary())"
      ],
      "metadata": {
        "colab": {
          "base_uri": "https://localhost:8080/"
        },
        "id": "516C6WHHLUf5",
        "outputId": "d899d97c-73d2-4168-fdfb-cc1f4ad577f3"
      },
      "execution_count": null,
      "outputs": [
        {
          "output_type": "stream",
          "name": "stdout",
          "text": [
            "Model: \"sequential_1\"\n",
            "_________________________________________________________________\n",
            " Layer (type)                Output Shape              Param #   \n",
            "=================================================================\n",
            " conv3d (Conv3D)             (None, 20, 119, 119, 32)  800       \n",
            "                                                                 \n",
            " batch_normalization_4 (Batc  (None, 20, 119, 119, 32)  128      \n",
            " hNormalization)                                                 \n",
            "                                                                 \n",
            " max_pooling3d (MaxPooling3D  (None, 10, 59, 59, 32)   0         \n",
            " )                                                               \n",
            "                                                                 \n",
            " dropout_6 (Dropout)         (None, 10, 59, 59, 32)    0         \n",
            "                                                                 \n",
            " conv3d_1 (Conv3D)           (None, 9, 58, 58, 64)     16448     \n",
            "                                                                 \n",
            " batch_normalization_5 (Batc  (None, 9, 58, 58, 64)    256       \n",
            " hNormalization)                                                 \n",
            "                                                                 \n",
            " max_pooling3d_1 (MaxPooling  (None, 4, 29, 29, 64)    0         \n",
            " 3D)                                                             \n",
            "                                                                 \n",
            " dropout_7 (Dropout)         (None, 4, 29, 29, 64)     0         \n",
            "                                                                 \n",
            " flatten_1 (Flatten)         (None, 215296)            0         \n",
            "                                                                 \n",
            " dense_3 (Dense)             (None, 128)               27558016  \n",
            "                                                                 \n",
            " dense_4 (Dense)             (None, 5)                 645       \n",
            "                                                                 \n",
            "=================================================================\n",
            "Total params: 27,576,293\n",
            "Trainable params: 27,576,101\n",
            "Non-trainable params: 192\n",
            "_________________________________________________________________\n",
            "None\n"
          ]
        }
      ]
    },
    {
      "cell_type": "code",
      "source": [
        "model_name = 'model_init' + '_' + str(curr_dt_time).replace(' ','').replace(':','_') + '/'\n",
        "    \n",
        "if not os.path.exists(model_name):\n",
        "    os.mkdir(model_name)\n",
        "        \n",
        "filepath = model_name + 'model-{epoch:05d}-{loss:.5f}-{categorical_accuracy:.5f}-{val_loss:.5f}-{val_categorical_accuracy:.5f}.h5'\n",
        "\n",
        "checkpoint = ModelCheckpoint(filepath, monitor='val_loss', verbose=1, save_best_only=False, save_weights_only=False, mode='auto', period=1)\n",
        "\n",
        "LR = ReduceLROnPlateau(monitor = \"val_loss\", factor = 0.5, patience=5, verbose=1, min_lr = 0) # write the REducelronplateau code here\n",
        "\n",
        "# if loss doesn't decrease for 10 epocs, stop training \n",
        "ES = EarlyStopping(monitor='loss', mode='min', verbose=1, patience=10)\n",
        "\n",
        "callbacks_list = [checkpoint, LR, ES]"
      ],
      "metadata": {
        "colab": {
          "base_uri": "https://localhost:8080/"
        },
        "id": "bvyz9q8xLYFr",
        "outputId": "bf66219e-5af0-4807-8055-079bc12ad0de"
      },
      "execution_count": null,
      "outputs": [
        {
          "output_type": "stream",
          "name": "stdout",
          "text": [
            "WARNING:tensorflow:`period` argument is deprecated. Please use `save_freq` to specify the frequency in number of batches seen.\n"
          ]
        }
      ]
    },
    {
      "cell_type": "code",
      "source": [
        "train_generator = generator(train_path, train_doc, batch_size)\n",
        "val_generator = generator(val_path, val_doc, batch_size)"
      ],
      "metadata": {
        "id": "HjftwC_ALYI1"
      },
      "execution_count": null,
      "outputs": []
    },
    {
      "cell_type": "code",
      "source": [
        "if (num_train_sequences%batch_size) == 0:\n",
        "    steps_per_epoch = int(num_train_sequences/batch_size)\n",
        "else:\n",
        "    steps_per_epoch = (num_train_sequences//batch_size) + 1\n",
        "\n",
        "if (num_val_sequences%batch_size) == 0:\n",
        "    validation_steps = int(num_val_sequences/batch_size)\n",
        "else:\n",
        "    validation_steps = (num_val_sequences//batch_size) + 1\n"
      ],
      "metadata": {
        "id": "176V2uGnLYOo"
      },
      "execution_count": null,
      "outputs": []
    },
    {
      "cell_type": "code",
      "source": [
        "num_epochs=50\n",
        "history6 = model_conv3D_dropouts.fit_generator(train_generator, steps_per_epoch=steps_per_epoch, epochs=num_epochs, verbose=1, \n",
        "                    callbacks=callbacks_list, validation_data=val_generator, \n",
        "                    validation_steps=validation_steps, class_weight=None, workers=1, initial_epoch=0)"
      ],
      "metadata": {
        "colab": {
          "base_uri": "https://localhost:8080/"
        },
        "id": "FI3KZQK8LYRd",
        "outputId": "3b02e922-21ee-4046-ed7c-c03f65b2ea1a"
      },
      "execution_count": null,
      "outputs": [
        {
          "output_type": "stream",
          "name": "stderr",
          "text": [
            "/usr/local/lib/python3.7/dist-packages/ipykernel_launcher.py:4: UserWarning: `Model.fit_generator` is deprecated and will be removed in a future version. Please use `Model.fit`, which supports generators.\n",
            "  after removing the cwd from sys.path.\n",
            "/usr/local/lib/python3.7/dist-packages/ipykernel_launcher.py:15: DeprecationWarning:     `imread` is deprecated!\n",
            "    `imread` is deprecated in SciPy 1.0.0, and will be removed in 1.2.0.\n",
            "    Use ``imageio.imread`` instead.\n",
            "  from ipykernel import kernelapp as app\n",
            "/usr/local/lib/python3.7/dist-packages/ipykernel_launcher.py:24: DeprecationWarning:     `imresize` is deprecated!\n",
            "    `imresize` is deprecated in SciPy 1.0.0, and will be removed in 1.2.0.\n",
            "    Use ``skimage.transform.resize`` instead.\n"
          ]
        },
        {
          "output_type": "stream",
          "name": "stdout",
          "text": [
            "Source path =  /content/drive/MyDrive/AIML/ColabNotebooks/RNN/RNNAssignmentGestureRecognition/Project_data/train ; batch size = 30\n",
            "Epoch 1/50\n",
            "21/23 [==========================>...] - ETA: 5s - loss: 86.3165 - categorical_accuracy: 0.3540"
          ]
        },
        {
          "output_type": "stream",
          "name": "stderr",
          "text": [
            "/usr/local/lib/python3.7/dist-packages/ipykernel_launcher.py:48: DeprecationWarning:     `imread` is deprecated!\n",
            "    `imread` is deprecated in SciPy 1.0.0, and will be removed in 1.2.0.\n",
            "    Use ``imageio.imread`` instead.\n",
            "/usr/local/lib/python3.7/dist-packages/ipykernel_launcher.py:54: DeprecationWarning:     `imresize` is deprecated!\n",
            "    `imresize` is deprecated in SciPy 1.0.0, and will be removed in 1.2.0.\n",
            "    Use ``skimage.transform.resize`` instead.\n"
          ]
        },
        {
          "output_type": "stream",
          "name": "stdout",
          "text": [
            "23/23 [==============================] - ETA: 0s - loss: 80.0688 - categorical_accuracy: 0.3681Source path =  /content/drive/MyDrive/AIML/ColabNotebooks/RNN/RNNAssignmentGestureRecognition/Project_data/val ; batch size = 30\n",
            "\n",
            "Epoch 1: saving model to model_init_2022-02-2804_52_07.394475/model-00001-80.06879-0.36812-49.87498-0.22500.h5\n",
            "23/23 [==============================] - 84s 4s/step - loss: 80.0688 - categorical_accuracy: 0.3681 - val_loss: 49.8750 - val_categorical_accuracy: 0.2250 - lr: 0.0010\n",
            "Epoch 2/50\n",
            "23/23 [==============================] - ETA: 0s - loss: 7.0730 - categorical_accuracy: 0.6971\n",
            "Epoch 2: saving model to model_init_2022-02-2804_52_07.394475/model-00002-7.07300-0.69710-41.92321-0.26667.h5\n",
            "23/23 [==============================] - 83s 4s/step - loss: 7.0730 - categorical_accuracy: 0.6971 - val_loss: 41.9232 - val_categorical_accuracy: 0.2667 - lr: 0.0010\n",
            "Epoch 3/50\n",
            "23/23 [==============================] - ETA: 0s - loss: 1.5499 - categorical_accuracy: 0.8536\n",
            "Epoch 3: saving model to model_init_2022-02-2804_52_07.394475/model-00003-1.54988-0.85362-72.07871-0.26667.h5\n",
            "23/23 [==============================] - 83s 4s/step - loss: 1.5499 - categorical_accuracy: 0.8536 - val_loss: 72.0787 - val_categorical_accuracy: 0.2667 - lr: 0.0010\n",
            "Epoch 4/50\n",
            "23/23 [==============================] - ETA: 0s - loss: 0.8439 - categorical_accuracy: 0.9116\n",
            "Epoch 4: saving model to model_init_2022-02-2804_52_07.394475/model-00004-0.84394-0.91159-86.74259-0.35000.h5\n",
            "23/23 [==============================] - 83s 4s/step - loss: 0.8439 - categorical_accuracy: 0.9116 - val_loss: 86.7426 - val_categorical_accuracy: 0.3500 - lr: 0.0010\n",
            "Epoch 5/50\n",
            "23/23 [==============================] - ETA: 0s - loss: 0.3788 - categorical_accuracy: 0.9522\n",
            "Epoch 5: saving model to model_init_2022-02-2804_52_07.394475/model-00005-0.37876-0.95217-113.26439-0.37500.h5\n",
            "23/23 [==============================] - 83s 4s/step - loss: 0.3788 - categorical_accuracy: 0.9522 - val_loss: 113.2644 - val_categorical_accuracy: 0.3750 - lr: 0.0010\n",
            "Epoch 6/50\n",
            "23/23 [==============================] - ETA: 0s - loss: 0.4331 - categorical_accuracy: 0.9594\n",
            "Epoch 6: saving model to model_init_2022-02-2804_52_07.394475/model-00006-0.43306-0.95942-141.36133-0.40000.h5\n",
            "23/23 [==============================] - 81s 4s/step - loss: 0.4331 - categorical_accuracy: 0.9594 - val_loss: 141.3613 - val_categorical_accuracy: 0.4000 - lr: 0.0010\n",
            "Epoch 7/50\n",
            "23/23 [==============================] - ETA: 0s - loss: 0.1557 - categorical_accuracy: 0.9725\n",
            "Epoch 7: saving model to model_init_2022-02-2804_52_07.394475/model-00007-0.15567-0.97246-183.69695-0.32500.h5\n",
            "\n",
            "Epoch 7: ReduceLROnPlateau reducing learning rate to 0.0005000000237487257.\n",
            "23/23 [==============================] - 86s 4s/step - loss: 0.1557 - categorical_accuracy: 0.9725 - val_loss: 183.6969 - val_categorical_accuracy: 0.3250 - lr: 0.0010\n",
            "Epoch 8/50\n",
            "23/23 [==============================] - ETA: 0s - loss: 0.0343 - categorical_accuracy: 0.9884\n",
            "Epoch 8: saving model to model_init_2022-02-2804_52_07.394475/model-00008-0.03429-0.98841-191.68024-0.35833.h5\n",
            "23/23 [==============================] - 84s 4s/step - loss: 0.0343 - categorical_accuracy: 0.9884 - val_loss: 191.6802 - val_categorical_accuracy: 0.3583 - lr: 5.0000e-04\n",
            "Epoch 9/50\n",
            "23/23 [==============================] - ETA: 0s - loss: 0.0398 - categorical_accuracy: 0.9942\n",
            "Epoch 9: saving model to model_init_2022-02-2804_52_07.394475/model-00009-0.03984-0.99420-192.89500-0.30000.h5\n",
            "23/23 [==============================] - 80s 4s/step - loss: 0.0398 - categorical_accuracy: 0.9942 - val_loss: 192.8950 - val_categorical_accuracy: 0.3000 - lr: 5.0000e-04\n",
            "Epoch 10/50\n",
            "23/23 [==============================] - ETA: 0s - loss: 0.0344 - categorical_accuracy: 0.9957\n",
            "Epoch 10: saving model to model_init_2022-02-2804_52_07.394475/model-00010-0.03440-0.99565-183.21107-0.36667.h5\n",
            "23/23 [==============================] - 88s 4s/step - loss: 0.0344 - categorical_accuracy: 0.9957 - val_loss: 183.2111 - val_categorical_accuracy: 0.3667 - lr: 5.0000e-04\n",
            "Epoch 11/50\n",
            "23/23 [==============================] - ETA: 0s - loss: 0.0025 - categorical_accuracy: 1.0000\n",
            "Epoch 11: saving model to model_init_2022-02-2804_52_07.394475/model-00011-0.00247-1.00000-169.31815-0.45000.h5\n",
            "23/23 [==============================] - 82s 4s/step - loss: 0.0025 - categorical_accuracy: 1.0000 - val_loss: 169.3181 - val_categorical_accuracy: 0.4500 - lr: 5.0000e-04\n",
            "Epoch 12/50\n",
            "23/23 [==============================] - ETA: 0s - loss: 0.0045 - categorical_accuracy: 1.0000\n",
            "Epoch 12: saving model to model_init_2022-02-2804_52_07.394475/model-00012-0.00448-1.00000-145.68109-0.46667.h5\n",
            "\n",
            "Epoch 12: ReduceLROnPlateau reducing learning rate to 0.0002500000118743628.\n",
            "23/23 [==============================] - 82s 4s/step - loss: 0.0045 - categorical_accuracy: 1.0000 - val_loss: 145.6811 - val_categorical_accuracy: 0.4667 - lr: 5.0000e-04\n",
            "Epoch 13/50\n",
            "23/23 [==============================] - ETA: 0s - loss: 0.0031 - categorical_accuracy: 1.0000\n",
            "Epoch 13: saving model to model_init_2022-02-2804_52_07.394475/model-00013-0.00306-1.00000-152.74843-0.45000.h5\n",
            "23/23 [==============================] - 82s 4s/step - loss: 0.0031 - categorical_accuracy: 1.0000 - val_loss: 152.7484 - val_categorical_accuracy: 0.4500 - lr: 2.5000e-04\n",
            "Epoch 14/50\n",
            "23/23 [==============================] - ETA: 0s - loss: 0.0020 - categorical_accuracy: 1.0000\n",
            "Epoch 14: saving model to model_init_2022-02-2804_52_07.394475/model-00014-0.00203-1.00000-117.26973-0.44167.h5\n",
            "23/23 [==============================] - 86s 4s/step - loss: 0.0020 - categorical_accuracy: 1.0000 - val_loss: 117.2697 - val_categorical_accuracy: 0.4417 - lr: 2.5000e-04\n",
            "Epoch 15/50\n",
            "23/23 [==============================] - ETA: 0s - loss: 0.0048 - categorical_accuracy: 0.9986\n",
            "Epoch 15: saving model to model_init_2022-02-2804_52_07.394475/model-00015-0.00480-0.99855-111.09531-0.45000.h5\n",
            "23/23 [==============================] - 80s 4s/step - loss: 0.0048 - categorical_accuracy: 0.9986 - val_loss: 111.0953 - val_categorical_accuracy: 0.4500 - lr: 2.5000e-04\n",
            "Epoch 16/50\n",
            "23/23 [==============================] - ETA: 0s - loss: 0.0014 - categorical_accuracy: 1.0000\n",
            "Epoch 16: saving model to model_init_2022-02-2804_52_07.394475/model-00016-0.00143-1.00000-87.27316-0.46667.h5\n",
            "23/23 [==============================] - 83s 4s/step - loss: 0.0014 - categorical_accuracy: 1.0000 - val_loss: 87.2732 - val_categorical_accuracy: 0.4667 - lr: 2.5000e-04\n",
            "Epoch 17/50\n",
            "23/23 [==============================] - ETA: 0s - loss: 0.0066 - categorical_accuracy: 0.9986\n",
            "Epoch 17: saving model to model_init_2022-02-2804_52_07.394475/model-00017-0.00665-0.99855-60.60425-0.54167.h5\n",
            "\n",
            "Epoch 17: ReduceLROnPlateau reducing learning rate to 0.0001250000059371814.\n",
            "23/23 [==============================] - 85s 4s/step - loss: 0.0066 - categorical_accuracy: 0.9986 - val_loss: 60.6043 - val_categorical_accuracy: 0.5417 - lr: 2.5000e-04\n",
            "Epoch 18/50\n",
            "23/23 [==============================] - ETA: 0s - loss: 0.0130 - categorical_accuracy: 0.9986\n",
            "Epoch 18: saving model to model_init_2022-02-2804_52_07.394475/model-00018-0.01295-0.99855-53.87748-0.56667.h5\n",
            "23/23 [==============================] - 83s 4s/step - loss: 0.0130 - categorical_accuracy: 0.9986 - val_loss: 53.8775 - val_categorical_accuracy: 0.5667 - lr: 1.2500e-04\n",
            "Epoch 19/50\n",
            "23/23 [==============================] - ETA: 0s - loss: 0.0022 - categorical_accuracy: 1.0000\n",
            "Epoch 19: saving model to model_init_2022-02-2804_52_07.394475/model-00019-0.00225-1.00000-38.52243-0.63333.h5\n",
            "23/23 [==============================] - 84s 4s/step - loss: 0.0022 - categorical_accuracy: 1.0000 - val_loss: 38.5224 - val_categorical_accuracy: 0.6333 - lr: 1.2500e-04\n",
            "Epoch 20/50\n",
            "23/23 [==============================] - ETA: 0s - loss: 0.0012 - categorical_accuracy: 1.0000\n",
            "Epoch 20: saving model to model_init_2022-02-2804_52_07.394475/model-00020-0.00118-1.00000-37.63430-0.60000.h5\n",
            "23/23 [==============================] - 82s 4s/step - loss: 0.0012 - categorical_accuracy: 1.0000 - val_loss: 37.6343 - val_categorical_accuracy: 0.6000 - lr: 1.2500e-04\n",
            "Epoch 21/50\n",
            "23/23 [==============================] - ETA: 0s - loss: 0.0019 - categorical_accuracy: 1.0000\n",
            "Epoch 21: saving model to model_init_2022-02-2804_52_07.394475/model-00021-0.00191-1.00000-21.50346-0.66667.h5\n",
            "23/23 [==============================] - 82s 4s/step - loss: 0.0019 - categorical_accuracy: 1.0000 - val_loss: 21.5035 - val_categorical_accuracy: 0.6667 - lr: 1.2500e-04\n",
            "Epoch 22/50\n",
            "23/23 [==============================] - ETA: 0s - loss: 8.8019e-04 - categorical_accuracy: 1.0000\n",
            "Epoch 22: saving model to model_init_2022-02-2804_52_07.394475/model-00022-0.00088-1.00000-23.61176-0.64167.h5\n",
            "23/23 [==============================] - 82s 4s/step - loss: 8.8019e-04 - categorical_accuracy: 1.0000 - val_loss: 23.6118 - val_categorical_accuracy: 0.6417 - lr: 1.2500e-04\n",
            "Epoch 23/50\n",
            "23/23 [==============================] - ETA: 0s - loss: 0.0022 - categorical_accuracy: 1.0000\n",
            "Epoch 23: saving model to model_init_2022-02-2804_52_07.394475/model-00023-0.00223-1.00000-15.73958-0.70000.h5\n",
            "23/23 [==============================] - 82s 4s/step - loss: 0.0022 - categorical_accuracy: 1.0000 - val_loss: 15.7396 - val_categorical_accuracy: 0.7000 - lr: 1.2500e-04\n",
            "Epoch 24/50\n",
            "23/23 [==============================] - ETA: 0s - loss: 0.0011 - categorical_accuracy: 1.0000\n",
            "Epoch 24: saving model to model_init_2022-02-2804_52_07.394475/model-00024-0.00109-1.00000-14.53111-0.69167.h5\n",
            "23/23 [==============================] - 85s 4s/step - loss: 0.0011 - categorical_accuracy: 1.0000 - val_loss: 14.5311 - val_categorical_accuracy: 0.6917 - lr: 1.2500e-04\n",
            "Epoch 25/50\n",
            "23/23 [==============================] - ETA: 0s - loss: 0.0013 - categorical_accuracy: 1.0000\n",
            "Epoch 25: saving model to model_init_2022-02-2804_52_07.394475/model-00025-0.00131-1.00000-10.47668-0.70833.h5\n",
            "23/23 [==============================] - 85s 4s/step - loss: 0.0013 - categorical_accuracy: 1.0000 - val_loss: 10.4767 - val_categorical_accuracy: 0.7083 - lr: 1.2500e-04\n",
            "Epoch 26/50\n",
            "23/23 [==============================] - ETA: 0s - loss: 0.0275 - categorical_accuracy: 0.9986\n",
            "Epoch 26: saving model to model_init_2022-02-2804_52_07.394475/model-00026-0.02755-0.99855-11.06510-0.72500.h5\n",
            "23/23 [==============================] - 82s 4s/step - loss: 0.0275 - categorical_accuracy: 0.9986 - val_loss: 11.0651 - val_categorical_accuracy: 0.7250 - lr: 1.2500e-04\n",
            "Epoch 27/50\n",
            "23/23 [==============================] - ETA: 0s - loss: 7.9452e-04 - categorical_accuracy: 1.0000\n",
            "Epoch 27: saving model to model_init_2022-02-2804_52_07.394475/model-00027-0.00079-1.00000-10.15982-0.72500.h5\n",
            "23/23 [==============================] - 85s 4s/step - loss: 7.9452e-04 - categorical_accuracy: 1.0000 - val_loss: 10.1598 - val_categorical_accuracy: 0.7250 - lr: 1.2500e-04\n",
            "Epoch 28/50\n",
            "23/23 [==============================] - ETA: 0s - loss: 0.0015 - categorical_accuracy: 1.0000\n",
            "Epoch 28: saving model to model_init_2022-02-2804_52_07.394475/model-00028-0.00147-1.00000-8.71755-0.71667.h5\n",
            "23/23 [==============================] - 85s 4s/step - loss: 0.0015 - categorical_accuracy: 1.0000 - val_loss: 8.7176 - val_categorical_accuracy: 0.7167 - lr: 1.2500e-04\n",
            "Epoch 29/50\n",
            "23/23 [==============================] - ETA: 0s - loss: 0.0012 - categorical_accuracy: 1.0000\n",
            "Epoch 29: saving model to model_init_2022-02-2804_52_07.394475/model-00029-0.00117-1.00000-6.64775-0.70833.h5\n",
            "23/23 [==============================] - 82s 4s/step - loss: 0.0012 - categorical_accuracy: 1.0000 - val_loss: 6.6478 - val_categorical_accuracy: 0.7083 - lr: 1.2500e-04\n",
            "Epoch 30/50\n",
            "23/23 [==============================] - ETA: 0s - loss: 0.0013 - categorical_accuracy: 1.0000\n",
            "Epoch 30: saving model to model_init_2022-02-2804_52_07.394475/model-00030-0.00128-1.00000-6.53253-0.71667.h5\n",
            "23/23 [==============================] - 85s 4s/step - loss: 0.0013 - categorical_accuracy: 1.0000 - val_loss: 6.5325 - val_categorical_accuracy: 0.7167 - lr: 1.2500e-04\n",
            "Epoch 31/50\n",
            "23/23 [==============================] - ETA: 0s - loss: 5.5236e-04 - categorical_accuracy: 1.0000\n",
            "Epoch 31: saving model to model_init_2022-02-2804_52_07.394475/model-00031-0.00055-1.00000-5.85332-0.74167.h5\n",
            "23/23 [==============================] - 81s 4s/step - loss: 5.5236e-04 - categorical_accuracy: 1.0000 - val_loss: 5.8533 - val_categorical_accuracy: 0.7417 - lr: 1.2500e-04\n",
            "Epoch 32/50\n",
            "23/23 [==============================] - ETA: 0s - loss: 0.0011 - categorical_accuracy: 1.0000\n",
            "Epoch 32: saving model to model_init_2022-02-2804_52_07.394475/model-00032-0.00106-1.00000-5.98552-0.73333.h5\n",
            "23/23 [==============================] - 85s 4s/step - loss: 0.0011 - categorical_accuracy: 1.0000 - val_loss: 5.9855 - val_categorical_accuracy: 0.7333 - lr: 1.2500e-04\n",
            "Epoch 33/50\n",
            "23/23 [==============================] - ETA: 0s - loss: 0.0035 - categorical_accuracy: 0.9986\n",
            "Epoch 33: saving model to model_init_2022-02-2804_52_07.394475/model-00033-0.00354-0.99855-4.53132-0.75000.h5\n",
            "23/23 [==============================] - 86s 4s/step - loss: 0.0035 - categorical_accuracy: 0.9986 - val_loss: 4.5313 - val_categorical_accuracy: 0.7500 - lr: 1.2500e-04\n",
            "Epoch 34/50\n",
            "23/23 [==============================] - ETA: 0s - loss: 0.0098 - categorical_accuracy: 0.9986\n",
            "Epoch 34: saving model to model_init_2022-02-2804_52_07.394475/model-00034-0.00980-0.99855-5.24472-0.79167.h5\n",
            "23/23 [==============================] - 84s 4s/step - loss: 0.0098 - categorical_accuracy: 0.9986 - val_loss: 5.2447 - val_categorical_accuracy: 0.7917 - lr: 1.2500e-04\n",
            "Epoch 35/50\n",
            "23/23 [==============================] - ETA: 0s - loss: 8.5368e-04 - categorical_accuracy: 1.0000\n",
            "Epoch 35: saving model to model_init_2022-02-2804_52_07.394475/model-00035-0.00085-1.00000-5.04733-0.75833.h5\n",
            "23/23 [==============================] - 82s 4s/step - loss: 8.5368e-04 - categorical_accuracy: 1.0000 - val_loss: 5.0473 - val_categorical_accuracy: 0.7583 - lr: 1.2500e-04\n",
            "Epoch 36/50\n",
            "23/23 [==============================] - ETA: 0s - loss: 7.5350e-04 - categorical_accuracy: 1.0000\n",
            "Epoch 36: saving model to model_init_2022-02-2804_52_07.394475/model-00036-0.00075-1.00000-5.87094-0.72500.h5\n",
            "23/23 [==============================] - 82s 4s/step - loss: 7.5350e-04 - categorical_accuracy: 1.0000 - val_loss: 5.8709 - val_categorical_accuracy: 0.7250 - lr: 1.2500e-04\n",
            "Epoch 37/50\n",
            "23/23 [==============================] - ETA: 0s - loss: 0.0064 - categorical_accuracy: 0.9986\n",
            "Epoch 37: saving model to model_init_2022-02-2804_52_07.394475/model-00037-0.00635-0.99855-5.35917-0.73333.h5\n",
            "23/23 [==============================] - 85s 4s/step - loss: 0.0064 - categorical_accuracy: 0.9986 - val_loss: 5.3592 - val_categorical_accuracy: 0.7333 - lr: 1.2500e-04\n",
            "Epoch 38/50\n",
            "23/23 [==============================] - ETA: 0s - loss: 9.8943e-04 - categorical_accuracy: 1.0000\n",
            "Epoch 38: saving model to model_init_2022-02-2804_52_07.394475/model-00038-0.00099-1.00000-5.83071-0.74167.h5\n",
            "\n",
            "Epoch 38: ReduceLROnPlateau reducing learning rate to 6.25000029685907e-05.\n",
            "23/23 [==============================] - 85s 4s/step - loss: 9.8943e-04 - categorical_accuracy: 1.0000 - val_loss: 5.8307 - val_categorical_accuracy: 0.7417 - lr: 1.2500e-04\n",
            "Epoch 39/50\n",
            "23/23 [==============================] - ETA: 0s - loss: 0.0182 - categorical_accuracy: 0.9986\n",
            "Epoch 39: saving model to model_init_2022-02-2804_52_07.394475/model-00039-0.01818-0.99855-6.43064-0.68333.h5\n",
            "23/23 [==============================] - 82s 4s/step - loss: 0.0182 - categorical_accuracy: 0.9986 - val_loss: 6.4306 - val_categorical_accuracy: 0.6833 - lr: 6.2500e-05\n",
            "Epoch 40/50\n",
            "23/23 [==============================] - ETA: 0s - loss: 7.5942e-04 - categorical_accuracy: 1.0000\n",
            "Epoch 40: saving model to model_init_2022-02-2804_52_07.394475/model-00040-0.00076-1.00000-6.07303-0.70833.h5\n",
            "23/23 [==============================] - 85s 4s/step - loss: 7.5942e-04 - categorical_accuracy: 1.0000 - val_loss: 6.0730 - val_categorical_accuracy: 0.7083 - lr: 6.2500e-05\n",
            "Epoch 41/50\n",
            "23/23 [==============================] - ETA: 0s - loss: 5.9994e-04 - categorical_accuracy: 1.0000\n",
            "Epoch 41: saving model to model_init_2022-02-2804_52_07.394475/model-00041-0.00060-1.00000-5.75960-0.71667.h5\n",
            "23/23 [==============================] - 81s 4s/step - loss: 5.9994e-04 - categorical_accuracy: 1.0000 - val_loss: 5.7596 - val_categorical_accuracy: 0.7167 - lr: 6.2500e-05\n",
            "Epoch 41: early stopping\n"
          ]
        }
      ]
    },
    {
      "cell_type": "code",
      "source": [
        "acc = history6.history['categorical_accuracy']\n",
        "val_acc = history6.history['val_categorical_accuracy']\n",
        "\n",
        "loss = history6.history['loss']\n",
        "val_loss = history6.history['val_loss']"
      ],
      "metadata": {
        "id": "iAzr2Qb_VtzJ"
      },
      "execution_count": null,
      "outputs": []
    },
    {
      "cell_type": "code",
      "source": [
        "epochs_range =  range(40)\n",
        "\n",
        "plt.figure(figsize=(8, 8))\n",
        "plt.subplot(1, 2, 1)\n",
        "plt.plot(epochs_range, acc, label='Training Accuracy')\n",
        "plt.plot(epochs_range, val_acc, label='Validation Accuracy')\n",
        "plt.legend(loc='lower right')\n",
        "plt.title('Training and Validation Accuracy')\n",
        "\n",
        "plt.subplot(1, 2, 2)\n",
        "plt.plot(epochs_range, loss, label='Training Loss')\n",
        "plt.plot(epochs_range, val_loss, label='Validation Loss')\n",
        "plt.legend(loc='upper right')\n",
        "plt.title('Training and Validation Loss')\n",
        "plt.show()"
      ],
      "metadata": {
        "id": "gQakrvKCpTcF"
      },
      "execution_count": null,
      "outputs": []
    }
  ],
  "metadata": {
    "colab": {
      "collapsed_sections": [],
      "name": "RNNAssignent_Hetal.ipynb",
      "provenance": []
    },
    "kernelspec": {
      "display_name": "Python 3",
      "language": "python",
      "name": "python3"
    },
    "language_info": {
      "codemirror_mode": {
        "name": "ipython",
        "version": 3
      },
      "file_extension": ".py",
      "mimetype": "text/x-python",
      "name": "python",
      "nbconvert_exporter": "python",
      "pygments_lexer": "ipython3",
      "version": "3.6.5"
    },
    "accelerator": "GPU"
  },
  "nbformat": 4,
  "nbformat_minor": 0
}